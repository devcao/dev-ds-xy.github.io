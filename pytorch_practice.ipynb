{
  "nbformat": 4,
  "nbformat_minor": 0,
  "metadata": {
    "colab": {
      "name": "imdb_movie_review.ipynb",
      "version": "0.3.2",
      "provenance": []
    },
    "language_info": {
      "codemirror_mode": {
        "name": "ipython",
        "version": 3
      },
      "file_extension": ".py",
      "mimetype": "text/x-python",
      "name": "python",
      "nbconvert_exporter": "python",
      "pygments_lexer": "ipython3",
      "version": "3.7.3"
    },
    "kernelspec": {
      "name": "python3",
      "display_name": "Python 3"
    },
    "accelerator": "GPU"
  },
  "cells": [
    {
      "cell_type": "code",
      "metadata": {
        "id": "TgTMaizV4rz9",
        "colab_type": "code",
        "colab": {}
      },
      "source": [
        "import torch\n",
        "import torchvision\n",
        "\n",
        "import torchvision.transforms as transforms"
      ],
      "execution_count": 0,
      "outputs": []
    },
    {
      "cell_type": "markdown",
      "metadata": {
        "id": "TXATAK140Yv-",
        "colab_type": "text"
      },
      "source": [
        "## Pytorch basics"
      ]
    },
    {
      "cell_type": "code",
      "metadata": {
        "id": "Y96Fw0PVwocx",
        "colab_type": "code",
        "colab": {}
      },
      "source": [
        ""
      ],
      "execution_count": 0,
      "outputs": []
    },
    {
      "cell_type": "code",
      "metadata": {
        "id": "4MpaBGIGwvqk",
        "colab_type": "code",
        "outputId": "43ec030a-bb6f-425a-e4f1-fbd0fbf831f5",
        "colab": {
          "base_uri": "https://localhost:8080/",
          "height": 102
        }
      },
      "source": [
        "x = torch.empty(5, 5)\n",
        "x"
      ],
      "execution_count": 0,
      "outputs": [
        {
          "output_type": "execute_result",
          "data": {
            "text/plain": [
              "tensor([[0.0000e+00, 0.0000e+00, 6.8664e-44, 7.9874e-44, 6.3058e-44],\n",
              "        [6.7262e-44, 7.7071e-44, 6.3058e-44, 6.8664e-44, 7.5670e-44],\n",
              "        [1.1771e-43, 7.0065e-44, 6.8664e-44, 8.1275e-44, 7.2868e-44],\n",
              "        [7.9874e-44, 8.1275e-44, 7.4269e-44, 7.1466e-44, 6.4460e-44],\n",
              "        [7.7071e-44, 7.7071e-44, 6.7262e-44, 7.2868e-44, 7.5670e-44]])"
            ]
          },
          "metadata": {
            "tags": []
          },
          "execution_count": 3
        }
      ]
    },
    {
      "cell_type": "code",
      "metadata": {
        "id": "sBj3td2Pw1u_",
        "colab_type": "code",
        "outputId": "71b42e99-e9a5-4e64-b5a0-fef51066aa6a",
        "colab": {
          "base_uri": "https://localhost:8080/",
          "height": 51
        }
      },
      "source": [
        "torch.rand(2,2)"
      ],
      "execution_count": 0,
      "outputs": [
        {
          "output_type": "execute_result",
          "data": {
            "text/plain": [
              "tensor([[0.0462, 0.0250],\n",
              "        [0.7451, 0.8604]])"
            ]
          },
          "metadata": {
            "tags": []
          },
          "execution_count": 4
        }
      ]
    },
    {
      "cell_type": "code",
      "metadata": {
        "id": "ZQwrR_omw91O",
        "colab_type": "code",
        "outputId": "e8d6191c-765f-4212-c2e7-40daea907d83",
        "colab": {
          "base_uri": "https://localhost:8080/",
          "height": 51
        }
      },
      "source": [
        "torch.zeros(2,2, dtype=torch.long)"
      ],
      "execution_count": 0,
      "outputs": [
        {
          "output_type": "execute_result",
          "data": {
            "text/plain": [
              "tensor([[0, 0],\n",
              "        [0, 0]])"
            ]
          },
          "metadata": {
            "tags": []
          },
          "execution_count": 11
        }
      ]
    },
    {
      "cell_type": "code",
      "metadata": {
        "id": "QrdBGrH7xCUU",
        "colab_type": "code",
        "colab": {}
      },
      "source": [
        "??torch.zeros"
      ],
      "execution_count": 0,
      "outputs": []
    },
    {
      "cell_type": "code",
      "metadata": {
        "id": "WWWkqUk8w_z9",
        "colab_type": "code",
        "outputId": "130dffb4-1c49-4010-b281-16295c670a42",
        "colab": {
          "base_uri": "https://localhost:8080/",
          "height": 51
        }
      },
      "source": [
        "torch.tensor([[1,2],[4,5]])"
      ],
      "execution_count": 0,
      "outputs": [
        {
          "output_type": "execute_result",
          "data": {
            "text/plain": [
              "tensor([[1, 2],\n",
              "        [4, 5]])"
            ]
          },
          "metadata": {
            "tags": []
          },
          "execution_count": 13
        }
      ]
    },
    {
      "cell_type": "code",
      "metadata": {
        "id": "jusd4Ay2xTXA",
        "colab_type": "code",
        "colab": {}
      },
      "source": [
        "x = torch.tensor(range(4), dtype = torch.double)"
      ],
      "execution_count": 0,
      "outputs": []
    },
    {
      "cell_type": "code",
      "metadata": {
        "id": "Xbj8lZOlx-uP",
        "colab_type": "code",
        "outputId": "d9039d6e-2b1a-4113-8646-b9348dd44164",
        "colab": {
          "base_uri": "https://localhost:8080/",
          "height": 119
        }
      },
      "source": [
        "print(x.new_ones(5,3))  # what is the point of this ? \n",
        "print(x)"
      ],
      "execution_count": 0,
      "outputs": [
        {
          "output_type": "stream",
          "text": [
            "tensor([[1., 1., 1.],\n",
            "        [1., 1., 1.],\n",
            "        [1., 1., 1.],\n",
            "        [1., 1., 1.],\n",
            "        [1., 1., 1.]], dtype=torch.float64)\n",
            "tensor([0., 1., 2., 3.], dtype=torch.float64)\n"
          ],
          "name": "stdout"
        }
      ]
    },
    {
      "cell_type": "code",
      "metadata": {
        "id": "ZhXP-6sEx_ov",
        "colab_type": "code",
        "outputId": "7242b01b-da31-428f-adcc-a51342912c0d",
        "colab": {
          "base_uri": "https://localhost:8080/",
          "height": 34
        }
      },
      "source": [
        "torch.randn_like(x)"
      ],
      "execution_count": 0,
      "outputs": [
        {
          "output_type": "execute_result",
          "data": {
            "text/plain": [
              "tensor([-0.6031, -0.6388, -1.2493,  1.4617], dtype=torch.float64)"
            ]
          },
          "metadata": {
            "tags": []
          },
          "execution_count": 23
        }
      ]
    },
    {
      "cell_type": "code",
      "metadata": {
        "id": "hyd8hHFDyItQ",
        "colab_type": "code",
        "outputId": "b63a7c51-ad9e-4c08-8065-ab29705a87a0",
        "colab": {
          "base_uri": "https://localhost:8080/",
          "height": 51
        }
      },
      "source": [
        "print(x.shape)  # same \n",
        "print(x.size())"
      ],
      "execution_count": 0,
      "outputs": [
        {
          "output_type": "stream",
          "text": [
            "torch.Size([4])\n",
            "torch.Size([4])\n"
          ],
          "name": "stdout"
        }
      ]
    },
    {
      "cell_type": "code",
      "metadata": {
        "id": "8DkQJFfqydNO",
        "colab_type": "code",
        "outputId": "81cf0eb1-ae26-47c8-eff3-ba92f3c7aba5",
        "colab": {
          "base_uri": "https://localhost:8080/",
          "height": 34
        }
      },
      "source": [
        "x + torch.tensor(range(4), dtype = torch.double)"
      ],
      "execution_count": 0,
      "outputs": [
        {
          "output_type": "execute_result",
          "data": {
            "text/plain": [
              "tensor([0., 2., 4., 6.], dtype=torch.float64)"
            ]
          },
          "metadata": {
            "tags": []
          },
          "execution_count": 28
        }
      ]
    },
    {
      "cell_type": "code",
      "metadata": {
        "id": "RElnyRg0ypRO",
        "colab_type": "code",
        "colab": {}
      },
      "source": [
        "y = torch.tensor(range(4), dtype = torch.double)"
      ],
      "execution_count": 0,
      "outputs": []
    },
    {
      "cell_type": "code",
      "metadata": {
        "id": "2nOjYQ0cyzkv",
        "colab_type": "code",
        "outputId": "869eec61-8346-4226-b3de-4178ff204d4f",
        "colab": {
          "base_uri": "https://localhost:8080/",
          "height": 34
        }
      },
      "source": [
        "y.add_(x) # y = y + x"
      ],
      "execution_count": 0,
      "outputs": [
        {
          "output_type": "execute_result",
          "data": {
            "text/plain": [
              "tensor([0., 2., 4., 6.], dtype=torch.float64)"
            ]
          },
          "metadata": {
            "tags": []
          },
          "execution_count": 30
        }
      ]
    },
    {
      "cell_type": "code",
      "metadata": {
        "id": "HT_muasky2F_",
        "colab_type": "code",
        "outputId": "e6688d22-e72b-4982-ea59-e7f6d0792b21",
        "colab": {
          "base_uri": "https://localhost:8080/",
          "height": 34
        }
      },
      "source": [
        "y"
      ],
      "execution_count": 0,
      "outputs": [
        {
          "output_type": "execute_result",
          "data": {
            "text/plain": [
              "tensor([0., 2., 4., 6.], dtype=torch.float64)"
            ]
          },
          "metadata": {
            "tags": []
          },
          "execution_count": 31
        }
      ]
    },
    {
      "cell_type": "code",
      "metadata": {
        "id": "UzRdT2Rvy3Jv",
        "colab_type": "code",
        "outputId": "02eaa492-1e04-47d5-9be8-0fd983a1a4f8",
        "colab": {
          "base_uri": "https://localhost:8080/",
          "height": 34
        }
      },
      "source": [
        "x = torch.randn(4, 4)\n",
        "y = x.view(16)\n",
        "z = x.view(-1, 8)  # the size -1 is inferred from other dimensions\n",
        "print(x.size(), y.size(), z.size())"
      ],
      "execution_count": 0,
      "outputs": [
        {
          "output_type": "stream",
          "text": [
            "torch.Size([4, 4]) torch.Size([16]) torch.Size([2, 8])\n"
          ],
          "name": "stdout"
        }
      ]
    },
    {
      "cell_type": "code",
      "metadata": {
        "id": "VQaIUiwFzBA9",
        "colab_type": "code",
        "outputId": "52e4bc6d-8934-4c76-da6f-c355cf9958e1",
        "colab": {
          "base_uri": "https://localhost:8080/",
          "height": 85
        }
      },
      "source": [
        "x"
      ],
      "execution_count": 0,
      "outputs": [
        {
          "output_type": "execute_result",
          "data": {
            "text/plain": [
              "tensor([[-1.3778, -1.2523,  0.2914,  2.0074],\n",
              "        [ 0.0446,  0.7125, -0.9100, -1.5203],\n",
              "        [ 0.7891, -2.1536, -2.2918,  1.0709],\n",
              "        [ 1.2489, -0.3730,  1.3713,  0.4874]])"
            ]
          },
          "metadata": {
            "tags": []
          },
          "execution_count": 33
        }
      ]
    },
    {
      "cell_type": "code",
      "metadata": {
        "id": "Kww6B8qSzHBv",
        "colab_type": "code",
        "outputId": "ce200cf8-e571-4602-b073-403683eed441",
        "colab": {
          "base_uri": "https://localhost:8080/",
          "height": 102
        }
      },
      "source": [
        "x.numpy()"
      ],
      "execution_count": 0,
      "outputs": [
        {
          "output_type": "execute_result",
          "data": {
            "text/plain": [
              "array([[ 0.62224495,  0.7477238 ,  2.2914345 ,  4.007374  ],\n",
              "       [ 2.044599  ,  2.7124665 ,  1.0900159 ,  0.47973967],\n",
              "       [ 2.789056  , -0.15356159, -0.29184008,  3.0709243 ],\n",
              "       [ 3.2488632 ,  1.6269643 ,  3.3712604 ,  2.4874258 ]],\n",
              "      dtype=float32)"
            ]
          },
          "metadata": {
            "tags": []
          },
          "execution_count": 39
        }
      ]
    },
    {
      "cell_type": "code",
      "metadata": {
        "id": "TlgeU_5tzIfO",
        "colab_type": "code",
        "outputId": "0ab857ba-db91-4fc4-f565-589be552d447",
        "colab": {
          "base_uri": "https://localhost:8080/",
          "height": 85
        }
      },
      "source": [
        "y = x.numpy()\n",
        "print(y)"
      ],
      "execution_count": 0,
      "outputs": [
        {
          "output_type": "stream",
          "text": [
            "[[ 0.62224495  0.7477238   2.2914345   4.007374  ]\n",
            " [ 2.044599    2.7124665   1.0900159   0.47973967]\n",
            " [ 2.789056   -0.15356159 -0.29184008  3.0709243 ]\n",
            " [ 3.2488632   1.6269643   3.3712604   2.4874258 ]]\n"
          ],
          "name": "stdout"
        }
      ]
    },
    {
      "cell_type": "code",
      "metadata": {
        "id": "gqMTLxTMzUSO",
        "colab_type": "code",
        "outputId": "ff4cf1e4-2c27-4219-8e13-1e4d5d329b68",
        "colab": {
          "base_uri": "https://localhost:8080/",
          "height": 153
        }
      },
      "source": [
        "x.add_(1)  # x and y both change values\n",
        "x, y"
      ],
      "execution_count": 0,
      "outputs": [
        {
          "output_type": "execute_result",
          "data": {
            "text/plain": [
              "(tensor([[1.6222, 1.7477, 3.2914, 5.0074],\n",
              "         [3.0446, 3.7125, 2.0900, 1.4797],\n",
              "         [3.7891, 0.8464, 0.7082, 4.0709],\n",
              "         [4.2489, 2.6270, 4.3713, 3.4874]]),\n",
              " array([[1.622245 , 1.7477238, 3.2914345, 5.007374 ],\n",
              "        [3.044599 , 3.7124665, 2.090016 , 1.4797397],\n",
              "        [3.789056 , 0.8464384, 0.7081599, 4.0709243],\n",
              "        [4.248863 , 2.6269643, 4.3712606, 3.4874258]], dtype=float32))"
            ]
          },
          "metadata": {
            "tags": []
          },
          "execution_count": 41
        }
      ]
    },
    {
      "cell_type": "code",
      "metadata": {
        "id": "_Y-oc096zJJ7",
        "colab_type": "code",
        "outputId": "3f98acf6-dba1-4c55-dc4a-f4d1f1b30126",
        "colab": {
          "base_uri": "https://localhost:8080/",
          "height": 153
        }
      },
      "source": [
        "x = x + 1 # only change x\n",
        "x, y"
      ],
      "execution_count": 0,
      "outputs": [
        {
          "output_type": "execute_result",
          "data": {
            "text/plain": [
              "(tensor([[2.6222, 2.7477, 4.2914, 6.0074],\n",
              "         [4.0446, 4.7125, 3.0900, 2.4797],\n",
              "         [4.7891, 1.8464, 1.7082, 5.0709],\n",
              "         [5.2489, 3.6270, 5.3713, 4.4874]]),\n",
              " array([[1.622245 , 1.7477238, 3.2914345, 5.007374 ],\n",
              "        [3.044599 , 3.7124665, 2.090016 , 1.4797397],\n",
              "        [3.789056 , 0.8464384, 0.7081599, 4.0709243],\n",
              "        [4.248863 , 2.6269643, 4.3712606, 3.4874258]], dtype=float32))"
            ]
          },
          "metadata": {
            "tags": []
          },
          "execution_count": 42
        }
      ]
    },
    {
      "cell_type": "code",
      "metadata": {
        "id": "ZFmdW840zZ29",
        "colab_type": "code",
        "outputId": "4e367d9b-134f-41fd-d9ee-0e42717bc1b4",
        "colab": {
          "base_uri": "https://localhost:8080/",
          "height": 34
        }
      },
      "source": [
        "import numpy as np\n",
        "a = np.random.randn(5)\n",
        "a"
      ],
      "execution_count": 0,
      "outputs": [
        {
          "output_type": "execute_result",
          "data": {
            "text/plain": [
              "array([ 1.27008064,  0.38176109, -1.86975933,  0.49286453,  0.08534811])"
            ]
          },
          "metadata": {
            "tags": []
          },
          "execution_count": 47
        }
      ]
    },
    {
      "cell_type": "code",
      "metadata": {
        "id": "K61DSknmzokh",
        "colab_type": "code",
        "outputId": "cad8a600-e14d-45c0-d074-0b501e087c34",
        "colab": {
          "base_uri": "https://localhost:8080/",
          "height": 51
        }
      },
      "source": [
        "b = torch.from_numpy(a)\n",
        "np.add(a, 1, out = a)\n",
        "print(a)\n",
        "print(b)"
      ],
      "execution_count": 0,
      "outputs": [
        {
          "output_type": "stream",
          "text": [
            "[ 2.27008064  1.38176109 -0.86975933  1.49286453  1.08534811]\n",
            "tensor([ 2.2701,  1.3818, -0.8698,  1.4929,  1.0853], dtype=torch.float64)\n"
          ],
          "name": "stdout"
        }
      ]
    },
    {
      "cell_type": "code",
      "metadata": {
        "id": "EmX3FC4Wz30x",
        "colab_type": "code",
        "outputId": "4f6dc310-3857-4364-a473-ceb36031d430",
        "colab": {
          "base_uri": "https://localhost:8080/",
          "height": 51
        }
      },
      "source": [
        "a = a + 1\n",
        "print(a)\n",
        "print(b)"
      ],
      "execution_count": 0,
      "outputs": [
        {
          "output_type": "stream",
          "text": [
            "[3.27008064 2.38176109 0.13024067 2.49286453 2.08534811]\n",
            "tensor([ 2.2701,  1.3818, -0.8698,  1.4929,  1.0853], dtype=torch.float64)\n"
          ],
          "name": "stdout"
        }
      ]
    },
    {
      "cell_type": "code",
      "metadata": {
        "id": "mvs04Ux-z7Iy",
        "colab_type": "code",
        "outputId": "21794afd-4b38-4ce7-da45-c3bac6bc2fe2",
        "colab": {
          "base_uri": "https://localhost:8080/",
          "height": 34
        }
      },
      "source": [
        "torch.cuda.is_available()"
      ],
      "execution_count": 0,
      "outputs": [
        {
          "output_type": "execute_result",
          "data": {
            "text/plain": [
              "True"
            ]
          },
          "metadata": {
            "tags": []
          },
          "execution_count": 50
        }
      ]
    },
    {
      "cell_type": "code",
      "metadata": {
        "id": "-C5jGlRmz_yQ",
        "colab_type": "code",
        "outputId": "59a7a7e8-f1f7-4f92-e443-1b316b87c1d3",
        "colab": {
          "base_uri": "https://localhost:8080/",
          "height": 34
        }
      },
      "source": [
        "device = torch.device(\"cuda\")\n",
        "device"
      ],
      "execution_count": 0,
      "outputs": [
        {
          "output_type": "execute_result",
          "data": {
            "text/plain": [
              "device(type='cuda')"
            ]
          },
          "metadata": {
            "tags": []
          },
          "execution_count": 52
        }
      ]
    },
    {
      "cell_type": "code",
      "metadata": {
        "id": "uF0x1x7g0FA-",
        "colab_type": "code",
        "colab": {}
      },
      "source": [
        "y = torch.ones_like(x, device=device)  # directly create a tensor on GPU\n",
        "x = x.to(device)                       # or just use strings ``.to(\"cuda\")``\n",
        "z = x + y"
      ],
      "execution_count": 0,
      "outputs": []
    },
    {
      "cell_type": "code",
      "metadata": {
        "id": "qU7dyoQY0MnB",
        "colab_type": "code",
        "outputId": "57d2e55e-22c3-4f3e-ee54-d8da6714afa0",
        "colab": {
          "base_uri": "https://localhost:8080/",
          "height": 85
        }
      },
      "source": [
        "z"
      ],
      "execution_count": 0,
      "outputs": [
        {
          "output_type": "execute_result",
          "data": {
            "text/plain": [
              "tensor([[3.6222, 3.7477, 5.2914, 7.0074],\n",
              "        [5.0446, 5.7125, 4.0900, 3.4797],\n",
              "        [5.7891, 2.8464, 2.7082, 6.0709],\n",
              "        [6.2489, 4.6270, 6.3713, 5.4874]], device='cuda:0')"
            ]
          },
          "metadata": {
            "tags": []
          },
          "execution_count": 54
        }
      ]
    },
    {
      "cell_type": "code",
      "metadata": {
        "id": "fy5X-QDn0Nex",
        "colab_type": "code",
        "outputId": "ae0d4684-892a-474b-956a-539c251912ad",
        "colab": {
          "base_uri": "https://localhost:8080/",
          "height": 85
        }
      },
      "source": [
        "x"
      ],
      "execution_count": 0,
      "outputs": [
        {
          "output_type": "execute_result",
          "data": {
            "text/plain": [
              "tensor([[2.6222, 2.7477, 4.2914, 6.0074],\n",
              "        [4.0446, 4.7125, 3.0900, 2.4797],\n",
              "        [4.7891, 1.8464, 1.7082, 5.0709],\n",
              "        [5.2489, 3.6270, 5.3713, 4.4874]], device='cuda:0')"
            ]
          },
          "metadata": {
            "tags": []
          },
          "execution_count": 55
        }
      ]
    },
    {
      "cell_type": "markdown",
      "metadata": {
        "id": "gWR6L_wl0cnj",
        "colab_type": "text"
      },
      "source": [
        "## Autograd"
      ]
    },
    {
      "cell_type": "code",
      "metadata": {
        "id": "1U0MbwJB0eJR",
        "colab_type": "code",
        "outputId": "a850fd54-2ca4-4fe2-d34a-6c63e06af6d9",
        "colab": {
          "base_uri": "https://localhost:8080/",
          "height": 51
        }
      },
      "source": [
        "x = torch.ones(2,2, requires_grad=True)\n",
        "x"
      ],
      "execution_count": 3,
      "outputs": [
        {
          "output_type": "execute_result",
          "data": {
            "text/plain": [
              "tensor([[1., 1.],\n",
              "        [1., 1.]], requires_grad=True)"
            ]
          },
          "metadata": {
            "tags": []
          },
          "execution_count": 3
        }
      ]
    },
    {
      "cell_type": "code",
      "metadata": {
        "id": "yCLBDF-P0z9B",
        "colab_type": "code",
        "outputId": "86b7a910-ab9e-4cf4-95d4-c709e4a48c17",
        "colab": {
          "base_uri": "https://localhost:8080/",
          "height": 51
        }
      },
      "source": [
        "y = x + 2\n",
        "y"
      ],
      "execution_count": 4,
      "outputs": [
        {
          "output_type": "execute_result",
          "data": {
            "text/plain": [
              "tensor([[3., 3.],\n",
              "        [3., 3.]], grad_fn=<AddBackward0>)"
            ]
          },
          "metadata": {
            "tags": []
          },
          "execution_count": 4
        }
      ]
    },
    {
      "cell_type": "code",
      "metadata": {
        "id": "tm2-sRZv1G6x",
        "colab_type": "code",
        "outputId": "b94dc8e9-8ae2-477f-a560-440a014b2ae2",
        "colab": {
          "base_uri": "https://localhost:8080/",
          "height": 51
        }
      },
      "source": [
        "p = x * 2\n",
        "p"
      ],
      "execution_count": 5,
      "outputs": [
        {
          "output_type": "execute_result",
          "data": {
            "text/plain": [
              "tensor([[2., 2.],\n",
              "        [2., 2.]], grad_fn=<MulBackward0>)"
            ]
          },
          "metadata": {
            "tags": []
          },
          "execution_count": 5
        }
      ]
    },
    {
      "cell_type": "code",
      "metadata": {
        "id": "_PWG1wM01JWx",
        "colab_type": "code",
        "outputId": "c62268ac-2197-4f21-f02b-ccc3ad479108",
        "colab": {
          "base_uri": "https://localhost:8080/",
          "height": 34
        }
      },
      "source": [
        "print(y.grad_fn)"
      ],
      "execution_count": 6,
      "outputs": [
        {
          "output_type": "stream",
          "text": [
            "<AddBackward0 object at 0x7f65739eefd0>\n"
          ],
          "name": "stdout"
        }
      ]
    },
    {
      "cell_type": "code",
      "metadata": {
        "id": "80C6m-sZ1MOS",
        "colab_type": "code",
        "outputId": "e9d71e5d-4262-4c83-d7d2-ff04eae1b5da",
        "colab": {
          "base_uri": "https://localhost:8080/",
          "height": 68
        }
      },
      "source": [
        "a = torch.randn(2, 2)\n",
        "a = ((a * 3) / (a - 1))\n",
        "print(a.requires_grad)\n",
        "a.requires_grad_(True)\n",
        "print(a.requires_grad)\n",
        "b = (a * a).sum()\n",
        "print(b.grad_fn)"
      ],
      "execution_count": 0,
      "outputs": [
        {
          "output_type": "stream",
          "text": [
            "False\n",
            "True\n",
            "<SumBackward0 object at 0x7f5f32429f98>\n"
          ],
          "name": "stdout"
        }
      ]
    },
    {
      "cell_type": "code",
      "metadata": {
        "id": "j2q6wAaM63-6",
        "colab_type": "code",
        "outputId": "4ad6f66f-366e-4b2b-e14f-afd70cf7b813",
        "colab": {
          "base_uri": "https://localhost:8080/",
          "height": 51
        }
      },
      "source": [
        "x"
      ],
      "execution_count": 7,
      "outputs": [
        {
          "output_type": "execute_result",
          "data": {
            "text/plain": [
              "tensor([[1., 1.],\n",
              "        [1., 1.]], requires_grad=True)"
            ]
          },
          "metadata": {
            "tags": []
          },
          "execution_count": 7
        }
      ]
    },
    {
      "cell_type": "code",
      "metadata": {
        "id": "kZe8X-yN1WiP",
        "colab_type": "code",
        "outputId": "4be1d2d8-87a6-48db-ae03-40f982521b57",
        "colab": {
          "base_uri": "https://localhost:8080/",
          "height": 68
        }
      },
      "source": [
        "z = y * y * 3\n",
        "out = z.mean()\n",
        "z, out"
      ],
      "execution_count": 8,
      "outputs": [
        {
          "output_type": "execute_result",
          "data": {
            "text/plain": [
              "(tensor([[27., 27.],\n",
              "         [27., 27.]], grad_fn=<MulBackward0>),\n",
              " tensor(27., grad_fn=<MeanBackward0>))"
            ]
          },
          "metadata": {
            "tags": []
          },
          "execution_count": 8
        }
      ]
    },
    {
      "cell_type": "code",
      "metadata": {
        "id": "bZt_eFHt6zqI",
        "colab_type": "code",
        "outputId": "8fd4e4b2-58d5-41b4-8981-9e729f289744",
        "colab": {
          "base_uri": "https://localhost:8080/",
          "height": 34
        }
      },
      "source": [
        "x.grad == None"
      ],
      "execution_count": 9,
      "outputs": [
        {
          "output_type": "execute_result",
          "data": {
            "text/plain": [
              "True"
            ]
          },
          "metadata": {
            "tags": []
          },
          "execution_count": 9
        }
      ]
    },
    {
      "cell_type": "code",
      "metadata": {
        "id": "foJDc_-G1sCh",
        "colab_type": "code",
        "outputId": "de2ac530-f993-4a33-8bc6-3251e235ea0a",
        "colab": {
          "base_uri": "https://localhost:8080/",
          "height": 51
        }
      },
      "source": [
        "out.backward()\n",
        "x.grad"
      ],
      "execution_count": 10,
      "outputs": [
        {
          "output_type": "execute_result",
          "data": {
            "text/plain": [
              "tensor([[4.5000, 4.5000],\n",
              "        [4.5000, 4.5000]])"
            ]
          },
          "metadata": {
            "tags": []
          },
          "execution_count": 10
        }
      ]
    },
    {
      "cell_type": "code",
      "metadata": {
        "id": "C7cUaxc510Jj",
        "colab_type": "code",
        "colab": {}
      },
      "source": [
        "x = torch.ones(2, 1, requires_grad=True)"
      ],
      "execution_count": 0,
      "outputs": []
    },
    {
      "cell_type": "code",
      "metadata": {
        "id": "OpvYvHIG9Rpi",
        "colab_type": "code",
        "colab": {}
      },
      "source": [
        "y = x + 2\n",
        "z = y * y * 3"
      ],
      "execution_count": 0,
      "outputs": []
    },
    {
      "cell_type": "code",
      "metadata": {
        "id": "5Vg2v2P19SJj",
        "colab_type": "code",
        "outputId": "f1459cb3-3dc4-489f-aeb2-462af2c8690c",
        "colab": {
          "base_uri": "https://localhost:8080/",
          "height": 51
        }
      },
      "source": [
        "out = z.mean()\n",
        "out.backward()\n",
        "x.grad"
      ],
      "execution_count": 0,
      "outputs": [
        {
          "output_type": "execute_result",
          "data": {
            "text/plain": [
              "tensor([[9.],\n",
              "        [9.]])"
            ]
          },
          "metadata": {
            "tags": []
          },
          "execution_count": 102
        }
      ]
    },
    {
      "cell_type": "markdown",
      "metadata": {
        "id": "sUY3DFPA-Kxo",
        "colab_type": "text"
      },
      "source": [
        "### y = g(x) R^n -> R^m vector valued \n",
        "### z = f(y)  R^m -> R^1 scalar valued\n",
        "### dz/dy = (dy/dx).t() @ dz/dy\n",
        "\n",
        "### dy/dx m * n\n",
        "### dz/dy m * 1"
      ]
    },
    {
      "cell_type": "code",
      "metadata": {
        "id": "0sC9C_vf-j6T",
        "colab_type": "code",
        "colab": {}
      },
      "source": [
        ""
      ],
      "execution_count": 0,
      "outputs": []
    },
    {
      "cell_type": "code",
      "metadata": {
        "id": "YPZviaRn-JJj",
        "colab_type": "code",
        "colab": {}
      },
      "source": [
        ""
      ],
      "execution_count": 0,
      "outputs": []
    },
    {
      "cell_type": "code",
      "metadata": {
        "id": "VLlTXKXC9luy",
        "colab_type": "code",
        "outputId": "88749475-f8c1-4f89-a8b7-79292cd29f20",
        "colab": {
          "base_uri": "https://localhost:8080/",
          "height": 34
        }
      },
      "source": [
        "x = torch.randn(3, requires_grad=True)\n",
        "\n",
        "y = x * 2\n",
        "while y.data.norm() < 1000:\n",
        "    y = y * 2\n",
        "\n",
        "print(y)"
      ],
      "execution_count": 0,
      "outputs": [
        {
          "output_type": "stream",
          "text": [
            "tensor([-444.7076,   27.8274, 1279.7865], grad_fn=<MulBackward0>)\n"
          ],
          "name": "stdout"
        }
      ]
    },
    {
      "cell_type": "code",
      "metadata": {
        "id": "sYu8qeIa9zkA",
        "colab_type": "code",
        "colab": {}
      },
      "source": [
        "## Dont run \n",
        "y.backward()\n",
        "## RuntimeError: grad can be implicitly created only for scalar outputs"
      ],
      "execution_count": 0,
      "outputs": []
    },
    {
      "cell_type": "code",
      "metadata": {
        "id": "uGyoUtKP999D",
        "colab_type": "code",
        "colab": {}
      },
      "source": [
        ""
      ],
      "execution_count": 0,
      "outputs": []
    },
    {
      "cell_type": "markdown",
      "metadata": {
        "id": "aV39cG4C-yba",
        "colab_type": "text"
      },
      "source": [
        "## Pytorch NN"
      ]
    },
    {
      "cell_type": "code",
      "metadata": {
        "id": "zV9yezB35glZ",
        "colab_type": "code",
        "colab": {}
      },
      "source": [
        "?? nn.MaxPool2d"
      ],
      "execution_count": 0,
      "outputs": []
    },
    {
      "cell_type": "markdown",
      "metadata": {
        "id": "4_EZnZAP5cKf",
        "colab_type": "text"
      },
      "source": [
        "nn.Conv2d(in_channels, out_channels, kernel_size, stride=1, padding=0, dilation=1, groups=1, bias=True, padding_mode='zeros')\n",
        "\n",
        "nn.MaxPool2d(kernel_size, stride=None, padding=0, dilation=1, return_indices=False, ceil_mode=False)\n",
        "\n",
        "nn.Linear(in_features, out_features, bias=True)"
      ]
    },
    {
      "cell_type": "code",
      "metadata": {
        "id": "abOUUv7Z5QP4",
        "colab_type": "code",
        "colab": {}
      },
      "source": [
        "?? nn.Linear"
      ],
      "execution_count": 0,
      "outputs": []
    },
    {
      "cell_type": "code",
      "metadata": {
        "id": "HsUDjnYA-0HD",
        "colab_type": "code",
        "colab": {
          "base_uri": "https://localhost:8080/",
          "height": 136
        },
        "outputId": "996dd454-32c7-449b-ca32-b13508acefbb"
      },
      "source": [
        "import torch\n",
        "import torch.nn as nn\n",
        "import torch.nn.functional as F\n",
        "\n",
        "\n",
        "class Net(nn.Module):\n",
        "\n",
        "    def __init__(self):\n",
        "        super(Net, self).__init__()\n",
        "        # 1 input image channel, 6 output channels, 3x3 square convolution\n",
        "        # kernel\n",
        "        self.conv1 = nn.Conv2d(1, 6, 3)\n",
        "        self.conv2 = nn.Conv2d(6, 16, 3)\n",
        "        # an affine operation: y = Wx + b\n",
        "        self.fc1 = nn.Linear(16 * 6 * 6, 120)  # 6*6 from image dimension\n",
        "        self.fc2 = nn.Linear(120, 84)\n",
        "        self.fc3 = nn.Linear(84, 10)\n",
        "\n",
        "    def forward(self, x):\n",
        "        # Max pooling over a (2, 2) window\n",
        "        x = F.max_pool2d(F.relu(self.conv1(x)), (2, 2))\n",
        "        # If the size is a square you can only specify a single number\n",
        "        x = F.max_pool2d(F.relu(self.conv2(x)), 2)\n",
        "        x = x.view(-1, self.num_flat_features(x))\n",
        "        x = F.relu(self.fc1(x))\n",
        "        x = F.relu(self.fc2(x))\n",
        "        x = self.fc3(x)\n",
        "        return x\n",
        "\n",
        "    def num_flat_features(self, x):\n",
        "        size = x.size()[1:]  # all dimensions except the batch dimension\n",
        "        num_features = 1\n",
        "        for s in size:\n",
        "            num_features *= s\n",
        "        return num_features\n",
        "\n",
        "\n",
        "net = Net()\n",
        "print(net)"
      ],
      "execution_count": 11,
      "outputs": [
        {
          "output_type": "stream",
          "text": [
            "Net(\n",
            "  (conv1): Conv2d(1, 6, kernel_size=(3, 3), stride=(1, 1))\n",
            "  (conv2): Conv2d(6, 16, kernel_size=(3, 3), stride=(1, 1))\n",
            "  (fc1): Linear(in_features=576, out_features=120, bias=True)\n",
            "  (fc2): Linear(in_features=120, out_features=84, bias=True)\n",
            "  (fc3): Linear(in_features=84, out_features=10, bias=True)\n",
            ")\n"
          ],
          "name": "stdout"
        }
      ]
    },
    {
      "cell_type": "code",
      "metadata": {
        "id": "98OUHzD-46si",
        "colab_type": "code",
        "colab": {
          "base_uri": "https://localhost:8080/",
          "height": 51
        },
        "outputId": "14685c29-ac05-4593-8678-00f6dd5e49d2"
      },
      "source": [
        "params = list(net.parameters())\n",
        "print(len(params))\n",
        "print(params[0].size()) # conv1"
      ],
      "execution_count": 20,
      "outputs": [
        {
          "output_type": "stream",
          "text": [
            "10\n",
            "torch.Size([6, 1, 3, 3])\n"
          ],
          "name": "stdout"
        }
      ]
    },
    {
      "cell_type": "code",
      "metadata": {
        "id": "5fSVFTGy7iiE",
        "colab_type": "code",
        "colab": {
          "base_uri": "https://localhost:8080/",
          "height": 34
        },
        "outputId": "32cdbdab-4662-4782-c4f1-6ca06ecc718a"
      },
      "source": [
        "print(params[2].size())  # conv2"
      ],
      "execution_count": 24,
      "outputs": [
        {
          "output_type": "stream",
          "text": [
            "torch.Size([16, 6, 3, 3])\n"
          ],
          "name": "stdout"
        }
      ]
    },
    {
      "cell_type": "code",
      "metadata": {
        "id": "_pAJ9G2L9Cyd",
        "colab_type": "code",
        "colab": {}
      },
      "source": [
        "##"
      ],
      "execution_count": 0,
      "outputs": []
    },
    {
      "cell_type": "markdown",
      "metadata": {
        "id": "Fx6FiPbR9D2z",
        "colab_type": "text"
      },
      "source": [
        "#### Conv2d takes in nSamples x nChannels x Height x Width."
      ]
    },
    {
      "cell_type": "code",
      "metadata": {
        "id": "cg2Dk_ud7__4",
        "colab_type": "code",
        "colab": {
          "base_uri": "https://localhost:8080/",
          "height": 119
        },
        "outputId": "63b988c2-f02e-495b-f9d7-0b2730a51c52"
      },
      "source": [
        "input = torch.randn(3, 1, 32, 32)\n",
        "out = net(input)\n",
        "print(out)"
      ],
      "execution_count": 30,
      "outputs": [
        {
          "output_type": "stream",
          "text": [
            "tensor([[ 0.0132,  0.1461, -0.0693,  0.0979, -0.0507, -0.0881, -0.0144, -0.1017,\n",
            "          0.0246,  0.0951],\n",
            "        [ 0.0261,  0.1233, -0.0621,  0.1154, -0.0379, -0.0913, -0.0386, -0.0807,\n",
            "          0.0452,  0.0676],\n",
            "        [ 0.0348,  0.1506, -0.0708,  0.1415, -0.0518, -0.1054, -0.0157, -0.0928,\n",
            "          0.0348,  0.0882]], grad_fn=<AddmmBackward>)\n"
          ],
          "name": "stdout"
        }
      ]
    },
    {
      "cell_type": "code",
      "metadata": {
        "id": "p_CCT-XU8PNo",
        "colab_type": "code",
        "colab": {
          "base_uri": "https://localhost:8080/",
          "height": 34
        },
        "outputId": "8087f40f-0e5c-4776-894a-00bf48045b29"
      },
      "source": [
        "out.size()"
      ],
      "execution_count": 31,
      "outputs": [
        {
          "output_type": "execute_result",
          "data": {
            "text/plain": [
              "torch.Size([3, 10])"
            ]
          },
          "metadata": {
            "tags": []
          },
          "execution_count": 31
        }
      ]
    },
    {
      "cell_type": "code",
      "metadata": {
        "id": "vegAtX7V8k9Z",
        "colab_type": "code",
        "colab": {}
      },
      "source": [
        "input = torch.randn(1, 1, 32, 32)\n",
        "output = net(input)\n",
        "target = torch.randn(10).view(1,-1) # 1 by 10 "
      ],
      "execution_count": 0,
      "outputs": []
    },
    {
      "cell_type": "code",
      "metadata": {
        "id": "owlqIp4f9SI1",
        "colab_type": "code",
        "colab": {}
      },
      "source": [
        "criterion = nn.MSELoss()\n",
        "loss = criterion(output, target)"
      ],
      "execution_count": 0,
      "outputs": []
    },
    {
      "cell_type": "code",
      "metadata": {
        "id": "mtC3Av8K9WG5",
        "colab_type": "code",
        "colab": {
          "base_uri": "https://localhost:8080/",
          "height": 34
        },
        "outputId": "c2e7f548-049f-4c5d-a7b8-aff8024e10d0"
      },
      "source": [
        "loss"
      ],
      "execution_count": 63,
      "outputs": [
        {
          "output_type": "execute_result",
          "data": {
            "text/plain": [
              "tensor(0.6606, grad_fn=<MseLossBackward>)"
            ]
          },
          "metadata": {
            "tags": []
          },
          "execution_count": 63
        }
      ]
    },
    {
      "cell_type": "code",
      "metadata": {
        "id": "fyux7-bG91rF",
        "colab_type": "code",
        "colab": {
          "base_uri": "https://localhost:8080/",
          "height": 68
        },
        "outputId": "41dd837d-fc5c-4d7a-d750-c590913e2fad"
      },
      "source": [
        "print(loss.grad_fn)  # MSELoss\n",
        "print(loss.grad_fn.next_functions[0][0])  # Linear\n",
        "print(loss.grad_fn.next_functions[0][0].next_functions[0][0])  # ReLU\n"
      ],
      "execution_count": 64,
      "outputs": [
        {
          "output_type": "stream",
          "text": [
            "<MseLossBackward object at 0x7f6570e7bc18>\n",
            "<AddmmBackward object at 0x7f6570e7bc18>\n",
            "<AccumulateGrad object at 0x7f6570e77e80>\n"
          ],
          "name": "stdout"
        }
      ]
    },
    {
      "cell_type": "code",
      "metadata": {
        "id": "MsSo7C06957r",
        "colab_type": "code",
        "colab": {
          "base_uri": "https://localhost:8080/",
          "height": 153
        },
        "outputId": "cb3ade5b-4f46-4996-8f94-971c261968db"
      },
      "source": [
        "net.zero_grad()     # zeroes the gradient buffers of all parameters\n",
        "\n",
        "print('conv1.bias.grad before backward')\n",
        "print(net.conv1.bias.grad)\n",
        "\n",
        "print('conv1.grad before backward')\n",
        "print(net.conv1.weight.grad.size())\n",
        "\n",
        "\n",
        "loss.backward()\n",
        "\n",
        "print('conv1.bias.grad after backward')\n",
        "print(net.conv1.bias.grad)\n",
        "\n",
        "print('conv1.grad after backward')\n",
        "print(net.conv1.weight.grad.size())\n"
      ],
      "execution_count": 65,
      "outputs": [
        {
          "output_type": "stream",
          "text": [
            "conv1.bias.grad before backward\n",
            "tensor([0., 0., 0., 0., 0., 0.])\n",
            "conv1.grad before backward\n",
            "torch.Size([6, 1, 3, 3])\n",
            "conv1.bias.grad after backward\n",
            "tensor([-0.0044,  0.0030, -0.0070,  0.0054, -0.0065,  0.0049])\n",
            "conv1.grad after backward\n",
            "torch.Size([6, 1, 3, 3])\n"
          ],
          "name": "stdout"
        }
      ]
    },
    {
      "cell_type": "code",
      "metadata": {
        "id": "O8Bv9Wro_XXN",
        "colab_type": "code",
        "colab": {
          "base_uri": "https://localhost:8080/",
          "height": 187
        },
        "outputId": "f64e83e6-16d5-4c28-b6c2-b0bf69d40a05"
      },
      "source": [
        "[f.size() for f in net.parameters()]"
      ],
      "execution_count": 69,
      "outputs": [
        {
          "output_type": "execute_result",
          "data": {
            "text/plain": [
              "[torch.Size([6, 1, 3, 3]),\n",
              " torch.Size([6]),\n",
              " torch.Size([16, 6, 3, 3]),\n",
              " torch.Size([16]),\n",
              " torch.Size([120, 576]),\n",
              " torch.Size([120]),\n",
              " torch.Size([84, 120]),\n",
              " torch.Size([84]),\n",
              " torch.Size([10, 84]),\n",
              " torch.Size([10])]"
            ]
          },
          "metadata": {
            "tags": []
          },
          "execution_count": 69
        }
      ]
    },
    {
      "cell_type": "code",
      "metadata": {
        "id": "rIEFf4G8AJI3",
        "colab_type": "code",
        "colab": {}
      },
      "source": [
        "[f.grad.data for f in net.parameters()]\n",
        "# tensor([-0.0044,  0.0030, -0.0070,  0.0054, -0.0065,  0.0049])"
      ],
      "execution_count": 0,
      "outputs": []
    },
    {
      "cell_type": "code",
      "metadata": {
        "id": "WJ6cTYI_Ag_X",
        "colab_type": "code",
        "colab": {
          "base_uri": "https://localhost:8080/",
          "height": 1000
        },
        "outputId": "eb3e3e68-80ba-4ffe-da76-de2d40ba16a5"
      },
      "source": [
        "[f.data.sub_(f.data) for f in net.parameters()]"
      ],
      "execution_count": 81,
      "outputs": [
        {
          "output_type": "execute_result",
          "data": {
            "text/plain": [
              "[tensor([[[[0., 0., 0.],\n",
              "           [0., 0., 0.],\n",
              "           [0., 0., 0.]]],\n",
              " \n",
              " \n",
              "         [[[0., 0., 0.],\n",
              "           [0., 0., 0.],\n",
              "           [0., 0., 0.]]],\n",
              " \n",
              " \n",
              "         [[[0., 0., 0.],\n",
              "           [0., 0., 0.],\n",
              "           [0., 0., 0.]]],\n",
              " \n",
              " \n",
              "         [[[0., 0., 0.],\n",
              "           [0., 0., 0.],\n",
              "           [0., 0., 0.]]],\n",
              " \n",
              " \n",
              "         [[[0., 0., 0.],\n",
              "           [0., 0., 0.],\n",
              "           [0., 0., 0.]]],\n",
              " \n",
              " \n",
              "         [[[0., 0., 0.],\n",
              "           [0., 0., 0.],\n",
              "           [0., 0., 0.]]]]),\n",
              " tensor([0., 0., 0., 0., 0., 0.]),\n",
              " tensor([[[[0., 0., 0.],\n",
              "           [0., 0., 0.],\n",
              "           [0., 0., 0.]],\n",
              " \n",
              "          [[0., 0., 0.],\n",
              "           [0., 0., 0.],\n",
              "           [0., 0., 0.]],\n",
              " \n",
              "          [[0., 0., 0.],\n",
              "           [0., 0., 0.],\n",
              "           [0., 0., 0.]],\n",
              " \n",
              "          [[0., 0., 0.],\n",
              "           [0., 0., 0.],\n",
              "           [0., 0., 0.]],\n",
              " \n",
              "          [[0., 0., 0.],\n",
              "           [0., 0., 0.],\n",
              "           [0., 0., 0.]],\n",
              " \n",
              "          [[0., 0., 0.],\n",
              "           [0., 0., 0.],\n",
              "           [0., 0., 0.]]],\n",
              " \n",
              " \n",
              "         [[[0., 0., 0.],\n",
              "           [0., 0., 0.],\n",
              "           [0., 0., 0.]],\n",
              " \n",
              "          [[0., 0., 0.],\n",
              "           [0., 0., 0.],\n",
              "           [0., 0., 0.]],\n",
              " \n",
              "          [[0., 0., 0.],\n",
              "           [0., 0., 0.],\n",
              "           [0., 0., 0.]],\n",
              " \n",
              "          [[0., 0., 0.],\n",
              "           [0., 0., 0.],\n",
              "           [0., 0., 0.]],\n",
              " \n",
              "          [[0., 0., 0.],\n",
              "           [0., 0., 0.],\n",
              "           [0., 0., 0.]],\n",
              " \n",
              "          [[0., 0., 0.],\n",
              "           [0., 0., 0.],\n",
              "           [0., 0., 0.]]],\n",
              " \n",
              " \n",
              "         [[[0., 0., 0.],\n",
              "           [0., 0., 0.],\n",
              "           [0., 0., 0.]],\n",
              " \n",
              "          [[0., 0., 0.],\n",
              "           [0., 0., 0.],\n",
              "           [0., 0., 0.]],\n",
              " \n",
              "          [[0., 0., 0.],\n",
              "           [0., 0., 0.],\n",
              "           [0., 0., 0.]],\n",
              " \n",
              "          [[0., 0., 0.],\n",
              "           [0., 0., 0.],\n",
              "           [0., 0., 0.]],\n",
              " \n",
              "          [[0., 0., 0.],\n",
              "           [0., 0., 0.],\n",
              "           [0., 0., 0.]],\n",
              " \n",
              "          [[0., 0., 0.],\n",
              "           [0., 0., 0.],\n",
              "           [0., 0., 0.]]],\n",
              " \n",
              " \n",
              "         [[[0., 0., 0.],\n",
              "           [0., 0., 0.],\n",
              "           [0., 0., 0.]],\n",
              " \n",
              "          [[0., 0., 0.],\n",
              "           [0., 0., 0.],\n",
              "           [0., 0., 0.]],\n",
              " \n",
              "          [[0., 0., 0.],\n",
              "           [0., 0., 0.],\n",
              "           [0., 0., 0.]],\n",
              " \n",
              "          [[0., 0., 0.],\n",
              "           [0., 0., 0.],\n",
              "           [0., 0., 0.]],\n",
              " \n",
              "          [[0., 0., 0.],\n",
              "           [0., 0., 0.],\n",
              "           [0., 0., 0.]],\n",
              " \n",
              "          [[0., 0., 0.],\n",
              "           [0., 0., 0.],\n",
              "           [0., 0., 0.]]],\n",
              " \n",
              " \n",
              "         [[[0., 0., 0.],\n",
              "           [0., 0., 0.],\n",
              "           [0., 0., 0.]],\n",
              " \n",
              "          [[0., 0., 0.],\n",
              "           [0., 0., 0.],\n",
              "           [0., 0., 0.]],\n",
              " \n",
              "          [[0., 0., 0.],\n",
              "           [0., 0., 0.],\n",
              "           [0., 0., 0.]],\n",
              " \n",
              "          [[0., 0., 0.],\n",
              "           [0., 0., 0.],\n",
              "           [0., 0., 0.]],\n",
              " \n",
              "          [[0., 0., 0.],\n",
              "           [0., 0., 0.],\n",
              "           [0., 0., 0.]],\n",
              " \n",
              "          [[0., 0., 0.],\n",
              "           [0., 0., 0.],\n",
              "           [0., 0., 0.]]],\n",
              " \n",
              " \n",
              "         [[[0., 0., 0.],\n",
              "           [0., 0., 0.],\n",
              "           [0., 0., 0.]],\n",
              " \n",
              "          [[0., 0., 0.],\n",
              "           [0., 0., 0.],\n",
              "           [0., 0., 0.]],\n",
              " \n",
              "          [[0., 0., 0.],\n",
              "           [0., 0., 0.],\n",
              "           [0., 0., 0.]],\n",
              " \n",
              "          [[0., 0., 0.],\n",
              "           [0., 0., 0.],\n",
              "           [0., 0., 0.]],\n",
              " \n",
              "          [[0., 0., 0.],\n",
              "           [0., 0., 0.],\n",
              "           [0., 0., 0.]],\n",
              " \n",
              "          [[0., 0., 0.],\n",
              "           [0., 0., 0.],\n",
              "           [0., 0., 0.]]],\n",
              " \n",
              " \n",
              "         [[[0., 0., 0.],\n",
              "           [0., 0., 0.],\n",
              "           [0., 0., 0.]],\n",
              " \n",
              "          [[0., 0., 0.],\n",
              "           [0., 0., 0.],\n",
              "           [0., 0., 0.]],\n",
              " \n",
              "          [[0., 0., 0.],\n",
              "           [0., 0., 0.],\n",
              "           [0., 0., 0.]],\n",
              " \n",
              "          [[0., 0., 0.],\n",
              "           [0., 0., 0.],\n",
              "           [0., 0., 0.]],\n",
              " \n",
              "          [[0., 0., 0.],\n",
              "           [0., 0., 0.],\n",
              "           [0., 0., 0.]],\n",
              " \n",
              "          [[0., 0., 0.],\n",
              "           [0., 0., 0.],\n",
              "           [0., 0., 0.]]],\n",
              " \n",
              " \n",
              "         [[[0., 0., 0.],\n",
              "           [0., 0., 0.],\n",
              "           [0., 0., 0.]],\n",
              " \n",
              "          [[0., 0., 0.],\n",
              "           [0., 0., 0.],\n",
              "           [0., 0., 0.]],\n",
              " \n",
              "          [[0., 0., 0.],\n",
              "           [0., 0., 0.],\n",
              "           [0., 0., 0.]],\n",
              " \n",
              "          [[0., 0., 0.],\n",
              "           [0., 0., 0.],\n",
              "           [0., 0., 0.]],\n",
              " \n",
              "          [[0., 0., 0.],\n",
              "           [0., 0., 0.],\n",
              "           [0., 0., 0.]],\n",
              " \n",
              "          [[0., 0., 0.],\n",
              "           [0., 0., 0.],\n",
              "           [0., 0., 0.]]],\n",
              " \n",
              " \n",
              "         [[[0., 0., 0.],\n",
              "           [0., 0., 0.],\n",
              "           [0., 0., 0.]],\n",
              " \n",
              "          [[0., 0., 0.],\n",
              "           [0., 0., 0.],\n",
              "           [0., 0., 0.]],\n",
              " \n",
              "          [[0., 0., 0.],\n",
              "           [0., 0., 0.],\n",
              "           [0., 0., 0.]],\n",
              " \n",
              "          [[0., 0., 0.],\n",
              "           [0., 0., 0.],\n",
              "           [0., 0., 0.]],\n",
              " \n",
              "          [[0., 0., 0.],\n",
              "           [0., 0., 0.],\n",
              "           [0., 0., 0.]],\n",
              " \n",
              "          [[0., 0., 0.],\n",
              "           [0., 0., 0.],\n",
              "           [0., 0., 0.]]],\n",
              " \n",
              " \n",
              "         [[[0., 0., 0.],\n",
              "           [0., 0., 0.],\n",
              "           [0., 0., 0.]],\n",
              " \n",
              "          [[0., 0., 0.],\n",
              "           [0., 0., 0.],\n",
              "           [0., 0., 0.]],\n",
              " \n",
              "          [[0., 0., 0.],\n",
              "           [0., 0., 0.],\n",
              "           [0., 0., 0.]],\n",
              " \n",
              "          [[0., 0., 0.],\n",
              "           [0., 0., 0.],\n",
              "           [0., 0., 0.]],\n",
              " \n",
              "          [[0., 0., 0.],\n",
              "           [0., 0., 0.],\n",
              "           [0., 0., 0.]],\n",
              " \n",
              "          [[0., 0., 0.],\n",
              "           [0., 0., 0.],\n",
              "           [0., 0., 0.]]],\n",
              " \n",
              " \n",
              "         [[[0., 0., 0.],\n",
              "           [0., 0., 0.],\n",
              "           [0., 0., 0.]],\n",
              " \n",
              "          [[0., 0., 0.],\n",
              "           [0., 0., 0.],\n",
              "           [0., 0., 0.]],\n",
              " \n",
              "          [[0., 0., 0.],\n",
              "           [0., 0., 0.],\n",
              "           [0., 0., 0.]],\n",
              " \n",
              "          [[0., 0., 0.],\n",
              "           [0., 0., 0.],\n",
              "           [0., 0., 0.]],\n",
              " \n",
              "          [[0., 0., 0.],\n",
              "           [0., 0., 0.],\n",
              "           [0., 0., 0.]],\n",
              " \n",
              "          [[0., 0., 0.],\n",
              "           [0., 0., 0.],\n",
              "           [0., 0., 0.]]],\n",
              " \n",
              " \n",
              "         [[[0., 0., 0.],\n",
              "           [0., 0., 0.],\n",
              "           [0., 0., 0.]],\n",
              " \n",
              "          [[0., 0., 0.],\n",
              "           [0., 0., 0.],\n",
              "           [0., 0., 0.]],\n",
              " \n",
              "          [[0., 0., 0.],\n",
              "           [0., 0., 0.],\n",
              "           [0., 0., 0.]],\n",
              " \n",
              "          [[0., 0., 0.],\n",
              "           [0., 0., 0.],\n",
              "           [0., 0., 0.]],\n",
              " \n",
              "          [[0., 0., 0.],\n",
              "           [0., 0., 0.],\n",
              "           [0., 0., 0.]],\n",
              " \n",
              "          [[0., 0., 0.],\n",
              "           [0., 0., 0.],\n",
              "           [0., 0., 0.]]],\n",
              " \n",
              " \n",
              "         [[[0., 0., 0.],\n",
              "           [0., 0., 0.],\n",
              "           [0., 0., 0.]],\n",
              " \n",
              "          [[0., 0., 0.],\n",
              "           [0., 0., 0.],\n",
              "           [0., 0., 0.]],\n",
              " \n",
              "          [[0., 0., 0.],\n",
              "           [0., 0., 0.],\n",
              "           [0., 0., 0.]],\n",
              " \n",
              "          [[0., 0., 0.],\n",
              "           [0., 0., 0.],\n",
              "           [0., 0., 0.]],\n",
              " \n",
              "          [[0., 0., 0.],\n",
              "           [0., 0., 0.],\n",
              "           [0., 0., 0.]],\n",
              " \n",
              "          [[0., 0., 0.],\n",
              "           [0., 0., 0.],\n",
              "           [0., 0., 0.]]],\n",
              " \n",
              " \n",
              "         [[[0., 0., 0.],\n",
              "           [0., 0., 0.],\n",
              "           [0., 0., 0.]],\n",
              " \n",
              "          [[0., 0., 0.],\n",
              "           [0., 0., 0.],\n",
              "           [0., 0., 0.]],\n",
              " \n",
              "          [[0., 0., 0.],\n",
              "           [0., 0., 0.],\n",
              "           [0., 0., 0.]],\n",
              " \n",
              "          [[0., 0., 0.],\n",
              "           [0., 0., 0.],\n",
              "           [0., 0., 0.]],\n",
              " \n",
              "          [[0., 0., 0.],\n",
              "           [0., 0., 0.],\n",
              "           [0., 0., 0.]],\n",
              " \n",
              "          [[0., 0., 0.],\n",
              "           [0., 0., 0.],\n",
              "           [0., 0., 0.]]],\n",
              " \n",
              " \n",
              "         [[[0., 0., 0.],\n",
              "           [0., 0., 0.],\n",
              "           [0., 0., 0.]],\n",
              " \n",
              "          [[0., 0., 0.],\n",
              "           [0., 0., 0.],\n",
              "           [0., 0., 0.]],\n",
              " \n",
              "          [[0., 0., 0.],\n",
              "           [0., 0., 0.],\n",
              "           [0., 0., 0.]],\n",
              " \n",
              "          [[0., 0., 0.],\n",
              "           [0., 0., 0.],\n",
              "           [0., 0., 0.]],\n",
              " \n",
              "          [[0., 0., 0.],\n",
              "           [0., 0., 0.],\n",
              "           [0., 0., 0.]],\n",
              " \n",
              "          [[0., 0., 0.],\n",
              "           [0., 0., 0.],\n",
              "           [0., 0., 0.]]],\n",
              " \n",
              " \n",
              "         [[[0., 0., 0.],\n",
              "           [0., 0., 0.],\n",
              "           [0., 0., 0.]],\n",
              " \n",
              "          [[0., 0., 0.],\n",
              "           [0., 0., 0.],\n",
              "           [0., 0., 0.]],\n",
              " \n",
              "          [[0., 0., 0.],\n",
              "           [0., 0., 0.],\n",
              "           [0., 0., 0.]],\n",
              " \n",
              "          [[0., 0., 0.],\n",
              "           [0., 0., 0.],\n",
              "           [0., 0., 0.]],\n",
              " \n",
              "          [[0., 0., 0.],\n",
              "           [0., 0., 0.],\n",
              "           [0., 0., 0.]],\n",
              " \n",
              "          [[0., 0., 0.],\n",
              "           [0., 0., 0.],\n",
              "           [0., 0., 0.]]]]),\n",
              " tensor([0., 0., 0., 0., 0., 0., 0., 0., 0., 0., 0., 0., 0., 0., 0., 0.]),\n",
              " tensor([[0., 0., 0.,  ..., 0., 0., 0.],\n",
              "         [0., 0., 0.,  ..., 0., 0., 0.],\n",
              "         [0., 0., 0.,  ..., 0., 0., 0.],\n",
              "         ...,\n",
              "         [0., 0., 0.,  ..., 0., 0., 0.],\n",
              "         [0., 0., 0.,  ..., 0., 0., 0.],\n",
              "         [0., 0., 0.,  ..., 0., 0., 0.]]),\n",
              " tensor([0., 0., 0., 0., 0., 0., 0., 0., 0., 0., 0., 0., 0., 0., 0., 0., 0., 0., 0., 0., 0., 0., 0., 0.,\n",
              "         0., 0., 0., 0., 0., 0., 0., 0., 0., 0., 0., 0., 0., 0., 0., 0., 0., 0., 0., 0., 0., 0., 0., 0.,\n",
              "         0., 0., 0., 0., 0., 0., 0., 0., 0., 0., 0., 0., 0., 0., 0., 0., 0., 0., 0., 0., 0., 0., 0., 0.,\n",
              "         0., 0., 0., 0., 0., 0., 0., 0., 0., 0., 0., 0., 0., 0., 0., 0., 0., 0., 0., 0., 0., 0., 0., 0.,\n",
              "         0., 0., 0., 0., 0., 0., 0., 0., 0., 0., 0., 0., 0., 0., 0., 0., 0., 0., 0., 0., 0., 0., 0., 0.]),\n",
              " tensor([[0., 0., 0.,  ..., 0., 0., 0.],\n",
              "         [0., 0., 0.,  ..., 0., 0., 0.],\n",
              "         [0., 0., 0.,  ..., 0., 0., 0.],\n",
              "         ...,\n",
              "         [0., 0., 0.,  ..., 0., 0., 0.],\n",
              "         [0., 0., 0.,  ..., 0., 0., 0.],\n",
              "         [0., 0., 0.,  ..., 0., 0., 0.]]),\n",
              " tensor([0., 0., 0., 0., 0., 0., 0., 0., 0., 0., 0., 0., 0., 0., 0., 0., 0., 0., 0., 0., 0., 0., 0., 0.,\n",
              "         0., 0., 0., 0., 0., 0., 0., 0., 0., 0., 0., 0., 0., 0., 0., 0., 0., 0., 0., 0., 0., 0., 0., 0.,\n",
              "         0., 0., 0., 0., 0., 0., 0., 0., 0., 0., 0., 0., 0., 0., 0., 0., 0., 0., 0., 0., 0., 0., 0., 0.,\n",
              "         0., 0., 0., 0., 0., 0., 0., 0., 0., 0., 0., 0.]),\n",
              " tensor([[0., 0., 0., 0., 0., 0., 0., 0., 0., 0., 0., 0., 0., 0., 0., 0., 0., 0., 0., 0., 0., 0., 0., 0.,\n",
              "          0., 0., 0., 0., 0., 0., 0., 0., 0., 0., 0., 0., 0., 0., 0., 0., 0., 0., 0., 0., 0., 0., 0., 0.,\n",
              "          0., 0., 0., 0., 0., 0., 0., 0., 0., 0., 0., 0., 0., 0., 0., 0., 0., 0., 0., 0., 0., 0., 0., 0.,\n",
              "          0., 0., 0., 0., 0., 0., 0., 0., 0., 0., 0., 0.],\n",
              "         [0., 0., 0., 0., 0., 0., 0., 0., 0., 0., 0., 0., 0., 0., 0., 0., 0., 0., 0., 0., 0., 0., 0., 0.,\n",
              "          0., 0., 0., 0., 0., 0., 0., 0., 0., 0., 0., 0., 0., 0., 0., 0., 0., 0., 0., 0., 0., 0., 0., 0.,\n",
              "          0., 0., 0., 0., 0., 0., 0., 0., 0., 0., 0., 0., 0., 0., 0., 0., 0., 0., 0., 0., 0., 0., 0., 0.,\n",
              "          0., 0., 0., 0., 0., 0., 0., 0., 0., 0., 0., 0.],\n",
              "         [0., 0., 0., 0., 0., 0., 0., 0., 0., 0., 0., 0., 0., 0., 0., 0., 0., 0., 0., 0., 0., 0., 0., 0.,\n",
              "          0., 0., 0., 0., 0., 0., 0., 0., 0., 0., 0., 0., 0., 0., 0., 0., 0., 0., 0., 0., 0., 0., 0., 0.,\n",
              "          0., 0., 0., 0., 0., 0., 0., 0., 0., 0., 0., 0., 0., 0., 0., 0., 0., 0., 0., 0., 0., 0., 0., 0.,\n",
              "          0., 0., 0., 0., 0., 0., 0., 0., 0., 0., 0., 0.],\n",
              "         [0., 0., 0., 0., 0., 0., 0., 0., 0., 0., 0., 0., 0., 0., 0., 0., 0., 0., 0., 0., 0., 0., 0., 0.,\n",
              "          0., 0., 0., 0., 0., 0., 0., 0., 0., 0., 0., 0., 0., 0., 0., 0., 0., 0., 0., 0., 0., 0., 0., 0.,\n",
              "          0., 0., 0., 0., 0., 0., 0., 0., 0., 0., 0., 0., 0., 0., 0., 0., 0., 0., 0., 0., 0., 0., 0., 0.,\n",
              "          0., 0., 0., 0., 0., 0., 0., 0., 0., 0., 0., 0.],\n",
              "         [0., 0., 0., 0., 0., 0., 0., 0., 0., 0., 0., 0., 0., 0., 0., 0., 0., 0., 0., 0., 0., 0., 0., 0.,\n",
              "          0., 0., 0., 0., 0., 0., 0., 0., 0., 0., 0., 0., 0., 0., 0., 0., 0., 0., 0., 0., 0., 0., 0., 0.,\n",
              "          0., 0., 0., 0., 0., 0., 0., 0., 0., 0., 0., 0., 0., 0., 0., 0., 0., 0., 0., 0., 0., 0., 0., 0.,\n",
              "          0., 0., 0., 0., 0., 0., 0., 0., 0., 0., 0., 0.],\n",
              "         [0., 0., 0., 0., 0., 0., 0., 0., 0., 0., 0., 0., 0., 0., 0., 0., 0., 0., 0., 0., 0., 0., 0., 0.,\n",
              "          0., 0., 0., 0., 0., 0., 0., 0., 0., 0., 0., 0., 0., 0., 0., 0., 0., 0., 0., 0., 0., 0., 0., 0.,\n",
              "          0., 0., 0., 0., 0., 0., 0., 0., 0., 0., 0., 0., 0., 0., 0., 0., 0., 0., 0., 0., 0., 0., 0., 0.,\n",
              "          0., 0., 0., 0., 0., 0., 0., 0., 0., 0., 0., 0.],\n",
              "         [0., 0., 0., 0., 0., 0., 0., 0., 0., 0., 0., 0., 0., 0., 0., 0., 0., 0., 0., 0., 0., 0., 0., 0.,\n",
              "          0., 0., 0., 0., 0., 0., 0., 0., 0., 0., 0., 0., 0., 0., 0., 0., 0., 0., 0., 0., 0., 0., 0., 0.,\n",
              "          0., 0., 0., 0., 0., 0., 0., 0., 0., 0., 0., 0., 0., 0., 0., 0., 0., 0., 0., 0., 0., 0., 0., 0.,\n",
              "          0., 0., 0., 0., 0., 0., 0., 0., 0., 0., 0., 0.],\n",
              "         [0., 0., 0., 0., 0., 0., 0., 0., 0., 0., 0., 0., 0., 0., 0., 0., 0., 0., 0., 0., 0., 0., 0., 0.,\n",
              "          0., 0., 0., 0., 0., 0., 0., 0., 0., 0., 0., 0., 0., 0., 0., 0., 0., 0., 0., 0., 0., 0., 0., 0.,\n",
              "          0., 0., 0., 0., 0., 0., 0., 0., 0., 0., 0., 0., 0., 0., 0., 0., 0., 0., 0., 0., 0., 0., 0., 0.,\n",
              "          0., 0., 0., 0., 0., 0., 0., 0., 0., 0., 0., 0.],\n",
              "         [0., 0., 0., 0., 0., 0., 0., 0., 0., 0., 0., 0., 0., 0., 0., 0., 0., 0., 0., 0., 0., 0., 0., 0.,\n",
              "          0., 0., 0., 0., 0., 0., 0., 0., 0., 0., 0., 0., 0., 0., 0., 0., 0., 0., 0., 0., 0., 0., 0., 0.,\n",
              "          0., 0., 0., 0., 0., 0., 0., 0., 0., 0., 0., 0., 0., 0., 0., 0., 0., 0., 0., 0., 0., 0., 0., 0.,\n",
              "          0., 0., 0., 0., 0., 0., 0., 0., 0., 0., 0., 0.],\n",
              "         [0., 0., 0., 0., 0., 0., 0., 0., 0., 0., 0., 0., 0., 0., 0., 0., 0., 0., 0., 0., 0., 0., 0., 0.,\n",
              "          0., 0., 0., 0., 0., 0., 0., 0., 0., 0., 0., 0., 0., 0., 0., 0., 0., 0., 0., 0., 0., 0., 0., 0.,\n",
              "          0., 0., 0., 0., 0., 0., 0., 0., 0., 0., 0., 0., 0., 0., 0., 0., 0., 0., 0., 0., 0., 0., 0., 0.,\n",
              "          0., 0., 0., 0., 0., 0., 0., 0., 0., 0., 0., 0.]]),\n",
              " tensor([0., 0., 0., 0., 0., 0., 0., 0., 0., 0.])]"
            ]
          },
          "metadata": {
            "tags": []
          },
          "execution_count": 81
        }
      ]
    },
    {
      "cell_type": "code",
      "metadata": {
        "id": "6FgUYsOd-bqn",
        "colab_type": "code",
        "colab": {}
      },
      "source": [
        "import torch.optim as optim\n",
        "\n",
        "# create your optimizer\n",
        "optimizer = optim.SGD(net.parameters(), lr=0.01)\n",
        "\n",
        "# in your training loop:\n",
        "optimizer.zero_grad()   # zero the gradient buffers\n",
        "output = net(input)\n",
        "loss = criterion(output, target)\n",
        "loss.backward()\n",
        "optimizer.step()    # Does the update"
      ],
      "execution_count": 0,
      "outputs": []
    },
    {
      "cell_type": "code",
      "metadata": {
        "id": "zU12G59ABjkP",
        "colab_type": "code",
        "colab": {}
      },
      "source": [
        "x = torch.eye(2,2, requires_grad=True)"
      ],
      "execution_count": 0,
      "outputs": []
    },
    {
      "cell_type": "code",
      "metadata": {
        "id": "6cU9_MvnBFPu",
        "colab_type": "code",
        "colab": {
          "base_uri": "https://localhost:8080/",
          "height": 51
        },
        "outputId": "fc103f65-5fb8-4a19-d965-92ba74e80057"
      },
      "source": [
        "x.data.sub_(x.data)"
      ],
      "execution_count": 94,
      "outputs": [
        {
          "output_type": "execute_result",
          "data": {
            "text/plain": [
              "tensor([[0., 0.],\n",
              "        [0., 0.]])"
            ]
          },
          "metadata": {
            "tags": []
          },
          "execution_count": 94
        }
      ]
    },
    {
      "cell_type": "code",
      "metadata": {
        "id": "GcooZcBGBd04",
        "colab_type": "code",
        "colab": {
          "base_uri": "https://localhost:8080/",
          "height": 51
        },
        "outputId": "5f0e6e9f-2575-4156-939c-f69dffed9899"
      },
      "source": [
        "x.data"
      ],
      "execution_count": 95,
      "outputs": [
        {
          "output_type": "execute_result",
          "data": {
            "text/plain": [
              "tensor([[0., 0.],\n",
              "        [0., 0.]])"
            ]
          },
          "metadata": {
            "tags": []
          },
          "execution_count": 95
        }
      ]
    },
    {
      "cell_type": "code",
      "metadata": {
        "id": "T3cev-xsBFeX",
        "colab_type": "code",
        "colab": {}
      },
      "source": [
        ""
      ],
      "execution_count": 0,
      "outputs": []
    },
    {
      "cell_type": "markdown",
      "metadata": {
        "id": "xthnssHdaRE8",
        "colab_type": "text"
      },
      "source": [
        "## CIFAR10"
      ]
    },
    {
      "cell_type": "code",
      "metadata": {
        "id": "-RhldTUyaV7r",
        "colab_type": "code",
        "colab": {}
      },
      "source": [
        "??transforms.Compose"
      ],
      "execution_count": 0,
      "outputs": []
    },
    {
      "cell_type": "markdown",
      "metadata": {
        "id": "Qhy_muOMa5_s",
        "colab_type": "text"
      },
      "source": [
        " * ```transforms.ToTensor```\n",
        " Converts a PIL Image or numpy.ndarray (H x W x C) in the range\n",
        "    [0, 255] to a torch.FloatTensor of shape (C x H x W) in the range [0.0, 1.0]\n",
        "    \n",
        " * ```transform.Normalize```\n",
        " transforms.Normalize(mean, std, inplace=False)\n",
        "Source: class Normalize(object):\n",
        "    Normalize a tensor image with mean and standard deviation.\n",
        "    Given mean: ``(M1,...,Mn)`` and std: ``(S1,..,Sn)`` for ``n`` channels, this transform\n",
        "    will normalize each channel of the input ``torch.*Tensor``\n",
        "    \n",
        "* ```transform.Compose```\n",
        "transforms (list of ``Transform`` objects): list of transforms to compose."
      ]
    },
    {
      "cell_type": "code",
      "metadata": {
        "id": "zVLpWcKCaz08",
        "colab_type": "code",
        "colab": {
          "base_uri": "https://localhost:8080/",
          "height": 68
        },
        "outputId": "a44b9490-9d6b-437b-f1f4-1dec67e107fa"
      },
      "source": [
        "transform = transforms.Compose(\n",
        "    [transforms.ToTensor(),\n",
        "     transforms.Normalize((0.5, 0.5, 0.5), (0.5, 0.5, 0.5))])\n",
        "\n",
        "trainset = torchvision.datasets.CIFAR10(root='./data', train=True,\n",
        "                                        download=True, transform=transform)\n",
        "trainloader = torch.utils.data.DataLoader(trainset, batch_size=4,\n",
        "                                          shuffle=True, num_workers=2)\n",
        "\n",
        "testset = torchvision.datasets.CIFAR10(root='./data', train=False,\n",
        "                                       download=True, transform=transform)\n",
        "testloader = torch.utils.data.DataLoader(testset, batch_size=4,\n",
        "                                         shuffle=False, num_workers=2)\n",
        "\n",
        "classes = ('plane', 'car', 'bird', 'cat',\n",
        "           'deer', 'dog', 'frog', 'horse', 'ship', 'truck')"
      ],
      "execution_count": 106,
      "outputs": [
        {
          "output_type": "stream",
          "text": [
            "\r0it [00:00, ?it/s]"
          ],
          "name": "stderr"
        },
        {
          "output_type": "stream",
          "text": [
            "Downloading https://www.cs.toronto.edu/~kriz/cifar-10-python.tar.gz to ./data/cifar-10-python.tar.gz\n"
          ],
          "name": "stdout"
        },
        {
          "output_type": "stream",
          "text": [
            "170500096it [00:06, 27768524.84it/s]                               \n"
          ],
          "name": "stderr"
        },
        {
          "output_type": "stream",
          "text": [
            "Files already downloaded and verified\n"
          ],
          "name": "stdout"
        }
      ]
    },
    {
      "cell_type": "code",
      "metadata": {
        "id": "miWP6tpL2hGX",
        "colab_type": "code",
        "colab": {}
      },
      "source": [
        "import matplotlib.pyplot as plt\n",
        "import numpy as np\n",
        "\n",
        "def imshow(img):\n",
        "    img = img / 2 + 0.5     # unnormalize\n",
        "    npimg = img.numpy()\n",
        "    plt.imshow(np.transpose(npimg, (1, 2, 0)))\n",
        "    plt.show()"
      ],
      "execution_count": 0,
      "outputs": []
    },
    {
      "cell_type": "code",
      "metadata": {
        "id": "mz5SgZXq2yC5",
        "colab_type": "code",
        "colab": {}
      },
      "source": [
        "dataiter = iter(trainloader)\n",
        "images, labels = dataiter.next()"
      ],
      "execution_count": 0,
      "outputs": []
    },
    {
      "cell_type": "code",
      "metadata": {
        "id": "3A09iElU3THZ",
        "colab_type": "code",
        "colab": {}
      },
      "source": [
        "import torch.nn as nn\n",
        "import torch.nn.functional as F"
      ],
      "execution_count": 0,
      "outputs": []
    },
    {
      "cell_type": "code",
      "metadata": {
        "id": "6EpI_2QV24D7",
        "colab_type": "code",
        "colab": {
          "base_uri": "https://localhost:8080/",
          "height": 139
        },
        "outputId": "fd34e25f-e05f-4820-f173-6ac467a124ab"
      },
      "source": [
        "imshow(torchvision.utils.make_grid(images))"
      ],
      "execution_count": 122,
      "outputs": [
        {
          "output_type": "display_data",
          "data": {
            "image/png": "[encoded data removed]",
            "text/plain": [
              "<Figure size 432x288 with 1 Axes>"
            ]
          },
          "metadata": {
            "tags": []
          }
        }
      ]
    },
    {
      "cell_type": "code",
      "metadata": {
        "id": "vTrs3VIiBlb8",
        "colab_type": "code",
        "colab": {
          "base_uri": "https://localhost:8080/",
          "height": 34
        },
        "outputId": "7d530780-e57a-4b8e-f865-3e1f257714a3"
      },
      "source": [
        "14 - 5 + 1"
      ],
      "execution_count": 141,
      "outputs": [
        {
          "output_type": "execute_result",
          "data": {
            "text/plain": [
              "10"
            ]
          },
          "metadata": {
            "tags": []
          },
          "execution_count": 141
        }
      ]
    },
    {
      "cell_type": "code",
      "metadata": {
        "id": "luXIr2b93Kj8",
        "colab_type": "code",
        "colab": {}
      },
      "source": [
        "class Net(nn.Module):\n",
        "  def __init__(self):\n",
        "    super(Net, self).__init__()\n",
        "    self.conv1 = nn.Conv2d(3, 6, 5)\n",
        "    self.pool = nn.MaxPool2d(2,2)\n",
        "    self.conv2 = nn.Conv2d(6, 16, 5)\n",
        "    self.fc1 = nn.Linear(16 * 5 * 5, 120)\n",
        "    self.fc2 = nn.Linear(120, 84)\n",
        "    self.fc3 = nn.Linear(84, 10)\n",
        "  \n",
        "  def forward(self, x):\n",
        "    x = self.pool(F.relu(self.conv1(x)))\n",
        "    x = self.pool(F.relu(self.conv2(x)))\n",
        "    x = x.view(-1, 16*5*5)\n",
        "    x = F.relu(self.fc1(x))\n",
        "    x = F.relu(self.fc2(x))\n",
        "    x = F.relu(self.fc3(x))\n",
        "    return x\n",
        "  \n",
        "net = Net()"
      ],
      "execution_count": 0,
      "outputs": []
    },
    {
      "cell_type": "code",
      "metadata": {
        "id": "rZWI--Oy8lwu",
        "colab_type": "code",
        "colab": {}
      },
      "source": [
        "import torch.optim as optim\n",
        "\n",
        "criterion = nn.CrossEntropyLoss()\n",
        "optimizer = optim.SGD(net.parameters(), lr=0.001, momentum=0.9)"
      ],
      "execution_count": 0,
      "outputs": []
    },
    {
      "cell_type": "code",
      "metadata": {
        "id": "iQPxLsr-9sXJ",
        "colab_type": "code",
        "colab": {
          "base_uri": "https://localhost:8080/",
          "height": 34
        },
        "outputId": "36d9cddd-4bc6-48c8-9174-56dc02d69398"
      },
      "source": [
        "a,b = iter(trainloader).next()\n",
        "a.size(), b.size()"
      ],
      "execution_count": 154,
      "outputs": [
        {
          "output_type": "execute_result",
          "data": {
            "text/plain": [
              "(torch.Size([4, 3, 32, 32]), torch.Size([4]))"
            ]
          },
          "metadata": {
            "tags": []
          },
          "execution_count": 154
        }
      ]
    },
    {
      "cell_type": "code",
      "metadata": {
        "id": "DL5jMio6Bz81",
        "colab_type": "code",
        "colab": {
          "base_uri": "https://localhost:8080/",
          "height": 102
        },
        "outputId": "e93f2bd3-3464-47aa-cdcf-dc6022be4ef2"
      },
      "source": [
        "print(a.size())\n",
        "print(nn.Conv2d(3,6,5)(a).size())\n",
        "a = nn.Conv2d(3,6,5)(a)\n",
        "print(nn.MaxPool2d(2,2)(a).size())\n",
        "a = nn.MaxPool2d(2,2)(a)\n",
        "print(nn.Conv2d(6,16,5)(a).size())\n",
        "a = nn.Conv2d(6,16,5)(a)\n",
        "a = nn.MaxPool2d(2,2)(a)\n",
        "print(a.size())"
      ],
      "execution_count": 155,
      "outputs": [
        {
          "output_type": "stream",
          "text": [
            "torch.Size([4, 3, 32, 32])\n",
            "torch.Size([4, 6, 28, 28])\n",
            "torch.Size([4, 6, 14, 14])\n",
            "torch.Size([4, 16, 10, 10])\n",
            "torch.Size([4, 16, 5, 5])\n"
          ],
          "name": "stdout"
        }
      ]
    },
    {
      "cell_type": "code",
      "metadata": {
        "id": "bJSfHzq6Ajnb",
        "colab_type": "code",
        "colab": {}
      },
      "source": [
        "# CPU is slow ..."
      ],
      "execution_count": 0,
      "outputs": []
    },
    {
      "cell_type": "code",
      "metadata": {
        "id": "IGlhfaVg9K2w",
        "colab_type": "code",
        "colab": {
          "base_uri": "https://localhost:8080/",
          "height": 1000
        },
        "outputId": "8c558594-8e3d-4973-a72f-6cb838f25b02"
      },
      "source": [
        "for epoch in range(10):\n",
        "  running_loss = 0.0\n",
        "  for i, data in enumerate(trainloader, 0):\n",
        "    inputs, labels = data\n",
        "    optimizer.zero_grad()\n",
        "    \n",
        "    outputs = net(inputs)\n",
        "    loss = criterion(outputs, labels)\n",
        "    loss.backward()\n",
        "    optimizer.step()\n",
        "    \n",
        "    running_loss += loss.item()\n",
        "    if i%2000 == 1999:\n",
        "      print('[%d, %5d] loss: %.3f' %\n",
        "            (epoch + 1, i + 1, running_loss / 2000))\n",
        "      running_loss = 0.0"
      ],
      "execution_count": 158,
      "outputs": [
        {
          "output_type": "stream",
          "text": [
            "[1,  2000] loss: 2.219\n",
            "[1,  4000] loss: 2.150\n",
            "[1,  6000] loss: 2.091\n",
            "[1,  8000] loss: 2.048\n",
            "[1, 10000] loss: 2.012\n",
            "[1, 12000] loss: 1.970\n",
            "[2,  2000] loss: 1.946\n",
            "[2,  4000] loss: 1.945\n",
            "[2,  6000] loss: 1.910\n",
            "[2,  8000] loss: 1.829\n",
            "[2, 10000] loss: 1.752\n",
            "[2, 12000] loss: 1.717\n",
            "[3,  2000] loss: 1.642\n",
            "[3,  4000] loss: 1.643\n",
            "[3,  6000] loss: 1.607\n",
            "[3,  8000] loss: 1.623\n",
            "[3, 10000] loss: 1.592\n",
            "[3, 12000] loss: 1.580\n",
            "[4,  2000] loss: 1.514\n",
            "[4,  4000] loss: 1.530\n",
            "[4,  6000] loss: 1.524\n",
            "[4,  8000] loss: 1.494\n",
            "[4, 10000] loss: 1.499\n",
            "[4, 12000] loss: 1.494\n",
            "[5,  2000] loss: 1.418\n",
            "[5,  4000] loss: 1.441\n",
            "[5,  6000] loss: 1.434\n",
            "[5,  8000] loss: 1.440\n",
            "[5, 10000] loss: 1.448\n",
            "[5, 12000] loss: 1.443\n",
            "[6,  2000] loss: 1.361\n",
            "[6,  4000] loss: 1.370\n",
            "[6,  6000] loss: 1.295\n",
            "[6,  8000] loss: 1.247\n",
            "[6, 10000] loss: 1.276\n",
            "[6, 12000] loss: 1.260\n",
            "[7,  2000] loss: 1.178\n",
            "[7,  4000] loss: 1.184\n",
            "[7,  6000] loss: 1.171\n",
            "[7,  8000] loss: 1.208\n",
            "[7, 10000] loss: 1.207\n",
            "[7, 12000] loss: 1.193\n",
            "[8,  2000] loss: 1.118\n",
            "[8,  4000] loss: 1.138\n",
            "[8,  6000] loss: 1.138\n",
            "[8,  8000] loss: 1.147\n",
            "[8, 10000] loss: 1.094\n",
            "[8, 12000] loss: 0.988\n",
            "[9,  2000] loss: 0.905\n",
            "[9,  4000] loss: 0.925\n",
            "[9,  6000] loss: 0.926\n",
            "[9,  8000] loss: 0.935\n",
            "[9, 10000] loss: 0.931\n",
            "[9, 12000] loss: 0.929\n",
            "[10,  2000] loss: 0.843\n",
            "[10,  4000] loss: 0.859\n",
            "[10,  6000] loss: 0.905\n",
            "[10,  8000] loss: 0.881\n",
            "[10, 10000] loss: 0.915\n",
            "[10, 12000] loss: 0.926\n"
          ],
          "name": "stdout"
        }
      ]
    },
    {
      "cell_type": "code",
      "metadata": {
        "id": "mQBlJVpv-ZHV",
        "colab_type": "code",
        "colab": {}
      },
      "source": [
        "dataiter = iter(testloader)\n",
        "images, labels = dataiter.next()\n",
        "\n",
        "outputs = net(images)"
      ],
      "execution_count": 0,
      "outputs": []
    },
    {
      "cell_type": "code",
      "metadata": {
        "id": "I3luyIavDNXx",
        "colab_type": "code",
        "colab": {
          "base_uri": "https://localhost:8080/",
          "height": 153
        },
        "outputId": "4d6edf02-8220-459f-8734-01c90e462a3c"
      },
      "source": [
        "outputs"
      ],
      "execution_count": 160,
      "outputs": [
        {
          "output_type": "execute_result",
          "data": {
            "text/plain": [
              "tensor([[0.0000, 1.0408, 2.5326, 6.0399, 3.8863, 4.2835, 1.7533, 2.4266, 2.6470,\n",
              "         0.3653],\n",
              "        [8.5865, 6.4794, 0.0000, 0.0000, 0.4180, 0.0000, 0.0000, 0.0000, 7.6094,\n",
              "         4.5536],\n",
              "        [2.9252, 3.2191, 0.0000, 0.2945, 0.0219, 0.0000, 0.1825, 0.0000, 3.4059,\n",
              "         3.2888],\n",
              "        [2.4846, 3.0032, 0.0000, 0.6693, 0.6655, 0.0000, 0.3466, 0.0000, 3.3824,\n",
              "         1.7961]], grad_fn=<ReluBackward0>)"
            ]
          },
          "metadata": {
            "tags": []
          },
          "execution_count": 160
        }
      ]
    },
    {
      "cell_type": "code",
      "metadata": {
        "id": "L9aLkNviDPrJ",
        "colab_type": "code",
        "colab": {}
      },
      "source": [
        "device = torch.device(\"cuda:0\" if torch.cuda.is_available() else \"cpu\")"
      ],
      "execution_count": 0,
      "outputs": []
    },
    {
      "cell_type": "code",
      "metadata": {
        "id": "DocwflLFKu1a",
        "colab_type": "code",
        "colab": {
          "base_uri": "https://localhost:8080/",
          "height": 34
        },
        "outputId": "efa7b306-0bee-4935-d2ca-88bc45674c5b"
      },
      "source": [
        "device"
      ],
      "execution_count": 169,
      "outputs": [
        {
          "output_type": "execute_result",
          "data": {
            "text/plain": [
              "device(type='cuda', index=0)"
            ]
          },
          "metadata": {
            "tags": []
          },
          "execution_count": 169
        }
      ]
    },
    {
      "cell_type": "code",
      "metadata": {
        "id": "SY17oV5YDgGY",
        "colab_type": "code",
        "colab": {
          "base_uri": "https://localhost:8080/",
          "height": 153
        },
        "outputId": "688c0d57-b600-4be1-e066-69095502c134"
      },
      "source": [
        "net.to(device)"
      ],
      "execution_count": 170,
      "outputs": [
        {
          "output_type": "execute_result",
          "data": {
            "text/plain": [
              "Net(\n",
              "  (conv1): Conv2d(3, 6, kernel_size=(5, 5), stride=(1, 1))\n",
              "  (pool): MaxPool2d(kernel_size=2, stride=2, padding=0, dilation=1, ceil_mode=False)\n",
              "  (conv2): Conv2d(6, 16, kernel_size=(5, 5), stride=(1, 1))\n",
              "  (fc1): Linear(in_features=400, out_features=120, bias=True)\n",
              "  (fc2): Linear(in_features=120, out_features=84, bias=True)\n",
              "  (fc3): Linear(in_features=84, out_features=10, bias=True)\n",
              ")"
            ]
          },
          "metadata": {
            "tags": []
          },
          "execution_count": 170
        }
      ]
    },
    {
      "cell_type": "code",
      "metadata": {
        "id": "ycEQca7iKm7v",
        "colab_type": "code",
        "colab": {}
      },
      "source": [
        "import torch.optim as optim\n",
        "\n",
        "criterion = nn.CrossEntropyLoss()\n",
        "optimizer = optim.SGD(net.parameters(), lr=0.001, momentum=0.9)"
      ],
      "execution_count": 0,
      "outputs": []
    },
    {
      "cell_type": "code",
      "metadata": {
        "id": "KrRSYeOQEd1m",
        "colab_type": "code",
        "colab": {
          "base_uri": "https://localhost:8080/",
          "height": 1000
        },
        "outputId": "e360deb9-88b8-47b7-8e74-bdf29a0f9802"
      },
      "source": [
        "for epoch in range(10):\n",
        "  running_loss = 0.0\n",
        "  for i, data in enumerate(trainloader, 0):\n",
        "    inputs, labels = data[0].to(device), data[1].to(device)\n",
        "    optimizer.zero_grad()\n",
        "    \n",
        "    outputs = net(inputs)\n",
        "    loss = criterion(outputs, labels)\n",
        "    loss.backward()\n",
        "    optimizer.step()\n",
        "    \n",
        "    running_loss += loss.item()\n",
        "    if i%2000 == 1999:\n",
        "      print('[%d, %5d] loss: %.3f' %\n",
        "            (epoch + 1, i + 1, running_loss / 2000))\n",
        "      running_loss = 0.0"
      ],
      "execution_count": 172,
      "outputs": [
        {
          "output_type": "stream",
          "text": [
            "[1,  2000] loss: 0.779\n",
            "[1,  4000] loss: 0.825\n",
            "[1,  6000] loss: 0.860\n",
            "[1,  8000] loss: 0.878\n",
            "[1, 10000] loss: 0.845\n",
            "[1, 12000] loss: 0.870\n",
            "[2,  2000] loss: 0.746\n",
            "[2,  4000] loss: 0.788\n",
            "[2,  6000] loss: 0.809\n",
            "[2,  8000] loss: 0.829\n",
            "[2, 10000] loss: 0.820\n",
            "[2, 12000] loss: 0.847\n",
            "[3,  2000] loss: 0.718\n",
            "[3,  4000] loss: 0.779\n",
            "[3,  6000] loss: 0.779\n",
            "[3,  8000] loss: 0.780\n",
            "[3, 10000] loss: 0.812\n",
            "[3, 12000] loss: 0.837\n",
            "[4,  2000] loss: 0.704\n",
            "[4,  4000] loss: 0.737\n",
            "[4,  6000] loss: 0.751\n",
            "[4,  8000] loss: 0.780\n",
            "[4, 10000] loss: 0.814\n",
            "[4, 12000] loss: 0.808\n",
            "[5,  2000] loss: 0.691\n",
            "[5,  4000] loss: 0.711\n",
            "[5,  6000] loss: 0.756\n",
            "[5,  8000] loss: 0.738\n",
            "[5, 10000] loss: 0.774\n",
            "[5, 12000] loss: 0.763\n",
            "[6,  2000] loss: 0.661\n",
            "[6,  4000] loss: 0.710\n",
            "[6,  6000] loss: 0.727\n",
            "[6,  8000] loss: 0.739\n",
            "[6, 10000] loss: 0.751\n",
            "[6, 12000] loss: 0.762\n",
            "[7,  2000] loss: 0.639\n",
            "[7,  4000] loss: 0.664\n",
            "[7,  6000] loss: 0.729\n",
            "[7,  8000] loss: 0.720\n",
            "[7, 10000] loss: 0.737\n",
            "[7, 12000] loss: 0.746\n",
            "[8,  2000] loss: 0.636\n",
            "[8,  4000] loss: 0.677\n",
            "[8,  6000] loss: 0.693\n",
            "[8,  8000] loss: 0.705\n",
            "[8, 10000] loss: 0.761\n",
            "[8, 12000] loss: 0.715\n",
            "[9,  2000] loss: 0.619\n",
            "[9,  4000] loss: 0.635\n",
            "[9,  6000] loss: 0.678\n",
            "[9,  8000] loss: 0.698\n",
            "[9, 10000] loss: 0.700\n",
            "[9, 12000] loss: 0.748\n",
            "[10,  2000] loss: 0.599\n",
            "[10,  4000] loss: 0.629\n",
            "[10,  6000] loss: 0.700\n",
            "[10,  8000] loss: 0.682\n",
            "[10, 10000] loss: 0.715\n",
            "[10, 12000] loss: 0.711\n"
          ],
          "name": "stdout"
        }
      ]
    },
    {
      "cell_type": "code",
      "metadata": {
        "id": "ehqNU2rDQXuf",
        "colab_type": "code",
        "colab": {}
      },
      "source": [
        "dataiter = iter(testloader)"
      ],
      "execution_count": 0,
      "outputs": []
    },
    {
      "cell_type": "code",
      "metadata": {
        "id": "q0csbfq1ElUZ",
        "colab_type": "code",
        "colab": {
          "base_uri": "https://localhost:8080/",
          "height": 156
        },
        "outputId": "05dfba0a-cf6c-47c6-e85e-7a37ac396597"
      },
      "source": [
        "\n",
        "images, labels = dataiter.next()\n",
        "imshow(torchvision.utils.make_grid(images))\n",
        "print('GroundTruth: ', ' '.join('%5s' % classes[labels[j]] for j in range(4)))\n",
        "\n",
        "images = images.to(device)\n",
        "labels = labels.to(device)\n",
        "\n",
        "outputs = net(images)"
      ],
      "execution_count": 207,
      "outputs": [
        {
          "output_type": "display_data",
          "data": {
            "image/png": "[encoded data removed]",
            "text/plain": [
              "<Figure size 432x288 with 1 Axes>"
            ]
          },
          "metadata": {
            "tags": []
          }
        },
        {
          "output_type": "stream",
          "text": [
            "GroundTruth:    cat   car plane truck\n"
          ],
          "name": "stdout"
        }
      ]
    },
    {
      "cell_type": "code",
      "metadata": {
        "id": "Tc47HUnOPY7V",
        "colab_type": "code",
        "colab": {
          "base_uri": "https://localhost:8080/",
          "height": 34
        },
        "outputId": "e4897903-187b-4ec2-f822-459ddaa8055d"
      },
      "source": [
        "outputs.size()"
      ],
      "execution_count": 208,
      "outputs": [
        {
          "output_type": "execute_result",
          "data": {
            "text/plain": [
              "torch.Size([4, 10])"
            ]
          },
          "metadata": {
            "tags": []
          },
          "execution_count": 208
        }
      ]
    },
    {
      "cell_type": "code",
      "metadata": {
        "id": "NN8t5QDlNqME",
        "colab_type": "code",
        "colab": {}
      },
      "source": [
        "val, pred = torch.max(outputs, 1)"
      ],
      "execution_count": 0,
      "outputs": []
    },
    {
      "cell_type": "code",
      "metadata": {
        "id": "3obgivCXPksp",
        "colab_type": "code",
        "colab": {
          "base_uri": "https://localhost:8080/",
          "height": 34
        },
        "outputId": "d388022f-c02b-4b24-9f44-91e8f39f3d1a"
      },
      "source": [
        "pred"
      ],
      "execution_count": 210,
      "outputs": [
        {
          "output_type": "execute_result",
          "data": {
            "text/plain": [
              "tensor([3, 9, 4, 9], device='cuda:0')"
            ]
          },
          "metadata": {
            "tags": []
          },
          "execution_count": 210
        }
      ]
    },
    {
      "cell_type": "code",
      "metadata": {
        "id": "lmnwMwVEP52g",
        "colab_type": "code",
        "colab": {
          "base_uri": "https://localhost:8080/",
          "height": 34
        },
        "outputId": "24a8272a-b1ef-4a9f-dab1-7eaf570f26fb"
      },
      "source": [
        "[classes[p] for p in pred]"
      ],
      "execution_count": 211,
      "outputs": [
        {
          "output_type": "execute_result",
          "data": {
            "text/plain": [
              "['cat', 'truck', 'deer', 'truck']"
            ]
          },
          "metadata": {
            "tags": []
          },
          "execution_count": 211
        }
      ]
    },
    {
      "cell_type": "code",
      "metadata": {
        "id": "F_PglcCUQEy-",
        "colab_type": "code",
        "colab": {}
      },
      "source": [
        ""
      ],
      "execution_count": 0,
      "outputs": []
    },
    {
      "cell_type": "code",
      "metadata": {
        "id": "zoYm9f1dPwrZ",
        "colab_type": "code",
        "colab": {
          "base_uri": "https://localhost:8080/",
          "height": 51
        },
        "outputId": "401b2024-c4d6-49ea-826b-7305e1659e85"
      },
      "source": [
        "val"
      ],
      "execution_count": 212,
      "outputs": [
        {
          "output_type": "execute_result",
          "data": {
            "text/plain": [
              "tensor([ 7.7879,  6.9551,  5.8587, 15.5622], device='cuda:0',\n",
              "       grad_fn=<MaxBackward0>)"
            ]
          },
          "metadata": {
            "tags": []
          },
          "execution_count": 212
        }
      ]
    },
    {
      "cell_type": "code",
      "metadata": {
        "id": "WXfKhXz_PLPy",
        "colab_type": "code",
        "colab": {}
      },
      "source": [
        "??torch.max"
      ],
      "execution_count": 0,
      "outputs": []
    },
    {
      "cell_type": "code",
      "metadata": {
        "id": "S44EczmAQ4Ga",
        "colab_type": "code",
        "colab": {
          "base_uri": "https://localhost:8080/",
          "height": 34
        },
        "outputId": "f443922a-16f0-4509-dbe6-2c609971b442"
      },
      "source": [
        "(labels == pred).size()"
      ],
      "execution_count": 217,
      "outputs": [
        {
          "output_type": "execute_result",
          "data": {
            "text/plain": [
              "torch.Size([4])"
            ]
          },
          "metadata": {
            "tags": []
          },
          "execution_count": 217
        }
      ]
    },
    {
      "cell_type": "code",
      "metadata": {
        "id": "0Xoien5gPUok",
        "colab_type": "code",
        "colab": {
          "base_uri": "https://localhost:8080/",
          "height": 34
        },
        "outputId": "6f60e547-3ebb-4f71-8353-f110ca23a39a"
      },
      "source": [
        "(labels == pred).squeeze().size()"
      ],
      "execution_count": 218,
      "outputs": [
        {
          "output_type": "execute_result",
          "data": {
            "text/plain": [
              "torch.Size([4])"
            ]
          },
          "metadata": {
            "tags": []
          },
          "execution_count": 218
        }
      ]
    },
    {
      "cell_type": "code",
      "metadata": {
        "id": "zirZYQBJRRs9",
        "colab_type": "code",
        "colab": {}
      },
      "source": [
        "c = (labels == pred)"
      ],
      "execution_count": 0,
      "outputs": []
    },
    {
      "cell_type": "code",
      "metadata": {
        "id": "sgo6BHVwRZUC",
        "colab_type": "code",
        "colab": {
          "base_uri": "https://localhost:8080/",
          "height": 51
        },
        "outputId": "b473735d-9dd8-40f7-ef5d-f5908b4b0c8f"
      },
      "source": [
        "a, b = iter(testloader).next()\n",
        "print(a.size())\n",
        "print(b.size())"
      ],
      "execution_count": 223,
      "outputs": [
        {
          "output_type": "stream",
          "text": [
            "torch.Size([4, 3, 32, 32])\n",
            "torch.Size([4])\n"
          ],
          "name": "stdout"
        }
      ]
    },
    {
      "cell_type": "code",
      "metadata": {
        "id": "kOEBIf8IR4Ub",
        "colab_type": "code",
        "colab": {}
      },
      "source": [
        "class_correct = np.zeros(10)\n",
        "class_total = np.zeros(10)"
      ],
      "execution_count": 0,
      "outputs": []
    },
    {
      "cell_type": "code",
      "metadata": {
        "id": "IgNScYBwQvBR",
        "colab_type": "code",
        "colab": {}
      },
      "source": [
        "correct = 0 \n",
        "total = 0\n",
        "for data in testloader:\n",
        "  images, labels = data[0].to(device), data[1].to(device)\n",
        "  outputs = net(images)\n",
        "  _, predicted = torch.max(outputs, 1)\n",
        "  c = (predicted == labels).squeeze()\n",
        "  correct += c.sum().item()\n",
        "  total += labels.size(0)\n",
        "  for i in range(4):\n",
        "    label = labels[i]\n",
        "    class_correct[label] += c[i].item()\n",
        "    class_total[label] += 1"
      ],
      "execution_count": 0,
      "outputs": []
    },
    {
      "cell_type": "code",
      "metadata": {
        "id": "EGjatLWISS0H",
        "colab_type": "code",
        "colab": {
          "base_uri": "https://localhost:8080/",
          "height": 51
        },
        "outputId": "71234e71-5138-4c95-82ff-4807e028e1df"
      },
      "source": [
        "class_correct/class_total"
      ],
      "execution_count": 251,
      "outputs": [
        {
          "output_type": "execute_result",
          "data": {
            "text/plain": [
              "array([0.693, 0.751, 0.545, 0.463, 0.616, 0.439, 0.684, 0.62 , 0.74 ,\n",
              "       0.616])"
            ]
          },
          "metadata": {
            "tags": []
          },
          "execution_count": 251
        }
      ]
    },
    {
      "cell_type": "code",
      "metadata": {
        "id": "bO_52fgRS7NJ",
        "colab_type": "code",
        "colab": {
          "base_uri": "https://localhost:8080/",
          "height": 34
        },
        "outputId": "6e4d4e98-0afb-43be-a30c-a983925ddd8e"
      },
      "source": [
        "correct/total"
      ],
      "execution_count": 252,
      "outputs": [
        {
          "output_type": "execute_result",
          "data": {
            "text/plain": [
              "0.6167"
            ]
          },
          "metadata": {
            "tags": []
          },
          "execution_count": 252
        }
      ]
    },
    {
      "cell_type": "code",
      "metadata": {
        "id": "weSshKhRSGdz",
        "colab_type": "code",
        "colab": {
          "base_uri": "https://localhost:8080/",
          "height": 34
        },
        "outputId": "d79949e9-d234-4d91-e159-2e136ad8ed14"
      },
      "source": [
        "correct"
      ],
      "execution_count": 255,
      "outputs": [
        {
          "output_type": "execute_result",
          "data": {
            "text/plain": [
              "6167"
            ]
          },
          "metadata": {
            "tags": []
          },
          "execution_count": 255
        }
      ]
    },
    {
      "cell_type": "code",
      "metadata": {
        "id": "DnuL8WwKSrCO",
        "colab_type": "code",
        "colab": {
          "base_uri": "https://localhost:8080/",
          "height": 34
        },
        "outputId": "192c3601-5044-4e00-a202-659d05edb1e5"
      },
      "source": [
        "total"
      ],
      "execution_count": 254,
      "outputs": [
        {
          "output_type": "execute_result",
          "data": {
            "text/plain": [
              "10000"
            ]
          },
          "metadata": {
            "tags": []
          },
          "execution_count": 254
        }
      ]
    },
    {
      "cell_type": "code",
      "metadata": {
        "id": "Hw2pKO7-TFES",
        "colab_type": "code",
        "colab": {}
      },
      "source": [
        ""
      ],
      "execution_count": 0,
      "outputs": []
    },
    {
      "cell_type": "markdown",
      "metadata": {
        "id": "ukN_nh97TdkZ",
        "colab_type": "text"
      },
      "source": [
        "## NN from scratch"
      ]
    },
    {
      "cell_type": "code",
      "metadata": {
        "id": "HS_QtVRdBXk3",
        "colab_type": "code",
        "colab": {}
      },
      "source": [
        "a = torch.eye(3,2)\n",
        "a[1,1] = 2\n",
        "a[0,1] = 10\n",
        "a.unsqueeze(2).shape"
      ],
      "execution_count": 0,
      "outputs": []
    },
    {
      "cell_type": "code",
      "metadata": {
        "id": "COZoT8kgTgIA",
        "colab_type": "code",
        "colab": {}
      },
      "source": [
        "from pathlib import Path\n",
        "import requests\n",
        "\n",
        "DATA_PATH = Path(\"data\")\n",
        "\n",
        "PATH = DATA_PATH / \"mnist\"\n",
        "\n",
        "\n",
        "PATH.mkdir(parents=True, exist_ok=True)\n",
        "\n",
        "URL = \"http://deeplearning.net/data/mnist/\"\n",
        "FILENAME = \"mnist.pkl.gz\"\n",
        "\n",
        "if not (PATH / FILENAME).exists():\n",
        "        content = requests.get(URL + FILENAME).content\n",
        "        (PATH / FILENAME).open(\"wb\").write(content)"
      ],
      "execution_count": 0,
      "outputs": []
    },
    {
      "cell_type": "code",
      "metadata": {
        "id": "jNydNSNEUDdo",
        "colab_type": "code",
        "colab": {}
      },
      "source": [
        "import pickle\n",
        "import gzip\n",
        "\n",
        "with gzip.open((PATH / FILENAME).as_posix(), \"rb\") as f:\n",
        "        ((x_train, y_train), (x_valid, y_valid), _) = pickle.load(f, encoding=\"latin-1\")"
      ],
      "execution_count": 0,
      "outputs": []
    },
    {
      "cell_type": "code",
      "metadata": {
        "id": "RoROj_hVUBNB",
        "colab_type": "code",
        "colab": {
          "base_uri": "https://localhost:8080/",
          "height": 303
        },
        "outputId": "58d01e8f-6dbf-40c2-f17d-1b32f1c724a4"
      },
      "source": [
        "from matplotlib import pyplot\n",
        "import numpy as np\n",
        "\n",
        "pyplot.imshow(x_train[0].reshape((28, 28)), cmap=\"gray\")\n",
        "print(x_train.shape)\n",
        "print(y_train[0])"
      ],
      "execution_count": 9,
      "outputs": [
        {
          "output_type": "stream",
          "text": [
            "(50000, 784)\n",
            "5\n"
          ],
          "name": "stdout"
        },
        {
          "output_type": "display_data",
          "data": {
            "image/png": "[encoded data removed]",
            "text/plain": [
              "<Figure size 432x288 with 1 Axes>"
            ]
          },
          "metadata": {
            "tags": []
          }
        }
      ]
    },
    {
      "cell_type": "code",
      "metadata": {
        "id": "4F411skFUGSy",
        "colab_type": "code",
        "colab": {}
      },
      "source": [
        "import torch\n",
        "\n",
        "x_train, y_train, x_valid, y_valid = map(\n",
        "    torch.tensor, (x_train, y_train, x_valid, y_valid)\n",
        ")"
      ],
      "execution_count": 0,
      "outputs": []
    },
    {
      "cell_type": "code",
      "metadata": {
        "id": "CKa2EV-RUOzF",
        "colab_type": "code",
        "colab": {
          "base_uri": "https://localhost:8080/",
          "height": 34
        },
        "outputId": "3226504d-dc6e-4c87-aa02-8d0be1f7cd9c"
      },
      "source": [
        "x_train.shape"
      ],
      "execution_count": 124,
      "outputs": [
        {
          "output_type": "execute_result",
          "data": {
            "text/plain": [
              "torch.Size([50000, 784])"
            ]
          },
          "metadata": {
            "tags": []
          },
          "execution_count": 124
        }
      ]
    },
    {
      "cell_type": "code",
      "metadata": {
        "id": "StfWzkFrUQr0",
        "colab_type": "code",
        "colab": {}
      },
      "source": [
        "\n",
        "weights = torch.randn(x_train.shape[1], 10) / np.sqrt(x_train.shape[1])\n",
        "weights.requires_grad_()\n",
        "bias = torch.zeros(10, requires_grad=True)"
      ],
      "execution_count": 0,
      "outputs": []
    },
    {
      "cell_type": "code",
      "metadata": {
        "id": "zADiQvJw_rjs",
        "colab_type": "code",
        "colab": {}
      },
      "source": [
        "??weights.requires_grad_"
      ],
      "execution_count": 0,
      "outputs": []
    },
    {
      "cell_type": "code",
      "metadata": {
        "id": "IjveviuX2mZn",
        "colab_type": "code",
        "colab": {}
      },
      "source": [
        "def log_softmax(x):\n",
        "    return x - x.exp().sum(-1).log().unsqueeze(-1)\n",
        "\n",
        "def model(xb):\n",
        "    return log_softmax(xb @ weights + bias)"
      ],
      "execution_count": 0,
      "outputs": []
    },
    {
      "cell_type": "code",
      "metadata": {
        "id": "awKwDNes-ajz",
        "colab_type": "code",
        "colab": {
          "base_uri": "https://localhost:8080/",
          "height": 51
        },
        "outputId": "751f4845-1074-4771-9bd8-7a5cbbb0c5e2"
      },
      "source": [
        "bs = 64  # batch size\n",
        "\n",
        "xb = x_train[0:bs]  # a mini-batch from x\n",
        "yb = y_train[0:bs]\n",
        "preds = model(xb)  # predictions\n",
        "preds[0], preds.shape\n",
        "print(preds[0], preds.shape)"
      ],
      "execution_count": 132,
      "outputs": [
        {
          "output_type": "stream",
          "text": [
            "tensor([-2.3252, -2.7084, -2.5848, -2.5580, -2.1519, -2.3117, -1.9825, -2.7354,\n",
            "        -1.9035, -2.1567], grad_fn=<SelectBackward>) torch.Size([64, 10])\n"
          ],
          "name": "stdout"
        }
      ]
    },
    {
      "cell_type": "code",
      "metadata": {
        "id": "B8Bvr40w-pE-",
        "colab_type": "code",
        "colab": {
          "base_uri": "https://localhost:8080/",
          "height": 34
        },
        "outputId": "3f3c7b04-e5f9-4d79-e19d-461738641326"
      },
      "source": [
        "def accuracy(out, yb):\n",
        "    preds = torch.argmax(out, dim=1)\n",
        "    return (preds == yb).float().mean()\n",
        "\n",
        "\n",
        "print(accuracy(preds, yb))"
      ],
      "execution_count": 133,
      "outputs": [
        {
          "output_type": "stream",
          "text": [
            "tensor(0.1094)\n"
          ],
          "name": "stdout"
        }
      ]
    },
    {
      "cell_type": "code",
      "metadata": {
        "id": "SsDymrjP8i-C",
        "colab_type": "code",
        "colab": {}
      },
      "source": [
        "def nll(input, target):\n",
        "    return -input[range(target.shape[0]), target].mean()\n",
        "\n",
        "loss_func = nll"
      ],
      "execution_count": 0,
      "outputs": []
    },
    {
      "cell_type": "code",
      "metadata": {
        "id": "EBYAFMT4Brvu",
        "colab_type": "code",
        "colab": {}
      },
      "source": [
        "weights = torch.randn(x_train.shape[1], 10) / np.sqrt(x_train.shape[1])\n",
        "weights.requires_grad_()\n",
        "\n",
        "bias = torch.zeros(10, requires_grad=True)"
      ],
      "execution_count": 0,
      "outputs": []
    },
    {
      "cell_type": "code",
      "metadata": {
        "id": "3LonxwsR7Nt5",
        "colab_type": "code",
        "colab": {}
      },
      "source": [
        "lr = 0.5\n",
        "epochs = 10\n",
        "bs = 64\n",
        "n = x_train.shape[0]\n",
        "\n",
        "for epoch in range(epochs):\n",
        "  for i in range( (n-1)//bs + 1):\n",
        "    a = i * bs\n",
        "    b = a + bs\n",
        "    xb = x_train[a:b]\n",
        "    yb = y_train[a:b]\n",
        "    pred = model(xb)\n",
        "    loss = loss_func(pred, yb)\n",
        "    \n",
        "    loss.backward()\n",
        "    \n",
        "    with torch.no_grad():\n",
        "      weights -= weights.grad * lr\n",
        "      bias -= bias.grad * lr\n",
        "      weights.grad.zero_()\n",
        "      bias.grad.zero_()"
      ],
      "execution_count": 0,
      "outputs": []
    },
    {
      "cell_type": "code",
      "metadata": {
        "id": "llPEzw_b_RBV",
        "colab_type": "code",
        "colab": {
          "base_uri": "https://localhost:8080/",
          "height": 34
        },
        "outputId": "91c74f4b-4593-4170-e8a7-88e22b6c9246"
      },
      "source": [
        "print(loss_func(model(x_train), y_train), accuracy(model(x_train), y_train))"
      ],
      "execution_count": 157,
      "outputs": [
        {
          "output_type": "stream",
          "text": [
            "tensor(0.2733, grad_fn=<NegBackward>) tensor(0.9230)\n"
          ],
          "name": "stdout"
        }
      ]
    },
    {
      "cell_type": "code",
      "metadata": {
        "id": "0yH6aI9C5NqU",
        "colab_type": "code",
        "colab": {}
      },
      "source": [
        "import torch.nn.functional as F\n",
        "\n",
        "loss_func = F.cross_entropy  # using cross_entropy fun\n",
        "\n",
        "def model(xb):\n",
        "  return xb @ weights + bias\n",
        "\n",
        "lr = 0.5\n",
        "epochs = 10\n",
        "bs = 64\n",
        "n = x_train.shape[0]\n",
        "\n",
        "for epoch in range(epochs):\n",
        "  for i in range( (n-1)//bs + 1):\n",
        "    a = i * bs\n",
        "    b = a + bs\n",
        "    xb = x_train[a:b]\n",
        "    yb = y_train[a:b]\n",
        "    pred = model(xb)\n",
        "    loss = loss_func(pred, yb)\n",
        "    \n",
        "    loss.backward()\n",
        "    \n",
        "    with torch.no_grad():\n",
        "      weights -= weights.grad * lr\n",
        "      bias -= bias.grad * lr\n",
        "      weights.grad.zero_()\n",
        "      bias.grad.zero_()"
      ],
      "execution_count": 0,
      "outputs": []
    },
    {
      "cell_type": "code",
      "metadata": {
        "id": "RbHLP0JEBv5v",
        "colab_type": "code",
        "colab": {
          "base_uri": "https://localhost:8080/",
          "height": 34
        },
        "outputId": "56749fbe-668d-40c0-f660-ecd21b1faa7f"
      },
      "source": [
        "print(loss_func(model(x_train), y_train), accuracy(model(x_train), y_train))"
      ],
      "execution_count": 159,
      "outputs": [
        {
          "output_type": "stream",
          "text": [
            "tensor(0.2640, grad_fn=<NllLossBackward>) tensor(0.9253)\n"
          ],
          "name": "stdout"
        }
      ]
    },
    {
      "cell_type": "code",
      "metadata": {
        "id": "qVuIhzy5JD_0",
        "colab_type": "code",
        "colab": {}
      },
      "source": [
        "tt = 10"
      ],
      "execution_count": 0,
      "outputs": []
    },
    {
      "cell_type": "code",
      "metadata": {
        "id": "6fWOPwpwHjIs",
        "colab_type": "code",
        "colab": {}
      },
      "source": [
        "class Rectangle:\n",
        "    def __init__(self, length, width):\n",
        "        self.length = length\n",
        "        self.width = width\n",
        "\n",
        "    def area(self):\n",
        "        return self.length * self.width # + tt \n",
        "\n",
        "    def perimeter(self):\n",
        "        return 2 * self.length + 2 * self.width\n",
        "\n",
        "# Here we declare that the Square class inherits from the Rectangle class\n",
        "class Square(Rectangle):\n",
        "    def __init__(self, length):\n",
        "        super().__init__(length, length) # --> use of super() <--\n",
        "        \n",
        "class anotherSquare(Rectangle):\n",
        "    def __init__(self, length):\n",
        "      self.length = length\n",
        "      self.width = length"
      ],
      "execution_count": 0,
      "outputs": []
    },
    {
      "cell_type": "code",
      "metadata": {
        "id": "CbJKHKxqHkIc",
        "colab_type": "code",
        "colab": {
          "base_uri": "https://localhost:8080/",
          "height": 119
        },
        "outputId": "66da62e9-f940-4dde-f9ab-1ab3042f9b94"
      },
      "source": [
        "f = Rectangle(5,4)\n",
        "print(f.area())\n",
        "print(f.perimeter())\n",
        "\n",
        "s = Square(5)\n",
        "print(s.area())\n",
        "print(s.perimeter())\n",
        "\n",
        "s = anotherSquare(6)\n",
        "print(s.area())\n",
        "print(s.perimeter())"
      ],
      "execution_count": 176,
      "outputs": [
        {
          "output_type": "stream",
          "text": [
            "30\n",
            "18\n",
            "35\n",
            "20\n",
            "46\n",
            "24\n"
          ],
          "name": "stdout"
        }
      ]
    },
    {
      "cell_type": "code",
      "metadata": {
        "id": "EcO4m1OIB9Ra",
        "colab_type": "code",
        "colab": {}
      },
      "source": [
        "from torch import nn"
      ],
      "execution_count": 0,
      "outputs": []
    },
    {
      "cell_type": "code",
      "metadata": {
        "id": "y4PAEvogB1og",
        "colab_type": "code",
        "colab": {}
      },
      "source": [
        "class Net(nn.Module):\n",
        "  def __init__(self):\n",
        "    super().__init__()\n",
        "    self.weights = nn.Parameter(torch.randn(784, 10) / np.sqrt(784))\n",
        "    self.bias = nn.Parameter(torch.zeros(10, requires_grad=True))\n",
        "  \n",
        "  def forward(self, xb):\n",
        "    return xb @ self.weights + self.bias\n",
        "    "
      ],
      "execution_count": 0,
      "outputs": []
    },
    {
      "cell_type": "code",
      "metadata": {
        "id": "RIkbahrTJX5l",
        "colab_type": "code",
        "colab": {}
      },
      "source": [
        "model = Net()\n",
        "\n",
        "lr = 0.5\n",
        "epochs = 10\n",
        "bs = 64\n",
        "n = x_train.shape[0]\n",
        "\n",
        "for epoch in range(epochs):\n",
        "  for i in range( (n-1)//bs + 1):\n",
        "    a = i * bs\n",
        "    b = a + bs\n",
        "    xb = x_train[a:b]\n",
        "    yb = y_train[a:b]\n",
        "    pred = model(xb)\n",
        "    loss = loss_func(pred, yb)\n",
        "    \n",
        "    loss.backward()\n",
        "    \n",
        "    with torch.no_grad():\n",
        "      for p in model.parameters():\n",
        "        p -= p.grad * lr\n",
        "      model.zero_grad()\n",
        "      "
      ],
      "execution_count": 0,
      "outputs": []
    },
    {
      "cell_type": "code",
      "metadata": {
        "id": "Uvl0J5tGJ_ye",
        "colab_type": "code",
        "colab": {
          "base_uri": "https://localhost:8080/",
          "height": 34
        },
        "outputId": "02eed7b7-a842-458f-ad0d-0db410abf878"
      },
      "source": [
        "print(loss_func(model(x_train), y_train), accuracy(model(x_train), y_train))"
      ],
      "execution_count": 183,
      "outputs": [
        {
          "output_type": "stream",
          "text": [
            "tensor(0.2730, grad_fn=<NllLossBackward>) tensor(0.9227)\n"
          ],
          "name": "stdout"
        }
      ]
    },
    {
      "cell_type": "code",
      "metadata": {
        "id": "a3RjE0pHKI6m",
        "colab_type": "code",
        "colab": {}
      },
      "source": [
        "model = Net()\n",
        "\n",
        "lr = 0.5\n",
        "epochs = 10\n",
        "bs = 64\n",
        "n = x_train.shape[0]\n",
        "\n",
        "for epoch in range(epochs):\n",
        "  for i in range( (n-1)//bs + 1):\n",
        "    a = i * bs\n",
        "    b = a + bs\n",
        "    xb = x_train[a:b]\n",
        "    yb = y_train[a:b]\n",
        "    pred = model(xb)\n",
        "    loss = loss_func(pred, yb)\n",
        "    \n",
        "    loss.backward()\n",
        "    \n",
        "    torch.optim.SGD(model.parameters(), lr=lr).step()\n",
        "      "
      ],
      "execution_count": 0,
      "outputs": []
    },
    {
      "cell_type": "code",
      "metadata": {
        "id": "FmLu8KfHKSuh",
        "colab_type": "code",
        "colab": {
          "base_uri": "https://localhost:8080/",
          "height": 34
        },
        "outputId": "b3e3a256-7126-4b9e-adc4-e58e59d6d643"
      },
      "source": [
        "print(loss_func(model(x_train), y_train), accuracy(model(x_train), y_train))"
      ],
      "execution_count": 186,
      "outputs": [
        {
          "output_type": "stream",
          "text": [
            "tensor(405.5279, grad_fn=<NllLossBackward>) tensor(0.8888)\n"
          ],
          "name": "stdout"
        }
      ]
    },
    {
      "cell_type": "markdown",
      "metadata": {
        "id": "1EOUxnzgqdQ4",
        "colab_type": "text"
      },
      "source": [
        "## with torch.no_grad():  It will make the code run faster whenever gradient tracking is not needed.\n",
        "\n",
        "### for variables with grad, use temp += 1 or temp.add_(1) may gives a error\n",
        "\n",
        "```a leaf Variable that requires grad has been used in an in-place operation``` \n",
        "\n",
        "temp = temp + 1 is fine but grad will be set ```None```"
      ]
    },
    {
      "cell_type": "markdown",
      "metadata": {
        "id": "VjwAz-Cwx_52",
        "colab_type": "text"
      },
      "source": [
        "* case i"
      ]
    },
    {
      "cell_type": "code",
      "metadata": {
        "id": "W9eIjz8TsoNu",
        "colab_type": "code",
        "colab": {
          "base_uri": "https://localhost:8080/",
          "height": 170
        },
        "outputId": "b375181c-d6c4-4f5a-9ee2-6a6cb6dc9b4a"
      },
      "source": [
        "temp = torch.ones(10, requires_grad=True)\n",
        "print(temp)\n",
        "print(temp.grad == None)\n",
        "\n",
        "loss = temp.mean()\n",
        "loss.backward()\n",
        "\n",
        "print(temp.grad)\n",
        "with torch.no_grad():\n",
        "  temp += 1\n",
        "print(temp)\n",
        "print(temp.grad)\n",
        "loss.backward()\n",
        "print(temp.grad)"
      ],
      "execution_count": 81,
      "outputs": [
        {
          "output_type": "stream",
          "text": [
            "tensor([1., 1., 1., 1., 1., 1., 1., 1., 1., 1.], requires_grad=True)\n",
            "True\n",
            "tensor([0.1000, 0.1000, 0.1000, 0.1000, 0.1000, 0.1000, 0.1000, 0.1000, 0.1000,\n",
            "        0.1000])\n",
            "tensor([2., 2., 2., 2., 2., 2., 2., 2., 2., 2.], requires_grad=True)\n",
            "tensor([0.1000, 0.1000, 0.1000, 0.1000, 0.1000, 0.1000, 0.1000, 0.1000, 0.1000,\n",
            "        0.1000])\n",
            "tensor([0.2000, 0.2000, 0.2000, 0.2000, 0.2000, 0.2000, 0.2000, 0.2000, 0.2000,\n",
            "        0.2000])\n"
          ],
          "name": "stdout"
        }
      ]
    },
    {
      "cell_type": "markdown",
      "metadata": {
        "id": "LXbSg4XryBx2",
        "colab_type": "text"
      },
      "source": [
        "* case ii"
      ]
    },
    {
      "cell_type": "code",
      "metadata": {
        "id": "s0L7bFO98Lpz",
        "colab_type": "code",
        "colab": {
          "base_uri": "https://localhost:8080/",
          "height": 119
        },
        "outputId": "6aaaa6a4-168b-41e8-f776-70ef88a24520"
      },
      "source": [
        "temp = torch.ones(10, requires_grad=True)\n",
        "print(temp)\n",
        "print(temp.grad == None)\n",
        "\n",
        "loss = temp.mean()\n",
        "loss.backward()\n",
        "\n",
        "print(temp.grad)\n",
        "\n",
        "temp = temp + 1\n",
        "\n",
        "print(temp.grad == None)\n",
        "\n",
        "loss.backward()\n",
        "print(temp.grad == None)"
      ],
      "execution_count": 75,
      "outputs": [
        {
          "output_type": "stream",
          "text": [
            "tensor([1., 1., 1., 1., 1., 1., 1., 1., 1., 1.], requires_grad=True)\n",
            "True\n",
            "tensor([0.1000, 0.1000, 0.1000, 0.1000, 0.1000, 0.1000, 0.1000, 0.1000, 0.1000,\n",
            "        0.1000])\n",
            "True\n",
            "True\n"
          ],
          "name": "stdout"
        }
      ]
    },
    {
      "cell_type": "markdown",
      "metadata": {
        "id": "tQfLGZZEyDhV",
        "colab_type": "text"
      },
      "source": [
        "* case iii"
      ]
    },
    {
      "cell_type": "code",
      "metadata": {
        "id": "vjdMTyVIxBCR",
        "colab_type": "code",
        "colab": {
          "base_uri": "https://localhost:8080/",
          "height": 170
        },
        "outputId": "dd54cc10-5d94-4104-b7b0-1eb60edd6549"
      },
      "source": [
        "temp = torch.ones(10, requires_grad=True)\n",
        "print(temp)\n",
        "print(temp.is_leaf)\n",
        "print(temp.grad == None)\n",
        "\n",
        "loss = temp.mean()\n",
        "loss.backward()\n",
        "\n",
        "print(temp.grad)\n",
        "\n",
        "with torch.no_grad():\n",
        "  temp.add_(1)\n",
        "\n",
        "print(temp.grad)\n",
        "\n",
        "loss.backward()\n",
        "print(temp.grad)"
      ],
      "execution_count": 84,
      "outputs": [
        {
          "output_type": "stream",
          "text": [
            "tensor([1., 1., 1., 1., 1., 1., 1., 1., 1., 1.], requires_grad=True)\n",
            "True\n",
            "True\n",
            "tensor([0.1000, 0.1000, 0.1000, 0.1000, 0.1000, 0.1000, 0.1000, 0.1000, 0.1000,\n",
            "        0.1000])\n",
            "tensor([0.1000, 0.1000, 0.1000, 0.1000, 0.1000, 0.1000, 0.1000, 0.1000, 0.1000,\n",
            "        0.1000])\n",
            "tensor([0.2000, 0.2000, 0.2000, 0.2000, 0.2000, 0.2000, 0.2000, 0.2000, 0.2000,\n",
            "        0.2000])\n"
          ],
          "name": "stdout"
        }
      ]
    },
    {
      "cell_type": "code",
      "metadata": {
        "id": "oEieTA_DyfvA",
        "colab_type": "code",
        "colab": {}
      },
      "source": [
        "\n",
        "\n",
        "# Creating the graph\n",
        "x = torch.tensor(1.0, requires_grad = True)\n",
        "y = torch.tensor(2.0)\n",
        "z = x * y\n",
        "z.backward()\n"
      ],
      "execution_count": 0,
      "outputs": []
    },
    {
      "cell_type": "code",
      "metadata": {
        "id": "TDgwurMr-Obv",
        "colab_type": "code",
        "colab": {
          "base_uri": "https://localhost:8080/",
          "height": 51
        },
        "outputId": "d34498ba-986f-4257-b828-c7315d5b2402"
      },
      "source": [
        "print(x.grad)\n",
        "print(y.grad)"
      ],
      "execution_count": 122,
      "outputs": [
        {
          "output_type": "stream",
          "text": [
            "tensor(2.)\n",
            "None\n"
          ],
          "name": "stdout"
        }
      ]
    },
    {
      "cell_type": "code",
      "metadata": {
        "id": "4xRV6ZBDJ92Q",
        "colab_type": "code",
        "colab": {}
      },
      "source": [
        ""
      ],
      "execution_count": 0,
      "outputs": []
    },
    {
      "cell_type": "markdown",
      "metadata": {
        "id": "I0xpqI4_-Va_",
        "colab_type": "text"
      },
      "source": [
        "## Torch linear regression from scratch"
      ]
    },
    {
      "cell_type": "code",
      "metadata": {
        "id": "DrFzKN5d0fw_",
        "colab_type": "code",
        "colab": {}
      },
      "source": [
        "x = torch.randn(100,5)\n",
        "beta = torch.ones(5)\n",
        "y = x @ beta + torch.randn(100)"
      ],
      "execution_count": 0,
      "outputs": []
    },
    {
      "cell_type": "code",
      "metadata": {
        "id": "wVNyDrFN2oYS",
        "colab_type": "code",
        "colab": {}
      },
      "source": [
        "w = torch.zeros(5, requires_grad=True)"
      ],
      "execution_count": 0,
      "outputs": []
    },
    {
      "cell_type": "code",
      "metadata": {
        "id": "NOoj_Ipv2pNR",
        "colab_type": "code",
        "colab": {}
      },
      "source": [
        "loss = torch.sum( (x @ w - y)**2 )"
      ],
      "execution_count": 0,
      "outputs": []
    },
    {
      "cell_type": "code",
      "metadata": {
        "id": "4K1PSY3L3uT2",
        "colab_type": "code",
        "colab": {}
      },
      "source": [
        "loss.backward()\n",
        "w.grad == -2*x.t() @ (y - x@w) # exact equal"
      ],
      "execution_count": 0,
      "outputs": []
    },
    {
      "cell_type": "code",
      "metadata": {
        "id": "yHucMxWA3JkL",
        "colab_type": "code",
        "colab": {
          "base_uri": "https://localhost:8080/",
          "height": 187
        },
        "outputId": "527f969a-9b26-4051-83e5-b31b0d987f04"
      },
      "source": [
        "lr = 0.001\n",
        "for i in range(10):\n",
        "  loss = torch.sum( (x @ w - y)**2 )\n",
        "  loss.backward()  \n",
        "  with torch.no_grad():\n",
        "    w -= lr * w.grad\n",
        "    print(w)\n",
        "    w.grad.zero_()\n",
        "    "
      ],
      "execution_count": 152,
      "outputs": [
        {
          "output_type": "stream",
          "text": [
            "tensor([0.9980, 1.0695, 0.8108, 0.9776, 0.9324], requires_grad=True)\n",
            "tensor([0.9980, 1.0695, 0.8108, 0.9776, 0.9324], requires_grad=True)\n",
            "tensor([0.9980, 1.0695, 0.8108, 0.9776, 0.9324], requires_grad=True)\n",
            "tensor([0.9980, 1.0695, 0.8108, 0.9776, 0.9324], requires_grad=True)\n",
            "tensor([0.9980, 1.0695, 0.8108, 0.9776, 0.9324], requires_grad=True)\n",
            "tensor([0.9980, 1.0695, 0.8108, 0.9776, 0.9324], requires_grad=True)\n",
            "tensor([0.9980, 1.0695, 0.8108, 0.9776, 0.9324], requires_grad=True)\n",
            "tensor([0.9980, 1.0695, 0.8108, 0.9776, 0.9324], requires_grad=True)\n",
            "tensor([0.9980, 1.0695, 0.8108, 0.9776, 0.9324], requires_grad=True)\n",
            "tensor([0.9980, 1.0695, 0.8108, 0.9776, 0.9324], requires_grad=True)\n"
          ],
          "name": "stdout"
        }
      ]
    },
    {
      "cell_type": "code",
      "metadata": {
        "id": "KwywfPp03LFT",
        "colab_type": "code",
        "colab": {
          "base_uri": "https://localhost:8080/",
          "height": 34
        },
        "outputId": "15014f00-02e2-4ff2-9998-a8dcd59fd967"
      },
      "source": [
        "torch.inverse(x.t() @ x) @ x.t() @ y"
      ],
      "execution_count": 151,
      "outputs": [
        {
          "output_type": "execute_result",
          "data": {
            "text/plain": [
              "tensor([0.9980, 1.0695, 0.8108, 0.9776, 0.9324])"
            ]
          },
          "metadata": {
            "tags": []
          },
          "execution_count": 151
        }
      ]
    },
    {
      "cell_type": "code",
      "metadata": {
        "id": "VpGwuWCTA5R6",
        "colab_type": "code",
        "colab": {}
      },
      "source": [
        ""
      ],
      "execution_count": 0,
      "outputs": []
    }
  ]
}
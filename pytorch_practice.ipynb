{
  "nbformat": 4,
  "nbformat_minor": 0,
  "metadata": {
    "colab": {
      "name": "imdb_movie_review.ipynb",
      "version": "0.3.2",
      "provenance": []
    },
    "language_info": {
      "codemirror_mode": {
        "name": "ipython",
        "version": 3
      },
      "file_extension": ".py",
      "mimetype": "text/x-python",
      "name": "python",
      "nbconvert_exporter": "python",
      "pygments_lexer": "ipython3",
      "version": "3.7.3"
    },
    "kernelspec": {
      "name": "python3",
      "display_name": "Python 3"
    },
    "accelerator": "GPU"
  },
  "cells": [
    {
      "cell_type": "markdown",
      "metadata": {
        "id": "TXATAK140Yv-",
        "colab_type": "text"
      },
      "source": [
        "## Pytorch basics"
      ]
    },
    {
      "cell_type": "code",
      "metadata": {
        "id": "Y96Fw0PVwocx",
        "colab_type": "code",
        "colab": {}
      },
      "source": [
        "import torch"
      ],
      "execution_count": 0,
      "outputs": []
    },
    {
      "cell_type": "code",
      "metadata": {
        "id": "4MpaBGIGwvqk",
        "colab_type": "code",
        "colab": {
          "base_uri": "https://localhost:8080/",
          "height": 102
        },
        "outputId": "43ec030a-bb6f-425a-e4f1-fbd0fbf831f5"
      },
      "source": [
        "x = torch.empty(5, 5)\n",
        "x"
      ],
      "execution_count": 3,
      "outputs": [
        {
          "output_type": "execute_result",
          "data": {
            "text/plain": [
              "tensor([[0.0000e+00, 0.0000e+00, 6.8664e-44, 7.9874e-44, 6.3058e-44],\n",
              "        [6.7262e-44, 7.7071e-44, 6.3058e-44, 6.8664e-44, 7.5670e-44],\n",
              "        [1.1771e-43, 7.0065e-44, 6.8664e-44, 8.1275e-44, 7.2868e-44],\n",
              "        [7.9874e-44, 8.1275e-44, 7.4269e-44, 7.1466e-44, 6.4460e-44],\n",
              "        [7.7071e-44, 7.7071e-44, 6.7262e-44, 7.2868e-44, 7.5670e-44]])"
            ]
          },
          "metadata": {
            "tags": []
          },
          "execution_count": 3
        }
      ]
    },
    {
      "cell_type": "code",
      "metadata": {
        "id": "sBj3td2Pw1u_",
        "colab_type": "code",
        "colab": {
          "base_uri": "https://localhost:8080/",
          "height": 51
        },
        "outputId": "71b42e99-e9a5-4e64-b5a0-fef51066aa6a"
      },
      "source": [
        "torch.rand(2,2)"
      ],
      "execution_count": 4,
      "outputs": [
        {
          "output_type": "execute_result",
          "data": {
            "text/plain": [
              "tensor([[0.0462, 0.0250],\n",
              "        [0.7451, 0.8604]])"
            ]
          },
          "metadata": {
            "tags": []
          },
          "execution_count": 4
        }
      ]
    },
    {
      "cell_type": "code",
      "metadata": {
        "id": "ZQwrR_omw91O",
        "colab_type": "code",
        "colab": {
          "base_uri": "https://localhost:8080/",
          "height": 51
        },
        "outputId": "e8d6191c-765f-4212-c2e7-40daea907d83"
      },
      "source": [
        "torch.zeros(2,2, dtype=torch.long)"
      ],
      "execution_count": 11,
      "outputs": [
        {
          "output_type": "execute_result",
          "data": {
            "text/plain": [
              "tensor([[0, 0],\n",
              "        [0, 0]])"
            ]
          },
          "metadata": {
            "tags": []
          },
          "execution_count": 11
        }
      ]
    },
    {
      "cell_type": "code",
      "metadata": {
        "id": "QrdBGrH7xCUU",
        "colab_type": "code",
        "colab": {}
      },
      "source": [
        "??torch.zeros"
      ],
      "execution_count": 0,
      "outputs": []
    },
    {
      "cell_type": "code",
      "metadata": {
        "id": "WWWkqUk8w_z9",
        "colab_type": "code",
        "colab": {
          "base_uri": "https://localhost:8080/",
          "height": 51
        },
        "outputId": "130dffb4-1c49-4010-b281-16295c670a42"
      },
      "source": [
        "torch.tensor([[1,2],[4,5]])"
      ],
      "execution_count": 13,
      "outputs": [
        {
          "output_type": "execute_result",
          "data": {
            "text/plain": [
              "tensor([[1, 2],\n",
              "        [4, 5]])"
            ]
          },
          "metadata": {
            "tags": []
          },
          "execution_count": 13
        }
      ]
    },
    {
      "cell_type": "code",
      "metadata": {
        "id": "jusd4Ay2xTXA",
        "colab_type": "code",
        "colab": {}
      },
      "source": [
        "x = torch.tensor(range(4), dtype = torch.double)"
      ],
      "execution_count": 0,
      "outputs": []
    },
    {
      "cell_type": "code",
      "metadata": {
        "id": "Xbj8lZOlx-uP",
        "colab_type": "code",
        "colab": {
          "base_uri": "https://localhost:8080/",
          "height": 119
        },
        "outputId": "d9039d6e-2b1a-4113-8646-b9348dd44164"
      },
      "source": [
        "print(x.new_ones(5,3))  # what is the point of this ? \n",
        "print(x)"
      ],
      "execution_count": 22,
      "outputs": [
        {
          "output_type": "stream",
          "text": [
            "tensor([[1., 1., 1.],\n",
            "        [1., 1., 1.],\n",
            "        [1., 1., 1.],\n",
            "        [1., 1., 1.],\n",
            "        [1., 1., 1.]], dtype=torch.float64)\n",
            "tensor([0., 1., 2., 3.], dtype=torch.float64)\n"
          ],
          "name": "stdout"
        }
      ]
    },
    {
      "cell_type": "code",
      "metadata": {
        "id": "ZhXP-6sEx_ov",
        "colab_type": "code",
        "colab": {
          "base_uri": "https://localhost:8080/",
          "height": 34
        },
        "outputId": "7242b01b-da31-428f-adcc-a51342912c0d"
      },
      "source": [
        "torch.randn_like(x)"
      ],
      "execution_count": 23,
      "outputs": [
        {
          "output_type": "execute_result",
          "data": {
            "text/plain": [
              "tensor([-0.6031, -0.6388, -1.2493,  1.4617], dtype=torch.float64)"
            ]
          },
          "metadata": {
            "tags": []
          },
          "execution_count": 23
        }
      ]
    },
    {
      "cell_type": "code",
      "metadata": {
        "id": "hyd8hHFDyItQ",
        "colab_type": "code",
        "colab": {
          "base_uri": "https://localhost:8080/",
          "height": 51
        },
        "outputId": "b63a7c51-ad9e-4c08-8065-ab29705a87a0"
      },
      "source": [
        "print(x.shape)  # same \n",
        "print(x.size())"
      ],
      "execution_count": 26,
      "outputs": [
        {
          "output_type": "stream",
          "text": [
            "torch.Size([4])\n",
            "torch.Size([4])\n"
          ],
          "name": "stdout"
        }
      ]
    },
    {
      "cell_type": "code",
      "metadata": {
        "id": "8DkQJFfqydNO",
        "colab_type": "code",
        "colab": {
          "base_uri": "https://localhost:8080/",
          "height": 34
        },
        "outputId": "81cf0eb1-ae26-47c8-eff3-ba92f3c7aba5"
      },
      "source": [
        "x + torch.tensor(range(4), dtype = torch.double)"
      ],
      "execution_count": 28,
      "outputs": [
        {
          "output_type": "execute_result",
          "data": {
            "text/plain": [
              "tensor([0., 2., 4., 6.], dtype=torch.float64)"
            ]
          },
          "metadata": {
            "tags": []
          },
          "execution_count": 28
        }
      ]
    },
    {
      "cell_type": "code",
      "metadata": {
        "id": "RElnyRg0ypRO",
        "colab_type": "code",
        "colab": {}
      },
      "source": [
        "y = torch.tensor(range(4), dtype = torch.double)"
      ],
      "execution_count": 0,
      "outputs": []
    },
    {
      "cell_type": "code",
      "metadata": {
        "id": "2nOjYQ0cyzkv",
        "colab_type": "code",
        "colab": {
          "base_uri": "https://localhost:8080/",
          "height": 34
        },
        "outputId": "869eec61-8346-4226-b3de-4178ff204d4f"
      },
      "source": [
        "y.add_(x) # y = y + x"
      ],
      "execution_count": 30,
      "outputs": [
        {
          "output_type": "execute_result",
          "data": {
            "text/plain": [
              "tensor([0., 2., 4., 6.], dtype=torch.float64)"
            ]
          },
          "metadata": {
            "tags": []
          },
          "execution_count": 30
        }
      ]
    },
    {
      "cell_type": "code",
      "metadata": {
        "id": "HT_muasky2F_",
        "colab_type": "code",
        "colab": {
          "base_uri": "https://localhost:8080/",
          "height": 34
        },
        "outputId": "e6688d22-e72b-4982-ea59-e7f6d0792b21"
      },
      "source": [
        "y"
      ],
      "execution_count": 31,
      "outputs": [
        {
          "output_type": "execute_result",
          "data": {
            "text/plain": [
              "tensor([0., 2., 4., 6.], dtype=torch.float64)"
            ]
          },
          "metadata": {
            "tags": []
          },
          "execution_count": 31
        }
      ]
    },
    {
      "cell_type": "code",
      "metadata": {
        "id": "UzRdT2Rvy3Jv",
        "colab_type": "code",
        "colab": {
          "base_uri": "https://localhost:8080/",
          "height": 34
        },
        "outputId": "02eaa492-1e04-47d5-9be8-0fd983a1a4f8"
      },
      "source": [
        "x = torch.randn(4, 4)\n",
        "y = x.view(16)\n",
        "z = x.view(-1, 8)  # the size -1 is inferred from other dimensions\n",
        "print(x.size(), y.size(), z.size())"
      ],
      "execution_count": 32,
      "outputs": [
        {
          "output_type": "stream",
          "text": [
            "torch.Size([4, 4]) torch.Size([16]) torch.Size([2, 8])\n"
          ],
          "name": "stdout"
        }
      ]
    },
    {
      "cell_type": "code",
      "metadata": {
        "id": "VQaIUiwFzBA9",
        "colab_type": "code",
        "colab": {
          "base_uri": "https://localhost:8080/",
          "height": 85
        },
        "outputId": "52e4bc6d-8934-4c76-da6f-c355cf9958e1"
      },
      "source": [
        "x"
      ],
      "execution_count": 33,
      "outputs": [
        {
          "output_type": "execute_result",
          "data": {
            "text/plain": [
              "tensor([[-1.3778, -1.2523,  0.2914,  2.0074],\n",
              "        [ 0.0446,  0.7125, -0.9100, -1.5203],\n",
              "        [ 0.7891, -2.1536, -2.2918,  1.0709],\n",
              "        [ 1.2489, -0.3730,  1.3713,  0.4874]])"
            ]
          },
          "metadata": {
            "tags": []
          },
          "execution_count": 33
        }
      ]
    },
    {
      "cell_type": "code",
      "metadata": {
        "id": "Kww6B8qSzHBv",
        "colab_type": "code",
        "colab": {
          "base_uri": "https://localhost:8080/",
          "height": 102
        },
        "outputId": "ce200cf8-e571-4602-b073-403683eed441"
      },
      "source": [
        "x.numpy()"
      ],
      "execution_count": 39,
      "outputs": [
        {
          "output_type": "execute_result",
          "data": {
            "text/plain": [
              "array([[ 0.62224495,  0.7477238 ,  2.2914345 ,  4.007374  ],\n",
              "       [ 2.044599  ,  2.7124665 ,  1.0900159 ,  0.47973967],\n",
              "       [ 2.789056  , -0.15356159, -0.29184008,  3.0709243 ],\n",
              "       [ 3.2488632 ,  1.6269643 ,  3.3712604 ,  2.4874258 ]],\n",
              "      dtype=float32)"
            ]
          },
          "metadata": {
            "tags": []
          },
          "execution_count": 39
        }
      ]
    },
    {
      "cell_type": "code",
      "metadata": {
        "id": "TlgeU_5tzIfO",
        "colab_type": "code",
        "colab": {
          "base_uri": "https://localhost:8080/",
          "height": 85
        },
        "outputId": "0ab857ba-db91-4fc4-f565-589be552d447"
      },
      "source": [
        "y = x.numpy()\n",
        "print(y)"
      ],
      "execution_count": 40,
      "outputs": [
        {
          "output_type": "stream",
          "text": [
            "[[ 0.62224495  0.7477238   2.2914345   4.007374  ]\n",
            " [ 2.044599    2.7124665   1.0900159   0.47973967]\n",
            " [ 2.789056   -0.15356159 -0.29184008  3.0709243 ]\n",
            " [ 3.2488632   1.6269643   3.3712604   2.4874258 ]]\n"
          ],
          "name": "stdout"
        }
      ]
    },
    {
      "cell_type": "code",
      "metadata": {
        "id": "gqMTLxTMzUSO",
        "colab_type": "code",
        "colab": {
          "base_uri": "https://localhost:8080/",
          "height": 153
        },
        "outputId": "ff4cf1e4-2c27-4219-8e13-1e4d5d329b68"
      },
      "source": [
        "x.add_(1)  # x and y both change values\n",
        "x, y"
      ],
      "execution_count": 41,
      "outputs": [
        {
          "output_type": "execute_result",
          "data": {
            "text/plain": [
              "(tensor([[1.6222, 1.7477, 3.2914, 5.0074],\n",
              "         [3.0446, 3.7125, 2.0900, 1.4797],\n",
              "         [3.7891, 0.8464, 0.7082, 4.0709],\n",
              "         [4.2489, 2.6270, 4.3713, 3.4874]]),\n",
              " array([[1.622245 , 1.7477238, 3.2914345, 5.007374 ],\n",
              "        [3.044599 , 3.7124665, 2.090016 , 1.4797397],\n",
              "        [3.789056 , 0.8464384, 0.7081599, 4.0709243],\n",
              "        [4.248863 , 2.6269643, 4.3712606, 3.4874258]], dtype=float32))"
            ]
          },
          "metadata": {
            "tags": []
          },
          "execution_count": 41
        }
      ]
    },
    {
      "cell_type": "code",
      "metadata": {
        "id": "_Y-oc096zJJ7",
        "colab_type": "code",
        "colab": {
          "base_uri": "https://localhost:8080/",
          "height": 153
        },
        "outputId": "3f98acf6-dba1-4c55-dc4a-f4d1f1b30126"
      },
      "source": [
        "x = x + 1 # only change x\n",
        "x, y"
      ],
      "execution_count": 42,
      "outputs": [
        {
          "output_type": "execute_result",
          "data": {
            "text/plain": [
              "(tensor([[2.6222, 2.7477, 4.2914, 6.0074],\n",
              "         [4.0446, 4.7125, 3.0900, 2.4797],\n",
              "         [4.7891, 1.8464, 1.7082, 5.0709],\n",
              "         [5.2489, 3.6270, 5.3713, 4.4874]]),\n",
              " array([[1.622245 , 1.7477238, 3.2914345, 5.007374 ],\n",
              "        [3.044599 , 3.7124665, 2.090016 , 1.4797397],\n",
              "        [3.789056 , 0.8464384, 0.7081599, 4.0709243],\n",
              "        [4.248863 , 2.6269643, 4.3712606, 3.4874258]], dtype=float32))"
            ]
          },
          "metadata": {
            "tags": []
          },
          "execution_count": 42
        }
      ]
    },
    {
      "cell_type": "code",
      "metadata": {
        "id": "ZFmdW840zZ29",
        "colab_type": "code",
        "colab": {
          "base_uri": "https://localhost:8080/",
          "height": 34
        },
        "outputId": "4e367d9b-134f-41fd-d9ee-0e42717bc1b4"
      },
      "source": [
        "import numpy as np\n",
        "a = np.random.randn(5)\n",
        "a"
      ],
      "execution_count": 47,
      "outputs": [
        {
          "output_type": "execute_result",
          "data": {
            "text/plain": [
              "array([ 1.27008064,  0.38176109, -1.86975933,  0.49286453,  0.08534811])"
            ]
          },
          "metadata": {
            "tags": []
          },
          "execution_count": 47
        }
      ]
    },
    {
      "cell_type": "code",
      "metadata": {
        "id": "K61DSknmzokh",
        "colab_type": "code",
        "colab": {
          "base_uri": "https://localhost:8080/",
          "height": 51
        },
        "outputId": "cad8a600-e14d-45c0-d074-0b501e087c34"
      },
      "source": [
        "b = torch.from_numpy(a)\n",
        "np.add(a, 1, out = a)\n",
        "print(a)\n",
        "print(b)"
      ],
      "execution_count": 48,
      "outputs": [
        {
          "output_type": "stream",
          "text": [
            "[ 2.27008064  1.38176109 -0.86975933  1.49286453  1.08534811]\n",
            "tensor([ 2.2701,  1.3818, -0.8698,  1.4929,  1.0853], dtype=torch.float64)\n"
          ],
          "name": "stdout"
        }
      ]
    },
    {
      "cell_type": "code",
      "metadata": {
        "id": "EmX3FC4Wz30x",
        "colab_type": "code",
        "colab": {
          "base_uri": "https://localhost:8080/",
          "height": 51
        },
        "outputId": "4f6dc310-3857-4364-a473-ceb36031d430"
      },
      "source": [
        "a = a + 1\n",
        "print(a)\n",
        "print(b)"
      ],
      "execution_count": 49,
      "outputs": [
        {
          "output_type": "stream",
          "text": [
            "[3.27008064 2.38176109 0.13024067 2.49286453 2.08534811]\n",
            "tensor([ 2.2701,  1.3818, -0.8698,  1.4929,  1.0853], dtype=torch.float64)\n"
          ],
          "name": "stdout"
        }
      ]
    },
    {
      "cell_type": "code",
      "metadata": {
        "id": "mvs04Ux-z7Iy",
        "colab_type": "code",
        "colab": {
          "base_uri": "https://localhost:8080/",
          "height": 34
        },
        "outputId": "21794afd-4b38-4ce7-da45-c3bac6bc2fe2"
      },
      "source": [
        "torch.cuda.is_available()"
      ],
      "execution_count": 50,
      "outputs": [
        {
          "output_type": "execute_result",
          "data": {
            "text/plain": [
              "True"
            ]
          },
          "metadata": {
            "tags": []
          },
          "execution_count": 50
        }
      ]
    },
    {
      "cell_type": "code",
      "metadata": {
        "id": "-C5jGlRmz_yQ",
        "colab_type": "code",
        "colab": {
          "base_uri": "https://localhost:8080/",
          "height": 34
        },
        "outputId": "59a7a7e8-f1f7-4f92-e443-1b316b87c1d3"
      },
      "source": [
        "device = torch.device(\"cuda\")\n",
        "device"
      ],
      "execution_count": 52,
      "outputs": [
        {
          "output_type": "execute_result",
          "data": {
            "text/plain": [
              "device(type='cuda')"
            ]
          },
          "metadata": {
            "tags": []
          },
          "execution_count": 52
        }
      ]
    },
    {
      "cell_type": "code",
      "metadata": {
        "id": "uF0x1x7g0FA-",
        "colab_type": "code",
        "colab": {}
      },
      "source": [
        "y = torch.ones_like(x, device=device)  # directly create a tensor on GPU\n",
        "x = x.to(device)                       # or just use strings ``.to(\"cuda\")``\n",
        "z = x + y"
      ],
      "execution_count": 0,
      "outputs": []
    },
    {
      "cell_type": "code",
      "metadata": {
        "id": "qU7dyoQY0MnB",
        "colab_type": "code",
        "colab": {
          "base_uri": "https://localhost:8080/",
          "height": 85
        },
        "outputId": "57d2e55e-22c3-4f3e-ee54-d8da6714afa0"
      },
      "source": [
        "z"
      ],
      "execution_count": 54,
      "outputs": [
        {
          "output_type": "execute_result",
          "data": {
            "text/plain": [
              "tensor([[3.6222, 3.7477, 5.2914, 7.0074],\n",
              "        [5.0446, 5.7125, 4.0900, 3.4797],\n",
              "        [5.7891, 2.8464, 2.7082, 6.0709],\n",
              "        [6.2489, 4.6270, 6.3713, 5.4874]], device='cuda:0')"
            ]
          },
          "metadata": {
            "tags": []
          },
          "execution_count": 54
        }
      ]
    },
    {
      "cell_type": "code",
      "metadata": {
        "id": "fy5X-QDn0Nex",
        "colab_type": "code",
        "colab": {
          "base_uri": "https://localhost:8080/",
          "height": 85
        },
        "outputId": "ae0d4684-892a-474b-956a-539c251912ad"
      },
      "source": [
        "x"
      ],
      "execution_count": 55,
      "outputs": [
        {
          "output_type": "execute_result",
          "data": {
            "text/plain": [
              "tensor([[2.6222, 2.7477, 4.2914, 6.0074],\n",
              "        [4.0446, 4.7125, 3.0900, 2.4797],\n",
              "        [4.7891, 1.8464, 1.7082, 5.0709],\n",
              "        [5.2489, 3.6270, 5.3713, 4.4874]], device='cuda:0')"
            ]
          },
          "metadata": {
            "tags": []
          },
          "execution_count": 55
        }
      ]
    },
    {
      "cell_type": "markdown",
      "metadata": {
        "id": "gWR6L_wl0cnj",
        "colab_type": "text"
      },
      "source": [
        "## Autograd"
      ]
    },
    {
      "cell_type": "code",
      "metadata": {
        "id": "1U0MbwJB0eJR",
        "colab_type": "code",
        "colab": {
          "base_uri": "https://localhost:8080/",
          "height": 51
        },
        "outputId": "36e8615b-710f-49f7-ee39-6fdaed9e07c1"
      },
      "source": [
        "x = torch.ones(2,2, requires_grad=True)\n",
        "x"
      ],
      "execution_count": 85,
      "outputs": [
        {
          "output_type": "execute_result",
          "data": {
            "text/plain": [
              "tensor([[1., 1.],\n",
              "        [1., 1.]], requires_grad=True)"
            ]
          },
          "metadata": {
            "tags": []
          },
          "execution_count": 85
        }
      ]
    },
    {
      "cell_type": "code",
      "metadata": {
        "id": "yCLBDF-P0z9B",
        "colab_type": "code",
        "colab": {
          "base_uri": "https://localhost:8080/",
          "height": 51
        },
        "outputId": "18886900-29eb-4144-bbed-b3348fab5655"
      },
      "source": [
        "y = x + 2\n",
        "y"
      ],
      "execution_count": 86,
      "outputs": [
        {
          "output_type": "execute_result",
          "data": {
            "text/plain": [
              "tensor([[3., 3.],\n",
              "        [3., 3.]], grad_fn=<AddBackward0>)"
            ]
          },
          "metadata": {
            "tags": []
          },
          "execution_count": 86
        }
      ]
    },
    {
      "cell_type": "code",
      "metadata": {
        "id": "tm2-sRZv1G6x",
        "colab_type": "code",
        "colab": {
          "base_uri": "https://localhost:8080/",
          "height": 51
        },
        "outputId": "86d8e93c-36e6-454c-c152-1fafc612d5aa"
      },
      "source": [
        "p = x * 2\n",
        "p"
      ],
      "execution_count": 66,
      "outputs": [
        {
          "output_type": "execute_result",
          "data": {
            "text/plain": [
              "tensor([[2., 2.],\n",
              "        [2., 2.]], grad_fn=<MulBackward0>)"
            ]
          },
          "metadata": {
            "tags": []
          },
          "execution_count": 66
        }
      ]
    },
    {
      "cell_type": "code",
      "metadata": {
        "id": "_PWG1wM01JWx",
        "colab_type": "code",
        "colab": {
          "base_uri": "https://localhost:8080/",
          "height": 34
        },
        "outputId": "f2d092a2-0bdf-4974-be2b-6d32d910abfb"
      },
      "source": [
        "print(y.grad_fn)"
      ],
      "execution_count": 61,
      "outputs": [
        {
          "output_type": "stream",
          "text": [
            "<MulBackward0 object at 0x7f5f32448198>\n"
          ],
          "name": "stdout"
        }
      ]
    },
    {
      "cell_type": "code",
      "metadata": {
        "id": "80C6m-sZ1MOS",
        "colab_type": "code",
        "colab": {
          "base_uri": "https://localhost:8080/",
          "height": 68
        },
        "outputId": "e9d71e5d-4262-4c83-d7d2-ff04eae1b5da"
      },
      "source": [
        "a = torch.randn(2, 2)\n",
        "a = ((a * 3) / (a - 1))\n",
        "print(a.requires_grad)\n",
        "a.requires_grad_(True)\n",
        "print(a.requires_grad)\n",
        "b = (a * a).sum()\n",
        "print(b.grad_fn)"
      ],
      "execution_count": 62,
      "outputs": [
        {
          "output_type": "stream",
          "text": [
            "False\n",
            "True\n",
            "<SumBackward0 object at 0x7f5f32429f98>\n"
          ],
          "name": "stdout"
        }
      ]
    },
    {
      "cell_type": "code",
      "metadata": {
        "id": "j2q6wAaM63-6",
        "colab_type": "code",
        "colab": {
          "base_uri": "https://localhost:8080/",
          "height": 51
        },
        "outputId": "091dc491-2378-4b16-927d-853916250c88"
      },
      "source": [
        "x"
      ],
      "execution_count": 87,
      "outputs": [
        {
          "output_type": "execute_result",
          "data": {
            "text/plain": [
              "tensor([[1., 1.],\n",
              "        [1., 1.]], requires_grad=True)"
            ]
          },
          "metadata": {
            "tags": []
          },
          "execution_count": 87
        }
      ]
    },
    {
      "cell_type": "code",
      "metadata": {
        "id": "kZe8X-yN1WiP",
        "colab_type": "code",
        "colab": {
          "base_uri": "https://localhost:8080/",
          "height": 68
        },
        "outputId": "2afc2811-fb77-46f2-ed3a-969f5944e1f1"
      },
      "source": [
        "z = y * y * 3\n",
        "out = z.mean()\n",
        "z, out"
      ],
      "execution_count": 88,
      "outputs": [
        {
          "output_type": "execute_result",
          "data": {
            "text/plain": [
              "(tensor([[27., 27.],\n",
              "         [27., 27.]], grad_fn=<MulBackward0>),\n",
              " tensor(27., grad_fn=<MeanBackward0>))"
            ]
          },
          "metadata": {
            "tags": []
          },
          "execution_count": 88
        }
      ]
    },
    {
      "cell_type": "code",
      "metadata": {
        "id": "bZt_eFHt6zqI",
        "colab_type": "code",
        "colab": {
          "base_uri": "https://localhost:8080/",
          "height": 34
        },
        "outputId": "d26f7a42-6d3a-4158-e80c-e3ef4fbf4889"
      },
      "source": [
        "x.grad == None"
      ],
      "execution_count": 89,
      "outputs": [
        {
          "output_type": "execute_result",
          "data": {
            "text/plain": [
              "True"
            ]
          },
          "metadata": {
            "tags": []
          },
          "execution_count": 89
        }
      ]
    },
    {
      "cell_type": "code",
      "metadata": {
        "id": "foJDc_-G1sCh",
        "colab_type": "code",
        "colab": {
          "base_uri": "https://localhost:8080/",
          "height": 51
        },
        "outputId": "29950341-bb5d-4731-a61b-21c682993af5"
      },
      "source": [
        "out.backward()\n",
        "x.grad"
      ],
      "execution_count": 90,
      "outputs": [
        {
          "output_type": "execute_result",
          "data": {
            "text/plain": [
              "tensor([[4.5000, 4.5000],\n",
              "        [4.5000, 4.5000]])"
            ]
          },
          "metadata": {
            "tags": []
          },
          "execution_count": 90
        }
      ]
    },
    {
      "cell_type": "code",
      "metadata": {
        "id": "C7cUaxc510Jj",
        "colab_type": "code",
        "colab": {}
      },
      "source": [
        "x = torch.ones(2, 1, requires_grad=True)"
      ],
      "execution_count": 0,
      "outputs": []
    },
    {
      "cell_type": "code",
      "metadata": {
        "id": "OpvYvHIG9Rpi",
        "colab_type": "code",
        "colab": {}
      },
      "source": [
        "y = x + 2\n",
        "z = y * y * 3"
      ],
      "execution_count": 0,
      "outputs": []
    },
    {
      "cell_type": "code",
      "metadata": {
        "id": "5Vg2v2P19SJj",
        "colab_type": "code",
        "colab": {
          "base_uri": "https://localhost:8080/",
          "height": 51
        },
        "outputId": "f1459cb3-3dc4-489f-aeb2-462af2c8690c"
      },
      "source": [
        "out = z.mean()\n",
        "out.backward()\n",
        "x.grad"
      ],
      "execution_count": 102,
      "outputs": [
        {
          "output_type": "execute_result",
          "data": {
            "text/plain": [
              "tensor([[9.],\n",
              "        [9.]])"
            ]
          },
          "metadata": {
            "tags": []
          },
          "execution_count": 102
        }
      ]
    },
    {
      "cell_type": "markdown",
      "metadata": {
        "id": "sUY3DFPA-Kxo",
        "colab_type": "text"
      },
      "source": [
        "## y = g(x) R^n -> R^m vector valued \n",
        "## z = f(y)  R^m -> R^1 scalar valued\n",
        "## dz/dy = (dy/dx).t() @ dz/dy\n",
        "\n",
        "### dy/dx m * n\n",
        "### dz/dy m * 1"
      ]
    },
    {
      "cell_type": "code",
      "metadata": {
        "id": "0sC9C_vf-j6T",
        "colab_type": "code",
        "colab": {}
      },
      "source": [
        ""
      ],
      "execution_count": 0,
      "outputs": []
    },
    {
      "cell_type": "code",
      "metadata": {
        "id": "YPZviaRn-JJj",
        "colab_type": "code",
        "colab": {}
      },
      "source": [
        ""
      ],
      "execution_count": 0,
      "outputs": []
    },
    {
      "cell_type": "code",
      "metadata": {
        "id": "VLlTXKXC9luy",
        "colab_type": "code",
        "colab": {
          "base_uri": "https://localhost:8080/",
          "height": 34
        },
        "outputId": "88749475-f8c1-4f89-a8b7-79292cd29f20"
      },
      "source": [
        "x = torch.randn(3, requires_grad=True)\n",
        "\n",
        "y = x * 2\n",
        "while y.data.norm() < 1000:\n",
        "    y = y * 2\n",
        "\n",
        "print(y)"
      ],
      "execution_count": 104,
      "outputs": [
        {
          "output_type": "stream",
          "text": [
            "tensor([-444.7076,   27.8274, 1279.7865], grad_fn=<MulBackward0>)\n"
          ],
          "name": "stdout"
        }
      ]
    },
    {
      "cell_type": "code",
      "metadata": {
        "id": "sYu8qeIa9zkA",
        "colab_type": "code",
        "colab": {}
      },
      "source": [
        "## Dont run \n",
        "y.backward()\n",
        "## RuntimeError: grad can be implicitly created only for scalar outputs"
      ],
      "execution_count": 0,
      "outputs": []
    },
    {
      "cell_type": "code",
      "metadata": {
        "id": "uGyoUtKP999D",
        "colab_type": "code",
        "colab": {}
      },
      "source": [
        ""
      ],
      "execution_count": 0,
      "outputs": []
    },
    {
      "cell_type": "markdown",
      "metadata": {
        "id": "aV39cG4C-yba",
        "colab_type": "text"
      },
      "source": [
        "## Pytorch NN"
      ]
    },
    {
      "cell_type": "code",
      "metadata": {
        "id": "HsUDjnYA-0HD",
        "colab_type": "code",
        "colab": {}
      },
      "source": [
        "import torch\n",
        "import torch.nn as nn\n",
        "import torch.nn.functional as F\n",
        "\n",
        "\n",
        "class Net(nn.Module):\n",
        "\n",
        "    def __init__(self):\n",
        "        super(Net, self).__init__()\n",
        "        # 1 input image channel, 6 output channels, 3x3 square convolution\n",
        "        # kernel\n",
        "        self.conv1 = nn.Conv2d(1, 6, 3)\n",
        "        self.conv2 = nn.Conv2d(6, 16, 3)\n",
        "        # an affine operation: y = Wx + b\n",
        "        self.fc1 = nn.Linear(16 * 6 * 6, 120)  # 6*6 from image dimension\n",
        "        self.fc2 = nn.Linear(120, 84)\n",
        "        self.fc3 = nn.Linear(84, 10)\n",
        "\n",
        "    def forward(self, x):\n",
        "        # Max pooling over a (2, 2) window\n",
        "        x = F.max_pool2d(F.relu(self.conv1(x)), (2, 2))\n",
        "        # If the size is a square you can only specify a single number\n",
        "        x = F.max_pool2d(F.relu(self.conv2(x)), 2)\n",
        "        x = x.view(-1, self.num_flat_features(x))\n",
        "        x = F.relu(self.fc1(x))\n",
        "        x = F.relu(self.fc2(x))\n",
        "        x = self.fc3(x)\n",
        "        return x\n",
        "\n",
        "    def num_flat_features(self, x):\n",
        "        size = x.size()[1:]  # all dimensions except the batch dimension\n",
        "        num_features = 1\n",
        "        for s in size:\n",
        "            num_features *= s\n",
        "        return num_features\n",
        "\n",
        "\n",
        "net = Net()\n",
        "print(net)"
      ],
      "execution_count": 0,
      "outputs": []
    }
  ]
}
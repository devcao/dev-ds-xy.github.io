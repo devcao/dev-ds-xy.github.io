{
 "cells": [
  {
   "cell_type": "markdown",
   "metadata": {
    "slideshow": {
     "slide_type": "slide"
    }
   },
   "source": [
    "# Elementary Statistics (STAT 201) \n",
    "# One Sample Inference"
   ]
  },
  {
   "cell_type": "markdown",
   "metadata": {
    "slideshow": {
     "slide_type": "slide"
    }
   },
   "source": [
    "## What is Statistical Inference? \n",
    "\n",
    " * The primary goal of statistics is to perform **statistical inference**, which is to deduce the unknown but constant population parameters ($\\mu$ or $p$) based on the known but potentially random sample\n",
    "   statistics ($\\bar{x}$ or $\\hat{p}$)."
   ]
  },
  {
   "cell_type": "markdown",
   "metadata": {
    "slideshow": {
     "slide_type": "slide"
    }
   },
   "source": [
    "## What is Statistical Inference?\n",
    "\n",
    "* It has two major topics:\n",
    "    - **Estimation** : What are the probable values of the population parameter? For example, what is $\\mu$? \n",
    "    - **Hypothesis Testing**: Is certain preconception about the population parameter plausible? For example, $\\mu = 0$ or not?  "
   ]
  },
  {
   "cell_type": "markdown",
   "metadata": {
    "slideshow": {
     "slide_type": "slide"
    }
   },
   "source": [
    "## Our schedule\n",
    "\n",
    "* We will focus on the inference about **population proportion** $p$ based on a single sample in this\n",
    "    lecture, and the inference about **population mean** $\\mu$ in the next lecture.\n",
    "\n",
    "* And for today's lecture, we will begin by **Hypothesis Testing**!"
   ]
  },
  {
   "cell_type": "markdown",
   "metadata": {
    "slideshow": {
     "slide_type": "slide"
    }
   },
   "source": [
    "## The origin of Hypothesis Testing\n",
    "\n",
    "* A famous example described by **Ronald Fisher**: Lady Tasting Tea.\n",
    "\n",
    "* Who is **Ronald Fisher**? \n",
    "    >A genius who almost single-handedly created the foundations for modern statistical science"
   ]
  },
  {
   "cell_type": "code",
   "execution_count": 1,
   "metadata": {
    "slideshow": {
     "slide_type": "subslide"
    }
   },
   "outputs": [
    {
     "data": {
      "image/jpeg": "[encoded data removed]",
      "text/html": [
       "\n",
       "        <iframe\n",
       "            width=\"400\"\n",
       "            height=\"300\"\n",
       "            src=\"https://www.youtube.com/embed/lgs7d5saFFc\"\n",
       "            frameborder=\"0\"\n",
       "            allowfullscreen\n",
       "        ></iframe>\n",
       "        "
      ],
      "text/plain": [
       "<IPython.lib.display.YouTubeVideo at 0x10e391860>"
      ]
     },
     "execution_count": 1,
     "metadata": {},
     "output_type": "execute_result"
    }
   ],
   "source": [
    "YouTubeVideo('lgs7d5saFFc')"
   ]
  },
  {
   "cell_type": "markdown",
   "metadata": {
    "slideshow": {
     "slide_type": "slide"
    }
   },
   "source": [
    "## Statistical Hypothesis Testing - some basic concept\n",
    "\n",
    "* In statistics, a **hypothesis** is a statement about a population, usually claiming that\n",
    "    a population parameter takes a particular numerical value or falls in a certain range of values.\n",
    "\n",
    "* **Null hypothesis** ($H_0$, “H-naught”, \"H-null\", \"H-zero\" or \"H-oh\"): a statement that the parameter takes a particular value\n",
    "    (or a particular range of values.) This is the hypothesis that we wish to reject.\n",
    "    \n"
   ]
  },
  {
   "cell_type": "markdown",
   "metadata": {
    "slideshow": {
     "slide_type": "slide"
    }
   },
   "source": [
    "## Statistical Hypothesis Testing - some basic concept\n",
    "\n",
    "* **Alternative hypothesis** ($H_a$): the opposite of $H_0$. This is the hypothesis that we wish to\n",
    "    establish.\n",
    "    \n",
    "* A **significance test** is a method for using data to summarize the evidence about $H_0$ versus $H_a$.    "
   ]
  },
  {
   "cell_type": "markdown",
   "metadata": {
    "slideshow": {
     "slide_type": "slide"
    }
   },
   "source": [
    "## Statistical Hypothesis Testing - an example\n",
    "\n",
    "* A statistical test procedure is comparable to a criminal trial. \n",
    "* A defendant is considered not guilty as long as his or her guilt is not proven. The prosecutor tries to prove the guilt of the defendant. \n",
    "\n",
    "* Only when there is enough evidence for the prosecution is the defendant convicted.\n",
    "\n",
    " \n"
   ]
  },
  {
   "cell_type": "markdown",
   "metadata": {
    "slideshow": {
     "slide_type": "slide"
    }
   },
   "source": [
    "## Statistical Hypothesis Testing - an example \n",
    "\n",
    "* In the start of the procedure, there are two hypotheses: \n",
    "    - $H_0$: \"the defendant is not guilty\"\n",
    "    - $H_a$: \"the defendant is guilty\"\n",
    "    \n",
    "\n",
    "\n"
   ]
  },
  {
   "cell_type": "markdown",
   "metadata": {
    "slideshow": {
     "slide_type": "slide"
    }
   },
   "source": [
    "## Statistical Hypothesis Testing - three types\n",
    "\n",
    "* Table 1\n",
    "<div align=center>\n",
    "<img src=\"./hyp3.png\"/>\n",
    "</div>\n",
    "\n",
    "\n"
   ]
  },
  {
   "cell_type": "markdown",
   "metadata": {
    "slideshow": {
     "slide_type": "slide"
    }
   },
   "source": [
    "## Statistical Hypothesis Testing - more details\n",
    "\n",
    "* A **test statistic** measures how far the sample statistic falls from the null hypothesis\n",
    "    value. It is usually in the form of a z-score (in this lecture) or a t-score (in the next lecture).\n",
    "\n",
    "* Assuming $H_0$ is true, the **P-value** is the probability that the test statistic equals the\n",
    "    observed value or a value even more extreme against $H_0$.\n",
    "    \n",
    "    "
   ]
  },
  {
   "cell_type": "markdown",
   "metadata": {
    "slideshow": {
     "slide_type": "slide"
    }
   },
   "source": [
    "## Statistical Hypothesis Testing - more details\n",
    "\n",
    "* Comparing the P-value to a predetermined significance level $\\alpha$, we make decisions as the following:\n",
    "    \n",
    "    - Reject $H_0$ if P-value < $\\alpha$;\n",
    "    - Do not reject $H_0$ if P-value ≥  $\\alpha$.\n",
    "\n",
    "* The significance level α is usually chosen to be 0.05, 0.10 or 0.01.\n"
   ]
  },
  {
   "cell_type": "markdown",
   "metadata": {
    "slideshow": {
     "slide_type": "slide"
    }
   },
   "source": [
    "## Statistical Hypothesis Testing - Remarks\n",
    "\n",
    "* Here are a couple of remarks about interpreting a hypothesis test.\n",
    "    \n",
    "    - We draw conclusions (to reject or not to reject) in terms of the null hypothesis $H_0$.\n",
    "    \n",
    "   "
   ]
  },
  {
   "cell_type": "markdown",
   "metadata": {
    "slideshow": {
     "slide_type": "slide"
    }
   },
   "source": [
    "## Statistical Hypothesis Testing - Remarks\n",
    "\n",
    "- Even if the data we have agree with $H_0$, we **never** “accept” the null hypothesis. Here\n",
    "   is the famous criminal trial analogy: suppose that $H_0$ is the defendant being innocent, and $H_a$\n",
    "    the defendant being guilty. If there is not enough evidence to support $H_a$, the judge always\n",
    "     concludes that the defendant is “not guilty”, instead of “innocent”."
   ]
  },
  {
   "cell_type": "markdown",
   "metadata": {
    "slideshow": {
     "slide_type": "slide"
    }
   },
   "source": [
    "## Statistical Hypothesis Testing - Summaries\n",
    "\n",
    "* Too many concepts and I don't know what the hack are they? 😖\n",
    "\n",
    "* Here is the recipe of doing Hypothesis Testing of popuplation proportion(next slides). 😄"
   ]
  },
  {
   "cell_type": "markdown",
   "metadata": {
    "slideshow": {
     "slide_type": "slide"
    }
   },
   "source": [
    "## Hypothesis Testing on population proportion - 5 steps\n",
    "\n",
    "* First, set up the null $H_0$ and the alternative $H_a$:\n",
    "    \n",
    "    - $H_a$ is what we are interested in, and $H_0$ is the opposite of $H_a$;\n",
    "    \n",
    "    - The hypothesis should have one of the three forms according to Table 1 (Left/Right tail, Two sided).\n",
    "\n"
   ]
  },
  {
   "cell_type": "markdown",
   "metadata": {
    "slideshow": {
     "slide_type": "slide"
    }
   },
   "source": [
    "## Hypothesis Testing on population proportion - 5 steps\n",
    "\n",
    "\n",
    "* Second, Check if $n \\times p_0 \\geq 15$ and $n \\times (1 − p_0) \\geq 15$ (recall Chapter 7, CLT).\n"
   ]
  },
  {
   "cell_type": "markdown",
   "metadata": {
    "slideshow": {
     "slide_type": "slide"
    }
   },
   "source": [
    "## Hypothesis Testing on population proportion - 5 steps \n",
    "\n",
    "* Third, compute the test statistic $z^*$ through:\n",
    " \n",
    " $$\n",
    " z^* = \\frac{\\hat{p} - p_0}{ \\sqrt{ \\frac{p_0(1-p_0)}{n} }} \n",
    " $$\n",
    " \n",
    "* Fourth, compute the P-value based on the $z^∗$ according to Table 2.\n",
    "\n",
    "\n"
   ]
  },
  {
   "cell_type": "markdown",
   "metadata": {
    "slideshow": {
     "slide_type": "slide"
    }
   },
   "source": [
    "## Hypothesis Testing on population proportion - 5 steps \n",
    "\n",
    "* Table 2\n",
    "\n",
    "<div align=center>\n",
    "<img src=\"./pval.png\"/>\n",
    "</div>\n",
    "\n",
    "\n"
   ]
  },
  {
   "cell_type": "markdown",
   "metadata": {
    "slideshow": {
     "slide_type": "slide"
    }
   },
   "source": [
    "## Hypothesis Testing on population proportion - 5 steps \n",
    "\n",
    "* Fifth, draw conclusion by comparing the P-value to the significance level α.\n",
    "    - If P-value < $\\alpha$, --> **reject** $H_0$. There is sufficient evidence to support $H_a$ under $\\alpha$ significance level.\n",
    "    - If P-value ≥ $\\alpha$, --> **do not reject** $H_0$. There is no sufficient evidence to support $H_a$ under $\\alpha$ significance level."
   ]
  },
  {
   "cell_type": "markdown",
   "metadata": {
    "slideshow": {
     "slide_type": "slide"
    }
   },
   "source": [
    "## Hypothesis Testing - practice\n",
    "\n",
    "* Let's practice how to do hypothesis testing! "
   ]
  },
  {
   "cell_type": "markdown",
   "metadata": {
    "slideshow": {
     "slide_type": "slide"
    }
   },
   "source": [
    "## Confidence Interval - preliminary \n",
    "\n",
    "* What is confidence interval?\n",
    "\n",
    "* We use sample proportion $\\hat{p}$ to estimate $p$. $\\hat{p}$ is called the **point estimate** for the population proportion.\n",
    "\n",
    "* An **interval estimate** is an interval of numbers that is believed to contain the actual value of the\n",
    "    parameter.\n",
    "    \n"
   ]
  },
  {
   "cell_type": "markdown",
   "metadata": {
    "slideshow": {
     "slide_type": "slide"
    }
   },
   "source": [
    "## Confidence Interval - preliminary\n",
    "\n",
    "* **Remark**: representing the population parameter by a single number we obtain from a single sample does not\n",
    "    take into consideration the random nature of a sample. In this sense, an interval estimate is much\n",
    "    more reasonable.    \n"
   ]
  },
  {
   "cell_type": "markdown",
   "metadata": {
    "slideshow": {
     "slide_type": "slide"
    }
   },
   "source": [
    "## Confidence Interval \n",
    "\n",
    "* A confidence interval (CI) is an interval estimate containing the most believable\n",
    "    values for a parameter. \n",
    "    \n",
    "* It is formed by combining the point estimate and a margin of error (more details in next slide).\n",
    "\n"
   ]
  },
  {
   "cell_type": "markdown",
   "metadata": {
    "slideshow": {
     "slide_type": "slide"
    }
   },
   "source": [
    "## Confidence Interval \n",
    "\n",
    "\n",
    "* The probability that this method produces an interval that contains the parameter is called the\n",
    "    **confidence level**. \n",
    "    \n",
    "* Confidence level is a number less than 1 that we subjectively choose before constructing the\n",
    "    interval. Common choices for confidence level are 0.95 (95%), 0.90 (90%) or 0.99 (99%)."
   ]
  },
  {
   "cell_type": "markdown",
   "metadata": {
    "slideshow": {
     "slide_type": "slide"
    }
   },
   "source": [
    "## Confidence Interval for sample proportion - 6 steps\n",
    "\n",
    "* Find the sample proportion pb. This is usually given, or can be easily computed through\n",
    "\n",
    "$$\n",
    "\\hat{p} = \\frac{\\operatorname{number\\ of\\ “successes”}}{n}\n",
    "$$\n"
   ]
  },
  {
   "cell_type": "markdown",
   "metadata": {
    "slideshow": {
     "slide_type": "slide"
    }
   },
   "source": [
    "## Confidence Interval for sample proportion - 6 steps\n",
    "\n",
    "\n",
    "* Check the following two assumptions:\n",
    "    - $n \\times \\hat{p} \\geq 15$\n",
    "    - $n \\times (1 − \\hat{p}) \\geq 15$\n",
    "\n"
   ]
  },
  {
   "cell_type": "markdown",
   "metadata": {
    "slideshow": {
     "slide_type": "slide"
    }
   },
   "source": [
    "## Confidence Interval for sample proportion - 6 steps\n",
    "\n",
    "* Compute the standard error (se) through\n",
    "$$ se = \\sqrt{ \\frac{\\hat{p}(1-\\hat{p})}{n} } $$\n"
   ]
  },
  {
   "cell_type": "markdown",
   "metadata": {
    "slideshow": {
     "slide_type": "slide"
    }
   },
   "source": [
    "## Confidence Interval for sample proportion - 6 steps\n",
    "\n",
    "* Find the correct z-score according to the given confidence level from Table 3, then compute\n",
    "    the margin of error (MOE) through\n",
    "    $$ MOE = z \\times se$$\n",
    "    \n",
    "*  The lower limit (LL) of the CI is\n",
    "    $$ \\hat{p} - MOE$$\n",
    "   and The upper limit (UL) of the CI is\n",
    "   $$ \\hat{p} + MOE$$\n",
    "   \n",
    "   Hence the desired ci is given by $(LL, UL)$.\n",
    "   \n",
    "* Interpretation: We are ...% confident that the interval (LL, UL) covers the population proportion $p$.   "
   ]
  },
  {
   "cell_type": "markdown",
   "metadata": {
    "slideshow": {
     "slide_type": "slide"
    }
   },
   "source": [
    "## Confidence Interval for sample proportion - 6 steps\n",
    "\n",
    "* Table 3\n",
    "<div align=center>\n",
    "<img src=\"./zCI.png\"/>\n",
    "</div>"
   ]
  },
  {
   "cell_type": "markdown",
   "metadata": {
    "slideshow": {
     "slide_type": "slide"
    }
   },
   "source": [
    "## Confidence Interval for sample proportion - the formula\n",
    "\n",
    "\n",
    "* CI for population proportion in one line:\n",
    "$$ \n",
    "\\big(   \n",
    "\\hat{p} - z\\sqrt{ \\frac{\\hat{p}(1-\\hat{p})}{n} }, \\hat{p} + z\\sqrt{ \\frac{\\hat{p}(1-\\hat{p})}{n} }\n",
    "\\big)\n",
    "$$"
   ]
  },
  {
   "cell_type": "markdown",
   "metadata": {
    "slideshow": {
     "slide_type": "slide"
    }
   },
   "source": [
    "## Confidence Interval - illustarated\n",
    "\n",
    "<div align=center>\n",
    "<img src=\"./95CI.png\"/>\n",
    "</div>\n"
   ]
  },
  {
   "cell_type": "markdown",
   "metadata": {
    "slideshow": {
     "slide_type": "slide"
    }
   },
   "source": [
    "## Confidence Interval - Remark\n",
    "\n",
    "* As we lower the confidence level, margin of error decreases, and hence the confidence interval becomes **narrower**."
   ]
  },
  {
   "cell_type": "markdown",
   "metadata": {
    "slideshow": {
     "slide_type": "slide"
    }
   },
   "source": [
    "## Our schedule - Updated\n",
    "\n",
    "* Recall last week, we did the one sample inference about **population proportion** $p$\n",
    "\n",
    "* We will talk about one sample inference about **population mean** $\\mu$ today, especially in the case\n",
    "    where we do not have a large sample ($n < 30$).\n",
    "\n"
   ]
  },
  {
   "cell_type": "markdown",
   "metadata": {
    "slideshow": {
     "slide_type": "slide"
    }
   },
   "source": [
    "## Review\n",
    "\n",
    "* Recall from Chapter 7, by the Central Limit Theorem (CLT), if we have a sample of size $n \\geq 30$\n",
    "    from any population with unknown parameters mean $\\mu$ and standard deviation $\\sigma$, the sampling\n",
    "    distribution of the sample mean $\\bar{X}$ is\n",
    "    \n",
    "    $$ \\bar{X} \\sim \\mathcal{N}(\\mu, \\frac{\\sigma}{\\sqrt{n}})$$\n",
    "    \n",
    "* Or equivalently,\n",
    "    $$ \\frac{\\bar{X} - \\mu}{\\sigma / \\sqrt{n}} \\sim \\mathcal{N}(0, 1)   $$\n"
   ]
  },
  {
   "cell_type": "markdown",
   "metadata": {
    "slideshow": {
     "slide_type": "slide"
    }
   },
   "source": [
    "## Review\n",
    "\n",
    "* Actually, we can use the fact $ \\frac{\\bar{X} - \\mu}{\\sigma / \\sqrt{n}} \\sim \\mathcal{N}(0, 1)  $ to make statistical inference, but \n",
    "    \n",
    "    - We don't know the true value of $\\sigma$.\n",
    "    - We need large sample size.\n"
   ]
  },
  {
   "cell_type": "markdown",
   "metadata": {
    "slideshow": {
     "slide_type": "slide"
    }
   },
   "source": [
    "## What will we do then ? \n",
    "\n",
    "* For a normally distributed population with population mean $\\mu$, a random sample of\n",
    "    size $n$ from this population with sample mean $\\bar{X}$ and sample standard deviation $s$, we have \n",
    "    the expression (t-score) $$t = \\frac{\\bar{X} - \\mu}{s / \\sqrt{n}}$$ \n",
    "    \n",
    "    follows **Student’s t-distribution** with $(n − 1)$ degrees of freedom ($df$).\n",
    "* Or equivalently \n",
    "    $$ t=\\frac{\\bar{X} - \\mu}{s / \\sqrt{n}} \\sim T(n-1) $$\n"
   ]
  },
  {
   "cell_type": "markdown",
   "metadata": {
    "slideshow": {
     "slide_type": "slide"
    }
   },
   "source": [
    "## T-distribution\n",
    "\n",
    "<div align=center>\n",
    "<img src=\"./t-dist.png\"/>\n",
    "</div>\n"
   ]
  },
  {
   "cell_type": "markdown",
   "metadata": {
    "slideshow": {
     "slide_type": "slide"
    }
   },
   "source": [
    "## Properties of t-distribution\n",
    "\n",
    "* Like the standard normal distribution, t-distribution is bell-shaped and symmetric about 0.\n",
    "\n",
    "* The shape of the density curve of t-distribution varies for each distinct value of df. Probabil-\n",
    "    ities and t-scores depend on the specific value of df, i.e. on the sample size.\n",
    "\n"
   ]
  },
  {
   "cell_type": "markdown",
   "metadata": {
    "slideshow": {
     "slide_type": "subslide"
    }
   },
   "source": [
    "## Properties of t-distribution\n",
    "\n",
    "* Comparing to the standard normal distribution, t-distribution has more density at the tails,\n",
    "    and hence more variability. This is caused by replacing the fixed quantity σ with the random\n",
    "    quantity S. However, as the sample size n increases, the shape of t-distribution gradually\n",
    "    approaches that of a standard normal distribution.\n",
    "\n",
    "* The t-Distribution Table (or t-table for short) lists t-scores for certain values of right-tail\n",
    "    probabilities and df. We use tα to denote the t-score that has a right-tail probability\n",
    "    α. For instance, for $df = 1$, $t_{.100} = 3.0784$. This means $P(t > 3.078) = .100$."
   ]
  },
  {
   "cell_type": "markdown",
   "metadata": {
    "slideshow": {
     "slide_type": "slide"
    }
   },
   "source": [
    "## Why it is call student's t distribution?\n",
    "\n",
    "* A historical note: the name “Student’s t-distribution” comes from the early 20th century\n",
    "    statistician William Gosset, who spent much of his career as a chemist in the Guinness Breweries,\n",
    "    in the mean time publishing research papers under the pseudonym “Student”."
   ]
  },
  {
   "cell_type": "markdown",
   "metadata": {
    "slideshow": {
     "slide_type": "slide"
    }
   },
   "source": [
    "## T-table\n",
    "\n",
    "* On the appendix of your text book **Statistics: The art and science of learning from data**\n",
    "\n"
   ]
  },
  {
   "cell_type": "code",
   "execution_count": 7,
   "metadata": {
    "slideshow": {
     "slide_type": "subslide"
    }
   },
   "outputs": [
    {
     "data": {
      "text/html": [
       "\n",
       "        <iframe\n",
       "            width=\"800\"\n",
       "            height=\"600\"\n",
       "            src=\"https://statcao.github.io/teaching/t-table.pdf\"\n",
       "            frameborder=\"0\"\n",
       "            allowfullscreen\n",
       "        ></iframe>\n",
       "        "
      ],
      "text/plain": [
       "<IPython.lib.display.IFrame at 0x10bb8e5f8>"
      ]
     },
     "execution_count": 7,
     "metadata": {},
     "output_type": "execute_result"
    }
   ],
   "source": [
    "IFrame(\"https://statcao.github.io/teaching/t-table.pdf\", width=800, height=600)"
   ]
  },
  {
   "cell_type": "markdown",
   "metadata": {
    "slideshow": {
     "slide_type": "slide"
    }
   },
   "source": [
    "## Confidence interval for the population mean\n",
    "\n",
    "* Recall from the last lecture that the confidence interval (CI) for a population parameter is a collec-\n",
    "    tion of the most probable values of that parameter, and is of the form\n",
    "\n",
    "            point estimate ± margin of error"
   ]
  },
  {
   "cell_type": "markdown",
   "metadata": {
    "slideshow": {
     "slide_type": "slide"
    }
   },
   "source": [
    "## Confidence interval for the population mean - the recipe\n",
    "\n",
    "* CI for the population mean $\\mu$, the point estimate is the sample mean $\\bar{x}$,\n",
    "    and the **margin of error** is the **standard error multiplied by a t-score**.\n",
    "    \n",
    "* Suppose we have a random sample of size $n$ with mean $bar{x}$ and standard deviation $s$, ...\n",
    "\n"
   ]
  },
  {
   "cell_type": "markdown",
   "metadata": {
    "slideshow": {
     "slide_type": "slide"
    }
   },
   "source": [
    "## Confidence interval for the population mean - the recipe\n",
    "\n",
    "\n",
    "* First, check the following assumptions:\n",
    "    - The observations must be quantitative.\n",
    "    - If $n \\geq 30$, go to the second step. Otherwise, continue checking.\n",
    "    - If $ n < 30 $, then the observations must be normally distributed. (This is usually assumed to be true.)\n"
   ]
  },
  {
   "cell_type": "markdown",
   "metadata": {
    "slideshow": {
     "slide_type": "slide"
    }
   },
   "source": [
    "## Confidence interval for the population mean - the recipe\n",
    "\n",
    "\n",
    "* Second, compute the standard error (se) through\n",
    "    $$ se = \\frac{s}{\\sqrt{n}}$$\n",
    "\n"
   ]
  },
  {
   "cell_type": "markdown",
   "metadata": {
    "slideshow": {
     "slide_type": "slide"
    }
   },
   "source": [
    "## Confidence interval for the population mean - the recipe\n",
    "\n",
    "\n",
    "* Third, find the t-score from the t-table according to the given confidence level and $df = n−1$. Then,\n",
    "    compute the margin of error (MOE) through\n",
    "    $$ MOE = t \\times se $$\n",
    "    \n",
    "* Fouth, the CI is given by\n",
    "\n",
    "    $$CI = (\\bar{x} − MOE, \\bar{x} + MOE)$$\n",
    "    \n",
    "* Fifth, **the interpretation**: we are ...% confident that the population mean is in between $\\bar{x} − MOE$ and\n",
    "  $\\bar{x} + MOE$.    \n",
    "    "
   ]
  },
  {
   "cell_type": "markdown",
   "metadata": {
    "slideshow": {
     "slide_type": "slide"
    }
   },
   "source": [
    "## Hypothesis tesing on sample mean\n",
    "\n",
    "* A hypothesis test that utilizes the t-distribution is usually referred to as a t-test.\n",
    "\n",
    "* Suppose we have a sample of size $n$ with sample mean $\\mu$ and standard deviation $s$.\n"
   ]
  },
  {
   "cell_type": "markdown",
   "metadata": {
    "slideshow": {
     "slide_type": "slide"
    }
   },
   "source": [
    "## Hypothesis tesing on sample mean - the recipe\n",
    "\n",
    "* First, check the following assumptions:\n",
    "    - The observations must be quantitative.\n",
    "    - If $n \\geq 30$, go to the second step. Otherwise, continue checking.\n",
    "    - If $ n < 30 $, then the observations must be normally distributed. (This is usually assumed to be true.)\n"
   ]
  },
  {
   "cell_type": "markdown",
   "metadata": {
    "slideshow": {
     "slide_type": "slide"
    }
   },
   "source": [
    "## Hypothesis tesing on sample mean - the recipe\n",
    "\n",
    "* Second, set up $H_0$ and Ha according to the table below. $H_a$ is the hypothesis of interest that the\n",
    "    population mean $\\mu$ is within a particular range associated with some pre-conceived $\\mu_0$, and\n",
    "    $H_0$ is the opposite of $H_a$.\n",
    "\n",
    "\n",
    "<div align=center>\n",
    "<img src=\"./hypo.png\"/>\n",
    "</div>\n",
    "\n",
    "    "
   ]
  },
  {
   "cell_type": "markdown",
   "metadata": {
    "slideshow": {
     "slide_type": "slide"
    }
   },
   "source": [
    "## Hypothesis tesing on sample mean - the recipe\n",
    "\n",
    "* Third, compute the test-statistic $t^∗$ through\n",
    "\n",
    "    $$t^* = \\frac{\\bar{x} - \\mu_0}{s / \\sqrt{n}}$$"
   ]
  },
  {
   "cell_type": "markdown",
   "metadata": {
    "slideshow": {
     "slide_type": "slide"
    }
   },
   "source": [
    "## Hypothesis tesing on sample mean - the recipe\n",
    "\n",
    "* Fouth step (the hard way), Based on $t^∗$ a given significance level $\\alpha$, make a decision by comparing $t^∗$ to a certain t-score which we call critical value from the t-table.\n",
    "\n",
    "<div align=center>\n",
    "    <img src=\"./t_rej.png\"/>\n",
    "</div>\n",
    "\n",
    "* The table provides the conditions for rejecting $H_0$ under the three different types of $H_a$. If the condition in the last column is not satisfied, we fail to reject $H_0$."
   ]
  },
  {
   "cell_type": "markdown",
   "metadata": {
    "slideshow": {
     "slide_type": "slide"
    }
   },
   "source": [
    "## Hypothesis tesing on sample mean - the recipe\n",
    "\n",
    "* The table in previous slides looks scary, other approaches available?  --- **YES**"
   ]
  },
  {
   "cell_type": "markdown",
   "metadata": {
    "slideshow": {
     "slide_type": "slide"
    }
   },
   "source": [
    "## Hypothesis tesing on sample mean - another forth step\n",
    "\n",
    "* Forth step (the easier way), calculate p-value using statistical software (Stat Crunch, for this course).\n"
   ]
  },
  {
   "cell_type": "markdown",
   "metadata": {
    "slideshow": {
     "slide_type": "slide"
    }
   },
   "source": [
    "## Hypothesis tesing on sample mean - the recipe\n",
    "\n",
    "* Fifth, draw conclusion by comparing the P-value to the significance level α.\n",
    "    - If P-value < $\\alpha$, --> **reject** $H_0$. There is sufficient evidence to support $H_a$ under $\\alpha$ significance level.\n",
    "    - If P-value ≥ $\\alpha$, --> **do not reject** $H_0$. There is no sufficient evidence to support $H_a$ under $\\alpha$ significance level."
   ]
  },
  {
   "cell_type": "markdown",
   "metadata": {
    "slideshow": {
     "slide_type": "slide"
    }
   },
   "source": [
    "## Practice! "
   ]
  },
  {
   "cell_type": "markdown",
   "metadata": {
    "slideshow": {
     "slide_type": "slide"
    }
   },
   "source": [
    "# End"
   ]
  }
 ],
 "metadata": {
  "celltoolbar": "Slideshow",
  "hide_input": false,
  "kernelspec": {
   "display_name": "Python 3",
   "language": "python",
   "name": "python3"
  },
  "language_info": {
   "codemirror_mode": {
    "name": "ipython",
    "version": 3
   },
   "file_extension": ".py",
   "mimetype": "text/x-python",
   "name": "python",
   "nbconvert_exporter": "python",
   "pygments_lexer": "ipython3",
   "version": "3.7.1"
  }
 },
 "nbformat": 4,
 "nbformat_minor": 2
}

{
 "cells": [
  {
   "cell_type": "markdown",
   "metadata": {
    "slideshow": {
     "slide_type": "slide"
    }
   },
   "source": [
    "# Elementary Statistics (STAT 201) \n",
    "# Two Sample Inference"
   ]
  },
  {
   "cell_type": "markdown",
   "metadata": {
    "slideshow": {
     "slide_type": "slide"
    }
   },
   "source": [
    "## Introduction\n",
    "\n",
    "* In the last two lectures, we discussed statistical inference on a population parameter based on a\n",
    "    single sample. \n",
    "* However, oftentimes we are interested in comparing two different populations. In\n",
    "    this lecture, we will focus on inference about the **difference between two population means** based\n",
    "    on two samples taken respectively from each population."
   ]
  },
  {
   "cell_type": "markdown",
   "metadata": {
    "slideshow": {
     "slide_type": "slide"
    }
   },
   "source": [
    "## Two sample inference -- an example\n",
    "\n",
    "* From https://www.optimizely.com/optimization-glossary/ab-testing/\n",
    "\n",
    "<div align=center>\n",
    "<img src=\"./ab_test.png\"/>\n",
    "</div>\n",
    "\n"
   ]
  },
  {
   "cell_type": "markdown",
   "metadata": {
    "slideshow": {
     "slide_type": "slide"
    }
   },
   "source": [
    "## The big picture\n",
    "\n",
    "<div align=center>\n",
    "<img src=\"./two_sample.png\"/>\n",
    "</div>\n"
   ]
  },
  {
   "cell_type": "markdown",
   "metadata": {
    "slideshow": {
     "slide_type": "slide"
    }
   },
   "source": [
    "## Comparing two population means \n",
    "\n",
    "* We will start with **dependent samples** first\n",
    "\n",
    "* The relationship between two samples is either independent or dependent. Thetwo samples are independent if individuals in each sample are completely independent or unrelated.\n"
   ]
  },
  {
   "cell_type": "markdown",
   "metadata": {
    "slideshow": {
     "slide_type": "slide"
    }
   },
   "source": [
    "## Independent samples -- an example\n",
    "\n",
    "* In clinical trials, individuals in the treatment group (sample A) and individuals in the placebo\n",
    "    group (sample B) are independent.\n",
    "* In political surveys, Democrats (sample A) and Republicans (sample B) are independent."
   ]
  },
  {
   "cell_type": "markdown",
   "metadata": {
    "slideshow": {
     "slide_type": "slide"
    }
   },
   "source": [
    "## Dependent samples -- defination\n",
    "\n",
    "* The two samples are dependent (matched pairs) if individuals in both\n",
    "    samples either are the same or match each other.\n",
    "    \n",
    "    "
   ]
  },
  {
   "cell_type": "markdown",
   "metadata": {
    "slideshow": {
     "slide_type": "slide"
    }
   },
   "source": [
    "## Dependent samples -- an example\n",
    "\n",
    "* In Lab 9, we measure the heart rate of the same individuals before (sample A) and after\n",
    "    (sample B) the exercise.\n",
    "\n",
    "* In a study of individuals’ age at marriage, husbands (sample A) and wives (sample B) are\n",
    "    matched pairs."
   ]
  },
  {
   "cell_type": "markdown",
   "metadata": {
    "slideshow": {
     "slide_type": "slide"
    }
   },
   "source": [
    "## What should we do if we have dependent samples? \n",
    "\n",
    "* If the two samples are **dependent**, we can take the **difference** between the matched pairs\n",
    "\n",
    "* And then perform one-sample inference (confidence interval or t-test) on the difference. (**Paired t-test**)\n",
    "\n",
    "* The differences are usually assumed to be normally distributed. We can check this by looking at a histogram."
   ]
  },
  {
   "cell_type": "markdown",
   "metadata": {
    "slideshow": {
     "slide_type": "slide"
    }
   },
   "source": [
    "## Hypothesis tesing on two population means with dependent samples - the recipe\n",
    "\n",
    "* First, check the following assumptions:\n",
    "    - The sample of difference scores is a random sample from a population of such\n",
    "        difference scores\n",
    "    - The difference scores have a population distribution that is approximately\n",
    "        normal. This is important for small samples (less than about 30). If the\n",
    "        sample size is small ($<30$), make a graphical display and check for extreme outliers\n",
    "        or skew.    "
   ]
  },
  {
   "cell_type": "markdown",
   "metadata": {
    "slideshow": {
     "slide_type": "slide"
    }
   },
   "source": [
    "## Hypothesis tesing on two population means with dependent samples - the recipe\n",
    "\n",
    "* Second, set up the hypothesis.\n",
    "\n",
    "$$\n",
    "H_0: \\mu_d = \\mu_1-\\mu_2 = 0\n",
    "$$\n",
    "\n",
    "$$\n",
    "\\operatorname{Left\\ tail:}\n",
    "H_a: \\mu_d = \\mu_1-\\mu_2 < 0,\n",
    "$$\n",
    "or\n",
    "$$\n",
    "\\operatorname{Right\\ tail:}\n",
    "H_a: \\mu_d = \\mu_1-\\mu_2 > 0,\n",
    "$$\n",
    "or\n",
    "$$\n",
    "\\operatorname{Two\\ sided:}\n",
    "H_a: \\mu_d = \\mu_1-\\mu_2 \\neq 0\n",
    "$$\n",
    "\n"
   ]
  },
  {
   "cell_type": "markdown",
   "metadata": {
    "slideshow": {
     "slide_type": "slide"
    }
   },
   "source": [
    "## Hypothesis tesing on two population means with dependent samples - the recipe\n",
    "\n",
    "* Third, compute the test-statistic $t^∗$ through\n",
    "\n",
    "    $$t^* = \\frac{\\bar{x}_d - 0}{s_d / \\sqrt{n}}$$\n",
    "    \n",
    "    where $\\bar{x}_d$ and $s_d$ are the sample mean and  sample standard deviation of the differences, respectively. \n",
    "    \n",
    "* $df = n-1$"
   ]
  },
  {
   "cell_type": "markdown",
   "metadata": {
    "slideshow": {
     "slide_type": "slide"
    }
   },
   "source": [
    "## Hypothesis tesing on twp population means with dependent samples - the recipe (the hard way)\n",
    "\n",
    "* Fourth step (the hard way), Based on $t^∗$ a given significance level $\\alpha$, make a decision by comparing $t^∗$ to a certain t-score which we call critical value from the t-table.\n",
    "\n",
    "<div align=center>\n",
    "    <img src=\"./two_tt.png\"/>\n",
    "</div>\n",
    "\n",
    "* The table provides the conditions for rejecting $H_0$ under the three different types of $H_a$. If the condition in the last column is not satisfied, we fail to reject $H_0$."
   ]
  },
  {
   "cell_type": "markdown",
   "metadata": {
    "slideshow": {
     "slide_type": "slide"
    }
   },
   "source": [
    "## Hypothesis tesing on two population means with dependent samples - the recipe (the easier way)\n",
    "\n",
    "* Fourth step (the easier way), calculate p-value using statistical software (Stat Crunch, for this course).\n",
    "\n",
    "* Fifth, draw conclusion by comparing the P-value to the significance level α.\n",
    "    - If P-value < $\\alpha$, --> **reject** $H_0$. There is sufficient evidence to support $H_a$ under $\\alpha$ significance level.\n",
    "    - If P-value ≥ $\\alpha$, --> **do not reject** $H_0$. There is no sufficient evidence to support $H_a$ under $\\alpha$ significance level."
   ]
  },
  {
   "cell_type": "markdown",
   "metadata": {
    "slideshow": {
     "slide_type": "slide"
    }
   },
   "source": [
    "## Confidence interval for the population mean difference with dependent sample- the recipe\n",
    "\n",
    "* Suppose $\\bar{x}_d$ and $s_d$ are the sample mean and  sample standard deviation of the differences, respectively.  \n",
    "\n",
    "* CI for $\\mu_d = \\mu_1 - \\mu_2$ is given by \n",
    "\n",
    "$$\n",
    "\\bar{x}_d \\pm t(\\frac{s_d}{\\sqrt{n}})\n",
    "$$\n",
    "\n",
    "\n",
    "* t is t-score from the t-table according to the given confidence level and $df = n−1$."
   ]
  },
  {
   "cell_type": "markdown",
   "metadata": {
    "slideshow": {
     "slide_type": "slide"
    }
   },
   "source": [
    "## What should we do if we have independent samples?\n",
    "\n",
    "* A little bit complicated...\n",
    "\n",
    "<div align=center>\n",
    "<img src=\"./two_sample_indep.png\"/>\n",
    "</div>\n"
   ]
  },
  {
   "cell_type": "markdown",
   "metadata": {
    "slideshow": {
     "slide_type": "slide"
    }
   },
   "source": [
    "## Want more details? Stay tuned for the next class :)\n",
    "\n",
    "* Now let us practice the paired t-test!"
   ]
  },
  {
   "cell_type": "markdown",
   "metadata": {
    "slideshow": {
     "slide_type": "slide"
    }
   },
   "source": [
    "## Two sample inference with independent design\n",
    "\n",
    "* In clinical trials, individuals in the treatment group (sample $A$) and individuals in the placebo\n",
    "    group (sample $B$) are independent.\n",
    "\n",
    "* We usually assume that the quantitative observations are randomly sampled from two normally distributed populations."
   ]
  },
  {
   "cell_type": "markdown",
   "metadata": {
    "slideshow": {
     "slide_type": "slide"
    }
   },
   "source": [
    "## We need to discuss about variance first\n",
    "\n",
    "* $A \\sim \\mathcal{N}(\\mu_A, \\sigma^2_A)$, $B \\sim \\mathcal{N}(\\mu_B, \\sigma^2_B)$\n",
    "\n",
    "* There are four unknown parameters,\n",
    "    the two population means ($\\mu_A$ and $\\mu_B$) and the two population standard deviations ($\\sigma_A$ and $\\sigma_B$)\n"
   ]
  },
  {
   "cell_type": "markdown",
   "metadata": {
    "slideshow": {
     "slide_type": "slide"
    }
   },
   "source": [
    "## We need to discuss about variance first\n",
    "\n",
    "* If the two sample variances are close enough, we can assume $\\sigma_A = \\sigma_B$ and perform pooled inference (pooled t-test).\n",
    "\n",
    "* Otherwise, assume $\\sigma_A \\neq \\sigma_B$ and perform unpooled t-test"
   ]
  },
  {
   "cell_type": "markdown",
   "metadata": {
    "slideshow": {
     "slide_type": "slide"
    }
   },
   "source": [
    "## Hypothesis tesing -  $\\sigma_A \\neq \\sigma_B$ or $\\sigma_A = \\sigma_B$\n",
    "\n",
    "* First, check the following assumptions:\n",
    "    - Quantitative variables + random sample\n",
    "    - Approximately normal population distributions for each group. This is mainly important for small sample sizes($<30$). Make a graphical display of both samples and check for extreme skew or outliers."
   ]
  },
  {
   "cell_type": "markdown",
   "metadata": {
    "slideshow": {
     "slide_type": "slide"
    }
   },
   "source": [
    "## Hypothesis tesing - $\\sigma_A \\neq \\sigma_B$ or $\\sigma_A = \\sigma_B$\n",
    "\n",
    "* Second, set up the hypothesis.\n",
    "\n",
    "$$\n",
    "H_0: \\mu_1-\\mu_2 = 0\n",
    "$$\n",
    "\n",
    "$$\n",
    "\\operatorname{Left\\ tail:}\n",
    "H_a: \\mu_1-\\mu_2 < 0,\n",
    "$$\n",
    "or\n",
    "$$\n",
    "\\operatorname{Right\\ tail:}\n",
    "H_a: \\mu_1-\\mu_2 > 0,\n",
    "$$\n",
    "or\n",
    "$$\n",
    "\\operatorname{Two\\ sided:}\n",
    "H_a: \\mu_1-\\mu_2 \\neq 0\n",
    "$$\n"
   ]
  },
  {
   "cell_type": "markdown",
   "metadata": {
    "slideshow": {
     "slide_type": "slide"
    }
   },
   "source": [
    "## Hypothesis tesing - if assume $\\sigma_A = \\sigma_B$  $\\implies$  pooled t-test\n",
    "\n",
    "\n",
    "* Third, compute the test-statistic $t^∗$ through\n",
    "\n",
    "    $$t^* = \\frac{(\\bar{x}_1 - \\bar{x}_2) - 0}{s_p\\sqrt{\\frac{1}{n_1}+\\frac{1}{n_2}}}$$\n",
    "    \n",
    "    where $\\bar{x}_1$ and $\\bar{x}_2$ are the sample mean of 2 groups; $s_1$ and $s_2$ are sample standard deviation of 2 groups, respectively. \n",
    "    \n",
    "* $s_p$ is the pooled standard deviation, could be calculated using stat software. $t^*$ follows t-distribution with $df = n_1+n_2-2$.     "
   ]
  },
  {
   "cell_type": "markdown",
   "metadata": {
    "slideshow": {
     "slide_type": "slide"
    }
   },
   "source": [
    "## Hypothesis tesing - if assume $\\sigma_A \\neq \\sigma_B$ $\\implies$ unpooled t-test\n",
    "\n",
    "\n",
    "* Third, compute the test-statistic $t^∗$ through\n",
    "\n",
    "    $$t^* = \\frac{(\\bar{x}_1 - \\bar{x}_2) - 0}{\\sqrt{\\frac{s_1^2}{n_1}+\\frac{s_2^2}{n_2}}}$$\n",
    "    \n",
    "    where $\\bar{x}_1$ and $\\bar{x}_2$ are the sample mean of 2 groups; $s_1$ and $s_2$ are sample standard deviation of 2 groups, respectively.   \n",
    "    \n",
    "* Degree of freedom ($df$) could be obtained using stat software.    "
   ]
  },
  {
   "cell_type": "markdown",
   "metadata": {
    "slideshow": {
     "slide_type": "slide"
    }
   },
   "source": [
    "## Hypothesis tesing - $\\sigma_A \\neq \\sigma_B$ or $\\sigma_A \\neq \\sigma_B$\n",
    "\n",
    "\n",
    "* Fourth step, calculate p-value using statistical software (Stat Crunch, for this course).\n",
    "\n",
    "* Fifth, draw conclusion by comparing the P-value to the significance level α.\n",
    "    - If P-value < $\\alpha$, --> **reject** $H_0$. There is sufficient evidence to support $H_a$ under $\\alpha$ significance level.\n",
    "    - If P-value ≥ $\\alpha$, --> **do not reject** $H_0$. There is no sufficient evidence to support $H_a$ under $\\alpha$ significance level."
   ]
  },
  {
   "cell_type": "markdown",
   "metadata": {
    "slideshow": {
     "slide_type": "slide"
    }
   },
   "source": [
    "## Confidence interval for the population mean difference with independent sample- the recipe\n",
    "\n",
    "* Suppose $\\bar{x}_1$ and $\\bar{x}_2$ are the sample mean of 2 groups; $s_1$ and $s_2$ are sample standard deviation of 2 groups, respectively.   \n",
    "    \n",
    "* CI for $ \\mu_1 - \\mu_2$ is given by \n",
    "\n",
    "$$\n",
    "(\\bar{x}_1 - \\bar{x}_2) \\pm t\\sqrt{\\frac{s_1^2}{n_1}+\\frac{s_2^2}{n_2}}\n",
    "$$\n",
    "\n",
    "\n",
    "* Degree of freedom should be obtained from stat software."
   ]
  },
  {
   "cell_type": "markdown",
   "metadata": {
    "slideshow": {
     "slide_type": "slide"
    }
   },
   "source": [
    "# END"
   ]
  }
 ],
 "metadata": {
  "celltoolbar": "Slideshow",
  "hide_input": false,
  "kernelspec": {
   "display_name": "Python 3",
   "language": "python",
   "name": "python3"
  },
  "language_info": {
   "codemirror_mode": {
    "name": "ipython",
    "version": 3
   },
   "file_extension": ".py",
   "mimetype": "text/x-python",
   "name": "python",
   "nbconvert_exporter": "python",
   "pygments_lexer": "ipython3",
   "version": "3.7.1"
  }
 },
 "nbformat": 4,
 "nbformat_minor": 2
}

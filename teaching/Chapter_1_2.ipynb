{
 "cells": [
  {
   "cell_type": "markdown",
   "metadata": {
    "slideshow": {
     "slide_type": "slide"
    }
   },
   "source": [
    "# Elmentary Statistics (STAT 201)\n",
    "## Xiangyang Cao, PhD candidate in Statistics"
   ]
  },
  {
   "cell_type": "markdown",
   "metadata": {
    "slideshow": {
     "slide_type": "slide"
    }
   },
   "source": [
    "# What is Statistics? \n",
    "\n",
    "<img src=\"https://upload.wikimedia.org/wikipedia/commons/4/40/Fisher_iris_versicolor_sepalwidth.svg\" style=\"width:300px;\"/>"
   ]
  },
  {
   "cell_type": "markdown",
   "metadata": {
    "slideshow": {
     "slide_type": "slide"
    }
   },
   "source": [
    "## Let data tell a story -> The art and science of learning from data\n",
    "\n",
    "* [One story:  searching for a fisherman lost at sea using Statistics method](https://stats.stackexchange.com/questions/119952/how-to-apply-bayes-theorem-to-the-search-for-a-fisherman-lost-at-sea)\n",
    "    \n",
    "* There are two fishermen on a boat in the middle of the night. While one is asleep, the other falls into the ocean. The boat continues to troll along on autopilot all through the night until the first guy finally wakes up and notifies the Coast Guard.\n"
   ]
  },
  {
   "cell_type": "markdown",
   "metadata": {
    "slideshow": {
     "slide_type": "subslide"
    }
   },
   "source": [
    "* A long version"
   ]
  },
  {
   "cell_type": "code",
   "execution_count": 3,
   "metadata": {
    "slideshow": {
     "slide_type": "subslide"
    }
   },
   "outputs": [
    {
     "data": {
      "text/html": [
       "\n",
       "        <iframe\n",
       "            width=\"900\"\n",
       "            height=\"500\"\n",
       "            src=\"https://www.nytimes.com/2014/01/05/magazine/a-speck-in-the-sea.html?smid=pl-share\"\n",
       "            frameborder=\"0\"\n",
       "            allowfullscreen\n",
       "        ></iframe>\n",
       "        "
      ],
      "text/plain": [
       "<IPython.lib.display.IFrame at 0x10d3f80b8>"
      ]
     },
     "execution_count": 3,
     "metadata": {},
     "output_type": "execute_result"
    }
   ],
   "source": [
    "from IPython.display import IFrame\n",
    "IFrame('https://www.nytimes.com/2014/01/05/magazine/a-speck-in-the-sea.html?smid=pl-share', width=900,height=500)"
   ]
  },
  {
   "cell_type": "markdown",
   "metadata": {
    "slideshow": {
     "slide_type": "slide"
    }
   },
   "source": [
    "## Basic concepts in Statistics "
   ]
  },
  {
   "cell_type": "markdown",
   "metadata": {
    "slideshow": {
     "slide_type": "slide"
    }
   },
   "source": [
    "* **Individuals (subjects)**: the entities that we measure in a study. Individuals are often\n",
    "    people, but they don’t have to be. \n",
    "\n",
    "* **Variable**: any characteristic we measure on the individuals. The measurements are called\n",
    "    data or observations.\n",
    "    - Values of the same variable may differ among individuals. We call this difference variability."
   ]
  },
  {
   "cell_type": "markdown",
   "metadata": {
    "slideshow": {
     "slide_type": "subslide"
    }
   },
   "source": [
    "* **Population**: the collection of all individuals that we are interested in.\n",
    "* **Sample**: a subset of the population which we have (or plan to have) data.\n",
    "    - The number of individuals in the sample is called the **sample size**.\n",
    "  "
   ]
  },
  {
   "cell_type": "markdown",
   "metadata": {
    "slideshow": {
     "slide_type": "subslide"
    }
   },
   "source": [
    "* **Parameter**: a numerical summary of the population, such as population mean or population\n",
    "    proportion.\n",
    "    - Unless every individual in the population is measured, the population parameter is usually unknown.\n",
    "* **Statistic**: a numerical summary of the sample, such as sample mean or sample proportion.\n",
    "    - Although always known, a key feature of a sample statistic is that it is random. The value of a sample statistic varies from sample to sample."
   ]
  },
  {
   "cell_type": "markdown",
   "metadata": {
    "slideshow": {
     "slide_type": "slide"
    }
   },
   "source": [
    "### Population vs sample, parameter vs statistic \n",
    "\n",
    "<img src=\"./STAT201_Spring2019/relationships.png\"/>"
   ]
  },
  {
   "cell_type": "markdown",
   "metadata": {
    "slideshow": {
     "slide_type": "slide"
    }
   },
   "source": [
    "## Three main components of statistics:\n",
    "* **Design of study**: stating the goal and/or question of interest and planning how to obtain\n",
    "    data that will address them.\n",
    "* **Descriptive statistics**: summarizing and analyzing the data that are obtained.\n",
    "\n",
    "* **Inferential statistics**: making decisions and predictions based on the data for answering\n",
    "    the statistical question."
   ]
  },
  {
   "cell_type": "markdown",
   "metadata": {
    "slideshow": {
     "slide_type": "slide"
    }
   },
   "source": [
    "### Design of study - Sampling Method\n",
    "\n",
    "<table>\n",
    "  <tr>\n",
    "    <th>Scheme</th>\n",
    "    <th>Defination</th>\n",
    "    <th>Pros</th>\n",
    "    <th>Cons</th>\n",
    "  </tr>\n",
    "  <tr>\n",
    "    <td>Census</td>\n",
    "    <td>Measureing every individual in the population</td>\n",
    "    <td>Comprehensive</td>\n",
    "    <td>non-feasible</td>\n",
    "  </tr>\n",
    "  <tr>\n",
    "    <td>Judgment Sample</td>\n",
    "    <td>A sample that an expert thinks to be representative</td>\n",
    "    <td>  </td>\n",
    "    <td>Potentially biased</td>\n",
    "  </tr>\n",
    "  <tr>\n",
    "    <td>Convenience Sample</td>\n",
    "    <td>A sample that is easy to access</td>\n",
    "    <td> </td>\n",
    "    <td>Potentially biased</td>\n",
    "  </tr>\n",
    "  <tr>\n",
    "    <td>Volunteer Sample</td>\n",
    "    <td>A sample where individuals choose to/not to participate</td>\n",
    "    <td> </td>\n",
    "    <td>Potentially biased</td>\n",
    "  </tr>\n",
    "  <tr>\n",
    "    <td>Systematic Sample</td>\n",
    "    <td>Individuals are sampled using systematic methods</td>\n",
    "    <td>  </td>\n",
    "    <td>Potentially biased</td>\n",
    "  </tr>\n",
    "  <tr>\n",
    "    <td>Simple Random Sample(SRS)</td>\n",
    "    <td>Every individual in the population is equally likely to be included in the sample</td>\n",
    "    <td>Represents the population if the sample size is large enough</td>\n",
    "    <td> </td>\n",
    "  </tr>\n",
    "\n",
    "</table>\n",
    "\n",
    "\n"
   ]
  },
  {
   "cell_type": "markdown",
   "metadata": {
    "slideshow": {
     "slide_type": "slide"
    }
   },
   "source": [
    "# Data Visualization (Graphical Display)"
   ]
  },
  {
   "cell_type": "markdown",
   "metadata": {
    "slideshow": {
     "slide_type": "slide"
    }
   },
   "source": [
    "## Categorical Data\n",
    "\n",
    "* **Categorical (qualitative)** : each observation belongs to one of a set of distinct categories.\n",
    "    - Major, home state, nationality, etc.\n",
    "    - (There are 10 types of people, those who understand binary system and those who don’t.)\n"
   ]
  },
  {
   "cell_type": "markdown",
   "metadata": {
    "slideshow": {
     "slide_type": "slide"
    }
   },
   "source": [
    "## Quantitative Data\n",
    "\n",
    "* **Quantitative**: each observation takes on a numerical value that represent a certain magni-\n",
    "    tude of the variable.\n",
    "\n",
    "    - Discrete quantitative: possible values of the variable form a set of separate numbers\n",
    "        such as 0, 1, 2, . . ..\n",
    "    - Continuous quantitative: possible values of the variable form an interval."
   ]
  },
  {
   "cell_type": "markdown",
   "metadata": {
    "slideshow": {
     "slide_type": "slide"
    }
   },
   "source": [
    "## How to visualize categorical data\n",
    "\n",
    "* **Distribution** The distribution of a variable describes how the observations fall (are dis-\n",
    "    tributed) across the range of possible values.\n",
    "\n"
   ]
  },
  {
   "cell_type": "markdown",
   "metadata": {
    "slideshow": {
     "slide_type": "slide"
    }
   },
   "source": [
    "### Frequency table\n",
    "\n",
    "* The distribution of a categorical variable can be summarized in a **frequency table**, which displays all possible categories, together with the frequencies or relative frequencies of each category.\n",
    "\n",
    "    - **Frequency**: the number of observations (or occurrences) falling in one category.\n",
    "    - **Relative frequency**: the number of observations falling in one category, relative to the\n",
    "        sample size.   \n"
   ]
  },
  {
   "cell_type": "markdown",
   "metadata": {
    "cell_style": "center",
    "slideshow": {
     "slide_type": "slide"
    }
   },
   "source": [
    "* We can obtain the relative frequency of a category by computing its **sample proportion** or percentage.\n",
    "\n",
    "* **Sample proportion**: the number of observations falling in one category divided by the total\n",
    "    number of observations. In other words, sample proportion is the frequency of one category\n",
    "    divided by the sample size. We often denote sample proportion by $\\hat{p}$ (p-hat).\n",
    "\n",
    "$$ \\hat{p} = \\frac{frequency}{sample \\ size}  $$\n"
   ]
  },
  {
   "cell_type": "markdown",
   "metadata": {
    "slideshow": {
     "slide_type": "slide"
    }
   },
   "source": [
    "* An example: number of car accidents in each state in 2017"
   ]
  },
  {
   "cell_type": "code",
   "execution_count": 77,
   "metadata": {
    "cell_style": "center",
    "scrolled": true,
    "slideshow": {
     "slide_type": "subslide"
    }
   },
   "outputs": [
    {
     "data": {
      "text/html": [
       "\n",
       "        <iframe\n",
       "            width=\"900\"\n",
       "            height=\"600\"\n",
       "            src=\"https://www.iihs.org/iihs/topics/t/general-statistics/fatalityfacts/state-by-state-overview\"\n",
       "            frameborder=\"0\"\n",
       "            allowfullscreen\n",
       "        ></iframe>\n",
       "        "
      ],
      "text/plain": [
       "<IPython.lib.display.IFrame at 0x107ea1908>"
      ]
     },
     "execution_count": 77,
     "metadata": {},
     "output_type": "execute_result"
    }
   ],
   "source": [
    "IFrame(\"https://www.iihs.org/iihs/topics/t/general-statistics/fatalityfacts/state-by-state-overview\", width = 900, height = 600)"
   ]
  },
  {
   "cell_type": "markdown",
   "metadata": {
    "slideshow": {
     "slide_type": "slide"
    }
   },
   "source": [
    "### Pie chart\n",
    "\n",
    "* The earliest pie chart ever created dates back to 1801 (From Wikipedia):\n",
    "\n",
    "<img src=\"https://upload.wikimedia.org/wikipedia/commons/6/63/Playfair-piechart.jpg\"  style=\"width:200px;\" />"
   ]
  },
  {
   "cell_type": "markdown",
   "metadata": {
    "slideshow": {
     "slide_type": "slide"
    }
   },
   "source": [
    "### Bar graph\n",
    "\n",
    "* Huamn losses in WWII (From Wikipedia)\n",
    "<img src=\"https://upload.wikimedia.org/wikipedia/commons/3/35/Human_losses_of_world_war_two_by_country.png\" style=\"width:400px;\" />\n"
   ]
  },
  {
   "cell_type": "markdown",
   "metadata": {
    "slideshow": {
     "slide_type": "slide"
    }
   },
   "source": [
    "## How to visualize quantitative data"
   ]
  },
  {
   "cell_type": "markdown",
   "metadata": {
    "slideshow": {
     "slide_type": "slide"
    }
   },
   "source": [
    "### Dot plot\n",
    "\n",
    "* From Wikipedia\n",
    "\n",
    "<img src=\"https://upload.wikimedia.org/wikipedia/commons/b/bc/Dotplot_of_random_values_2.png\" />"
   ]
  },
  {
   "cell_type": "markdown",
   "metadata": {
    "slideshow": {
     "slide_type": "slide"
    }
   },
   "source": [
    "### Stem and Leaf plot\n"
   ]
  },
  {
   "cell_type": "code",
   "execution_count": 78,
   "metadata": {
    "slideshow": {
     "slide_type": "-"
    }
   },
   "outputs": [
    {
     "data": {
      "text/html": [
       "\n",
       "        <iframe\n",
       "            width=\"900\"\n",
       "            height=\"400\"\n",
       "            src=\"https://www.mathsisfun.com/data/stem-leaf-plots.html\"\n",
       "            frameborder=\"0\"\n",
       "            allowfullscreen\n",
       "        ></iframe>\n",
       "        "
      ],
      "text/plain": [
       "<IPython.lib.display.IFrame at 0x107ea1278>"
      ]
     },
     "execution_count": 78,
     "metadata": {},
     "output_type": "execute_result"
    }
   ],
   "source": [
    "IFrame(\"https://www.mathsisfun.com/data/stem-leaf-plots.html\", width=900, height=400)"
   ]
  },
  {
   "cell_type": "markdown",
   "metadata": {
    "slideshow": {
     "slide_type": "slide"
    }
   },
   "source": [
    "### Histogram\n",
    "\n",
    "* Important\n",
    "\n"
   ]
  },
  {
   "cell_type": "markdown",
   "metadata": {
    "slideshow": {
     "slide_type": "subslide"
    }
   },
   "source": [
    "* Different shpae of histogram\n",
    "<img src=\"./STAT201_Spring2019/hist1.png\" />\n",
    "<img src=\"./STAT201_Spring2019/hist2.png\" />"
   ]
  },
  {
   "cell_type": "markdown",
   "metadata": {
    "slideshow": {
     "slide_type": "slide"
    }
   },
   "source": [
    "### Boxplot\n",
    "\n",
    "* Important, we will talk about it later.\n",
    "\n",
    "* Boxplot of the Michelson–Morley experiment (measuring the speed of light) (From Wikipedia)"
   ]
  },
  {
   "cell_type": "markdown",
   "metadata": {
    "slideshow": {
     "slide_type": "subslide"
    }
   },
   "source": [
    "\n",
    "<img src=\"https://upload.wikimedia.org/wikipedia/commons/f/fa/Michelsonmorley-boxplot.svg\" />\n"
   ]
  },
  {
   "cell_type": "markdown",
   "metadata": {
    "slideshow": {
     "slide_type": "slide"
    }
   },
   "source": [
    "# Descriptive Statistics (Numerical Summary)"
   ]
  },
  {
   "cell_type": "markdown",
   "metadata": {
    "slideshow": {
     "slide_type": "slide"
    }
   },
   "source": [
    "## Measure of Center -- where the “center” of the data is located.\n",
    "\n",
    "* Sample mean\n",
    "* Sample median"
   ]
  },
  {
   "cell_type": "markdown",
   "metadata": {
    "slideshow": {
     "slide_type": "slide"
    }
   },
   "source": [
    "### Sample mean\n",
    "\n",
    "* **Sample mean**: denoted by $\\bar{x}$, suppose we have $n$ observations $x_1, x_2, \\dots, x_n$\n",
    "\n",
    "$$\\bar{x} = \\frac{x_1 + x_2 + \\dots + x_n}{n} = \\frac{\\sum x_i}{n}$$"
   ]
  },
  {
   "cell_type": "markdown",
   "metadata": {
    "slideshow": {
     "slide_type": "slide"
    }
   },
   "source": [
    "### Sample median\n",
    "* **Sample median**: midpoint of the observations when they are ordered from the smallest to the largest.\n",
    "* Calculation:\n",
    "    1. Sort the observations from the smallest to the largest.\n",
    "    2. If the sample size, n, is\n",
    "        - odd, the median is the middle observation;\n",
    "        - even, the median is the average of the two middle observations.\n",
    "\n",
    "\n"
   ]
  },
  {
   "cell_type": "markdown",
   "metadata": {
    "slideshow": {
     "slide_type": "slide"
    }
   },
   "source": [
    "### Sample median\n",
    "* Calculation:\n",
    "    1. Sort the observations from the smallest to the largest.\n",
    "    2. If the sample size, n, is\n",
    "        - odd, the median is the middle observation;\n",
    "        - even, the median is the average of the two middle observations.\n"
   ]
  },
  {
   "cell_type": "markdown",
   "metadata": {
    "slideshow": {
     "slide_type": "slide"
    }
   },
   "source": [
    "### Remark\n",
    "\n",
    "* if the distribution is symmetric, median ≈ mean;\n",
    "* if the distribution is left-skewed, median > mean;\n",
    "* if the distribution is right-skewed, median < mean."
   ]
  },
  {
   "cell_type": "markdown",
   "metadata": {
    "slideshow": {
     "slide_type": "slide"
    }
   },
   "source": [
    "## Measure of Variability -- how much the data varies\n",
    "\n",
    "* Range, Vairance and Standard deviation"
   ]
  },
  {
   "cell_type": "markdown",
   "metadata": {
    "slideshow": {
     "slide_type": "slide"
    }
   },
   "source": [
    "### Range \n",
    "\n",
    "* Range = Maximum - Minimum"
   ]
  },
  {
   "cell_type": "markdown",
   "metadata": {
    "slideshow": {
     "slide_type": "slide"
    }
   },
   "source": [
    "### Variance and standard deviation\n",
    "\n",
    "* Variance: denoted by $s^2$:\n",
    "$$ s^2 = \\frac{\\sum (x_i - \\bar{x})^2}{n-1}\n",
    "$$\n",
    "* Standard deviation: denoted by $s$:\n",
    "$$ s = \\sqrt{s^2} $$"
   ]
  },
  {
   "cell_type": "markdown",
   "metadata": {
    "slideshow": {
     "slide_type": "slide"
    }
   },
   "source": [
    "### Remark\n",
    "\n",
    "* Like sample mean and median, range, variance and standard deviation are sample statistics. Here for simplicity, we use variance instead of a more rigorious term \"**sample variance**\"."
   ]
  },
  {
   "cell_type": "markdown",
   "metadata": {
    "slideshow": {
     "slide_type": "slide"
    }
   },
   "source": [
    "### Five number summary\n",
    "\n",
    "* We usually refer to the minimum (smallest observation), the **first quartile**, the median, the **third quartile** and the maximum (largest observation) as the five-number summary.\n",
    "    \n"
   ]
  },
  {
   "cell_type": "markdown",
   "metadata": {
    "slideshow": {
     "slide_type": "slide"
    }
   },
   "source": [
    "### First (Q1) and third quartile(Q3)\n",
    "\n",
    "* Sorting the data in ascending order from the smallest to the largest, the first\n",
    "    quartile (Q1), the median (second quartile, Q2) and the third quartile (Q3) divide the whole\n",
    "    data set into 4 sections, each containing 25% of all the observations. "
   ]
  },
  {
   "cell_type": "markdown",
   "metadata": {
    "slideshow": {
     "slide_type": "slide"
    }
   },
   "source": [
    "### First (Q1) and third quartile(Q3)\n",
    "\n",
    "1. Sort the data in ascending order from the smallest to the largest.\n",
    "2. Find the median (Q2) of the whole data set.\n",
    "3. Exclude Q2. (Not necessary if the sample size n is even.)\n",
    "4. The median of the lower half of the observations is the first quartile Q1.\n",
    "5. Similarly, the median of the upper half of the observations is the third quartile Q3."
   ]
  },
  {
   "cell_type": "markdown",
   "metadata": {
    "slideshow": {
     "slide_type": "slide"
    }
   },
   "source": [
    "### Recall Boxplot? \n",
    "\n",
    "<img src=\"https://upload.wikimedia.org/wikipedia/commons/5/55/Box-Plot_mit_Min-Max_Abstand.png\" style=\"width:400px;\"/>"
   ]
  },
  {
   "cell_type": "markdown",
   "metadata": {
    "slideshow": {
     "slide_type": "slide"
    }
   },
   "source": [
    "###  Five number summary and Box plot\n",
    "\n",
    "```\n",
    "|--------|二二二二|二二二二|------|\n",
    "\n",
    "↑        ↑      ↑       ↑      ↑\n",
    "minmum   Q1     Q2      Q3   maximum\n",
    "```"
   ]
  },
  {
   "cell_type": "markdown",
   "metadata": {
    "slideshow": {
     "slide_type": "slide"
    }
   },
   "source": [
    "### z-score \n",
    "\n",
    "* **z-score** of an observation $x$: the number of standard deviations $s$ from that observation $x$ to the mean $\\bar{x}$. For an observation x, its z-score  $z$ is given by\n",
    "\n",
    "$$ z = \\frac{x - mean}{standard\\ deviation} = \\frac{x - \\bar{x}}{s}$$ "
   ]
  },
  {
   "cell_type": "markdown",
   "metadata": {
    "slideshow": {
     "slide_type": "slide"
    }
   },
   "source": [
    "### The empirical rule\n",
    "\n",
    "* For bell shaped (sysmetric) data . . .\n",
    "    - About 68% of observations fall within 1 standard deviation of the mean, $\\bar{x}-s$ to $\\bar{x}+s$\n",
    "    - About 95% of observations fall within 2 standard deviations of the mean, $\\bar{x}-2s$ to $\\bar{x}+2s$\n",
    "    - About 100% of observations fall within 3 standard deviations of the mean, $\\bar{x}-3s$ to $\\bar{x}+3s$\n"
   ]
  },
  {
   "cell_type": "markdown",
   "metadata": {
    "slideshow": {
     "slide_type": "slide"
    }
   },
   "source": [
    "    \n",
    "### The empirical rule\n",
    "   \n",
    "* In terms of z-scores,  empirical rule corresponds to\n",
    "    - 68% of all the observations have −1 < z < 1;\n",
    "    - 95% of all the observations have −2 < z < 2;\n",
    "    - 99.7% (100%) of all the observations have −3 < z < 3."
   ]
  },
  {
   "cell_type": "markdown",
   "metadata": {
    "slideshow": {
     "slide_type": "slide"
    }
   },
   "source": [
    "\n",
    "<img src=\"https://upload.wikimedia.org/wikipedia/commons/2/22/Empirical_rule_histogram.svg\" style=\"width:400px;\"/>"
   ]
  },
  {
   "cell_type": "markdown",
   "metadata": {},
   "source": [
    "# END"
   ]
  }
 ],
 "metadata": {
  "celltoolbar": "Slideshow",
  "hide_input": false,
  "kernelspec": {
   "display_name": "Python 3",
   "language": "python",
   "name": "python3"
  },
  "language_info": {
   "codemirror_mode": {
    "name": "ipython",
    "version": 3
   },
   "file_extension": ".py",
   "mimetype": "text/x-python",
   "name": "python",
   "nbconvert_exporter": "python",
   "pygments_lexer": "ipython3",
   "version": "3.7.1"
  }
 },
 "nbformat": 4,
 "nbformat_minor": 2
}

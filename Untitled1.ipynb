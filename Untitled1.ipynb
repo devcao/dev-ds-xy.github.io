{
 "cells": [
  {
   "cell_type": "code",
   "execution_count": 20,
   "metadata": {},
   "outputs": [],
   "source": [
    "import pandas as pd\n",
    "import numpy as np"
   ]
  },
  {
   "cell_type": "code",
   "execution_count": 2,
   "metadata": {},
   "outputs": [
    {
     "name": "stderr",
     "output_type": "stream",
     "text": [
      "C:\\Users\\xiangyangcao\\AppData\\Local\\Continuum\\anaconda3\\lib\\site-packages\\IPython\\core\\interactiveshell.py:3049: DtypeWarning: Columns (8,17,31,32,33,34,35,36,37) have mixed types. Specify dtype option on import or set low_memory=False.\n",
      "  interactivity=interactivity, compiler=compiler, result=result)\n"
     ]
    }
   ],
   "source": [
    "data = pd.read_csv(\"311_Service_Requests_from_2010_to_Present.csv\")"
   ]
  },
  {
   "cell_type": "code",
   "execution_count": 3,
   "metadata": {},
   "outputs": [
    {
     "data": {
      "text/html": [
       "<div>\n",
       "<style scoped>\n",
       "    .dataframe tbody tr th:only-of-type {\n",
       "        vertical-align: middle;\n",
       "    }\n",
       "\n",
       "    .dataframe tbody tr th {\n",
       "        vertical-align: top;\n",
       "    }\n",
       "\n",
       "    .dataframe thead th {\n",
       "        text-align: right;\n",
       "    }\n",
       "</style>\n",
       "<table border=\"1\" class=\"dataframe\">\n",
       "  <thead>\n",
       "    <tr style=\"text-align: right;\">\n",
       "      <th></th>\n",
       "      <th>Unique Key</th>\n",
       "      <th>Created Date</th>\n",
       "      <th>Closed Date</th>\n",
       "      <th>Agency</th>\n",
       "      <th>Agency Name</th>\n",
       "      <th>Complaint Type</th>\n",
       "      <th>Descriptor</th>\n",
       "      <th>Location Type</th>\n",
       "      <th>Incident Zip</th>\n",
       "      <th>Incident Address</th>\n",
       "      <th>...</th>\n",
       "      <th>Vehicle Type</th>\n",
       "      <th>Taxi Company Borough</th>\n",
       "      <th>Taxi Pick Up Location</th>\n",
       "      <th>Bridge Highway Name</th>\n",
       "      <th>Bridge Highway Direction</th>\n",
       "      <th>Road Ramp</th>\n",
       "      <th>Bridge Highway Segment</th>\n",
       "      <th>Latitude</th>\n",
       "      <th>Longitude</th>\n",
       "      <th>Location</th>\n",
       "    </tr>\n",
       "  </thead>\n",
       "  <tbody>\n",
       "    <tr>\n",
       "      <th>0</th>\n",
       "      <td>35404660</td>\n",
       "      <td>02/02/2017 11:56:03 PM</td>\n",
       "      <td>02/03/2017 01:51:24 AM</td>\n",
       "      <td>NYPD</td>\n",
       "      <td>New York City Police Department</td>\n",
       "      <td>Noise - Residential</td>\n",
       "      <td>Banging/Pounding</td>\n",
       "      <td>Residential Building/House</td>\n",
       "      <td>10451</td>\n",
       "      <td>328 EAST 145 STREET</td>\n",
       "      <td>...</td>\n",
       "      <td>NaN</td>\n",
       "      <td>NaN</td>\n",
       "      <td>NaN</td>\n",
       "      <td>NaN</td>\n",
       "      <td>NaN</td>\n",
       "      <td>NaN</td>\n",
       "      <td>NaN</td>\n",
       "      <td>40.814810</td>\n",
       "      <td>-73.921825</td>\n",
       "      <td>(40.8148099628792, -73.92182534717347)</td>\n",
       "    </tr>\n",
       "    <tr>\n",
       "      <th>1</th>\n",
       "      <td>35404661</td>\n",
       "      <td>02/02/2017 03:18:24 PM</td>\n",
       "      <td>03/17/2017 12:00:00 AM</td>\n",
       "      <td>DOB</td>\n",
       "      <td>Department of Buildings</td>\n",
       "      <td>Building/Use</td>\n",
       "      <td>Illegal Conversion Of Residential Building/Space</td>\n",
       "      <td>NaN</td>\n",
       "      <td>11421</td>\n",
       "      <td>80-35 89 AVENUE</td>\n",
       "      <td>...</td>\n",
       "      <td>NaN</td>\n",
       "      <td>NaN</td>\n",
       "      <td>NaN</td>\n",
       "      <td>NaN</td>\n",
       "      <td>NaN</td>\n",
       "      <td>NaN</td>\n",
       "      <td>NaN</td>\n",
       "      <td>40.688758</td>\n",
       "      <td>-73.860937</td>\n",
       "      <td>(40.68875760242296, -73.86093696394687)</td>\n",
       "    </tr>\n",
       "    <tr>\n",
       "      <th>2</th>\n",
       "      <td>35404662</td>\n",
       "      <td>02/02/2017 09:14:31 AM</td>\n",
       "      <td>02/06/2017 12:00:00 AM</td>\n",
       "      <td>DOB</td>\n",
       "      <td>Department of Buildings</td>\n",
       "      <td>Elevator</td>\n",
       "      <td>Elevator - Defective/Not Working</td>\n",
       "      <td>NaN</td>\n",
       "      <td>11224</td>\n",
       "      <td>2970 WEST   27 STREET</td>\n",
       "      <td>...</td>\n",
       "      <td>NaN</td>\n",
       "      <td>NaN</td>\n",
       "      <td>NaN</td>\n",
       "      <td>NaN</td>\n",
       "      <td>NaN</td>\n",
       "      <td>NaN</td>\n",
       "      <td>NaN</td>\n",
       "      <td>40.573588</td>\n",
       "      <td>-73.992855</td>\n",
       "      <td>(40.57358775088775, -73.99285474116026)</td>\n",
       "    </tr>\n",
       "    <tr>\n",
       "      <th>3</th>\n",
       "      <td>35404664</td>\n",
       "      <td>02/02/2017 10:07:13 PM</td>\n",
       "      <td>02/02/2017 10:38:43 PM</td>\n",
       "      <td>NYPD</td>\n",
       "      <td>New York City Police Department</td>\n",
       "      <td>Noise - Residential</td>\n",
       "      <td>Loud Music/Party</td>\n",
       "      <td>Residential Building/House</td>\n",
       "      <td>10029</td>\n",
       "      <td>55 EAST 110 STREET</td>\n",
       "      <td>...</td>\n",
       "      <td>NaN</td>\n",
       "      <td>NaN</td>\n",
       "      <td>NaN</td>\n",
       "      <td>NaN</td>\n",
       "      <td>NaN</td>\n",
       "      <td>NaN</td>\n",
       "      <td>NaN</td>\n",
       "      <td>40.796015</td>\n",
       "      <td>-73.947288</td>\n",
       "      <td>(40.79601481468809, -73.94728791329261)</td>\n",
       "    </tr>\n",
       "    <tr>\n",
       "      <th>4</th>\n",
       "      <td>35404665</td>\n",
       "      <td>02/02/2017 07:56:41 PM</td>\n",
       "      <td>02/02/2017 11:09:23 PM</td>\n",
       "      <td>NYPD</td>\n",
       "      <td>New York City Police Department</td>\n",
       "      <td>Noise - Residential</td>\n",
       "      <td>Loud Music/Party</td>\n",
       "      <td>Residential Building/House</td>\n",
       "      <td>10037</td>\n",
       "      <td>2059 MADISON AVENUE</td>\n",
       "      <td>...</td>\n",
       "      <td>NaN</td>\n",
       "      <td>NaN</td>\n",
       "      <td>NaN</td>\n",
       "      <td>NaN</td>\n",
       "      <td>NaN</td>\n",
       "      <td>NaN</td>\n",
       "      <td>NaN</td>\n",
       "      <td>40.809081</td>\n",
       "      <td>-73.938196</td>\n",
       "      <td>(40.80908068595664, -73.93819608404088)</td>\n",
       "    </tr>\n",
       "  </tbody>\n",
       "</table>\n",
       "<p>5 rows × 41 columns</p>\n",
       "</div>"
      ],
      "text/plain": [
       "   Unique Key            Created Date             Closed Date Agency  \\\n",
       "0    35404660  02/02/2017 11:56:03 PM  02/03/2017 01:51:24 AM   NYPD   \n",
       "1    35404661  02/02/2017 03:18:24 PM  03/17/2017 12:00:00 AM    DOB   \n",
       "2    35404662  02/02/2017 09:14:31 AM  02/06/2017 12:00:00 AM    DOB   \n",
       "3    35404664  02/02/2017 10:07:13 PM  02/02/2017 10:38:43 PM   NYPD   \n",
       "4    35404665  02/02/2017 07:56:41 PM  02/02/2017 11:09:23 PM   NYPD   \n",
       "\n",
       "                       Agency Name       Complaint Type  \\\n",
       "0  New York City Police Department  Noise - Residential   \n",
       "1          Department of Buildings         Building/Use   \n",
       "2          Department of Buildings             Elevator   \n",
       "3  New York City Police Department  Noise - Residential   \n",
       "4  New York City Police Department  Noise - Residential   \n",
       "\n",
       "                                         Descriptor  \\\n",
       "0                                  Banging/Pounding   \n",
       "1  Illegal Conversion Of Residential Building/Space   \n",
       "2                  Elevator - Defective/Not Working   \n",
       "3                                  Loud Music/Party   \n",
       "4                                  Loud Music/Party   \n",
       "\n",
       "                Location Type Incident Zip       Incident Address  ...  \\\n",
       "0  Residential Building/House        10451    328 EAST 145 STREET  ...   \n",
       "1                         NaN        11421        80-35 89 AVENUE  ...   \n",
       "2                         NaN        11224  2970 WEST   27 STREET  ...   \n",
       "3  Residential Building/House        10029     55 EAST 110 STREET  ...   \n",
       "4  Residential Building/House        10037    2059 MADISON AVENUE  ...   \n",
       "\n",
       "  Vehicle Type Taxi Company Borough Taxi Pick Up Location Bridge Highway Name  \\\n",
       "0          NaN                  NaN                   NaN                 NaN   \n",
       "1          NaN                  NaN                   NaN                 NaN   \n",
       "2          NaN                  NaN                   NaN                 NaN   \n",
       "3          NaN                  NaN                   NaN                 NaN   \n",
       "4          NaN                  NaN                   NaN                 NaN   \n",
       "\n",
       "  Bridge Highway Direction Road Ramp Bridge Highway Segment   Latitude  \\\n",
       "0                      NaN       NaN                    NaN  40.814810   \n",
       "1                      NaN       NaN                    NaN  40.688758   \n",
       "2                      NaN       NaN                    NaN  40.573588   \n",
       "3                      NaN       NaN                    NaN  40.796015   \n",
       "4                      NaN       NaN                    NaN  40.809081   \n",
       "\n",
       "   Longitude                                 Location  \n",
       "0 -73.921825   (40.8148099628792, -73.92182534717347)  \n",
       "1 -73.860937  (40.68875760242296, -73.86093696394687)  \n",
       "2 -73.992855  (40.57358775088775, -73.99285474116026)  \n",
       "3 -73.947288  (40.79601481468809, -73.94728791329261)  \n",
       "4 -73.938196  (40.80908068595664, -73.93819608404088)  \n",
       "\n",
       "[5 rows x 41 columns]"
      ]
     },
     "execution_count": 3,
     "metadata": {},
     "output_type": "execute_result"
    }
   ],
   "source": [
    "data.head()"
   ]
  },
  {
   "cell_type": "code",
   "execution_count": 4,
   "metadata": {},
   "outputs": [
    {
     "data": {
      "text/plain": [
       "(21242043, 41)"
      ]
     },
     "execution_count": 4,
     "metadata": {},
     "output_type": "execute_result"
    }
   ],
   "source": [
    "data.shape"
   ]
  },
  {
   "cell_type": "code",
   "execution_count": 9,
   "metadata": {},
   "outputs": [],
   "source": [
    "small_data = data[0:5000]"
   ]
  },
  {
   "cell_type": "code",
   "execution_count": 12,
   "metadata": {
    "scrolled": false
   },
   "outputs": [
    {
     "data": {
      "text/html": [
       "<div>\n",
       "<style scoped>\n",
       "    .dataframe tbody tr th:only-of-type {\n",
       "        vertical-align: middle;\n",
       "    }\n",
       "\n",
       "    .dataframe tbody tr th {\n",
       "        vertical-align: top;\n",
       "    }\n",
       "\n",
       "    .dataframe thead th {\n",
       "        text-align: right;\n",
       "    }\n",
       "</style>\n",
       "<table border=\"1\" class=\"dataframe\">\n",
       "  <thead>\n",
       "    <tr style=\"text-align: right;\">\n",
       "      <th></th>\n",
       "      <th>Unique Key</th>\n",
       "      <th>BBL</th>\n",
       "      <th>X Coordinate (State Plane)</th>\n",
       "      <th>Y Coordinate (State Plane)</th>\n",
       "      <th>Latitude</th>\n",
       "      <th>Longitude</th>\n",
       "    </tr>\n",
       "  </thead>\n",
       "  <tbody>\n",
       "    <tr>\n",
       "      <th>count</th>\n",
       "      <td>5.000000e+03</td>\n",
       "      <td>3.583000e+03</td>\n",
       "      <td>4.453000e+03</td>\n",
       "      <td>4453.000000</td>\n",
       "      <td>4453.000000</td>\n",
       "      <td>4453.000000</td>\n",
       "    </tr>\n",
       "    <tr>\n",
       "      <th>mean</th>\n",
       "      <td>3.540802e+07</td>\n",
       "      <td>2.859739e+09</td>\n",
       "      <td>1.003128e+06</td>\n",
       "      <td>200078.990344</td>\n",
       "      <td>40.715792</td>\n",
       "      <td>-73.931851</td>\n",
       "    </tr>\n",
       "    <tr>\n",
       "      <th>std</th>\n",
       "      <td>1.977364e+03</td>\n",
       "      <td>1.199981e+09</td>\n",
       "      <td>2.470540e+04</td>\n",
       "      <td>30466.750983</td>\n",
       "      <td>0.083623</td>\n",
       "      <td>0.089084</td>\n",
       "    </tr>\n",
       "    <tr>\n",
       "      <th>min</th>\n",
       "      <td>3.540466e+07</td>\n",
       "      <td>0.000000e+00</td>\n",
       "      <td>9.141620e+05</td>\n",
       "      <td>121250.000000</td>\n",
       "      <td>40.499226</td>\n",
       "      <td>-74.252032</td>\n",
       "    </tr>\n",
       "    <tr>\n",
       "      <th>25%</th>\n",
       "      <td>3.540629e+07</td>\n",
       "      <td>2.031170e+09</td>\n",
       "      <td>9.892590e+05</td>\n",
       "      <td>176773.000000</td>\n",
       "      <td>40.651791</td>\n",
       "      <td>-73.981958</td>\n",
       "    </tr>\n",
       "    <tr>\n",
       "      <th>50%</th>\n",
       "      <td>3.540801e+07</td>\n",
       "      <td>3.040480e+09</td>\n",
       "      <td>1.001353e+06</td>\n",
       "      <td>198582.000000</td>\n",
       "      <td>40.711738</td>\n",
       "      <td>-73.938316</td>\n",
       "    </tr>\n",
       "    <tr>\n",
       "      <th>75%</th>\n",
       "      <td>3.540974e+07</td>\n",
       "      <td>4.018840e+09</td>\n",
       "      <td>1.018287e+06</td>\n",
       "      <td>219821.000000</td>\n",
       "      <td>40.770027</td>\n",
       "      <td>-73.877012</td>\n",
       "    </tr>\n",
       "    <tr>\n",
       "      <th>max</th>\n",
       "      <td>3.541268e+07</td>\n",
       "      <td>5.080460e+09</td>\n",
       "      <td>1.066773e+06</td>\n",
       "      <td>269998.000000</td>\n",
       "      <td>40.907711</td>\n",
       "      <td>-73.702184</td>\n",
       "    </tr>\n",
       "  </tbody>\n",
       "</table>\n",
       "</div>"
      ],
      "text/plain": [
       "         Unique Key           BBL  X Coordinate (State Plane)  \\\n",
       "count  5.000000e+03  3.583000e+03                4.453000e+03   \n",
       "mean   3.540802e+07  2.859739e+09                1.003128e+06   \n",
       "std    1.977364e+03  1.199981e+09                2.470540e+04   \n",
       "min    3.540466e+07  0.000000e+00                9.141620e+05   \n",
       "25%    3.540629e+07  2.031170e+09                9.892590e+05   \n",
       "50%    3.540801e+07  3.040480e+09                1.001353e+06   \n",
       "75%    3.540974e+07  4.018840e+09                1.018287e+06   \n",
       "max    3.541268e+07  5.080460e+09                1.066773e+06   \n",
       "\n",
       "       Y Coordinate (State Plane)     Latitude    Longitude  \n",
       "count                 4453.000000  4453.000000  4453.000000  \n",
       "mean                200078.990344    40.715792   -73.931851  \n",
       "std                  30466.750983     0.083623     0.089084  \n",
       "min                 121250.000000    40.499226   -74.252032  \n",
       "25%                 176773.000000    40.651791   -73.981958  \n",
       "50%                 198582.000000    40.711738   -73.938316  \n",
       "75%                 219821.000000    40.770027   -73.877012  \n",
       "max                 269998.000000    40.907711   -73.702184  "
      ]
     },
     "execution_count": 12,
     "metadata": {},
     "output_type": "execute_result"
    }
   ],
   "source": [
    "small_data.describe()"
   ]
  },
  {
   "cell_type": "code",
   "execution_count": 45,
   "metadata": {},
   "outputs": [
    {
     "name": "stdout",
     "output_type": "stream",
     "text": [
      "2019-08-02 15:06:37.835510\n"
     ]
    }
   ],
   "source": [
    "import datetime\n",
    "print(datetime.datetime.now())"
   ]
  },
  {
   "cell_type": "code",
   "execution_count": 49,
   "metadata": {
    "scrolled": false
   },
   "outputs": [
    {
     "data": {
      "text/plain": [
       "2017"
      ]
     },
     "execution_count": 49,
     "metadata": {},
     "output_type": "execute_result"
    }
   ],
   "source": [
    "pd.to_datetime(small_data[\"Created Date\"][0]).year"
   ]
  },
  {
   "cell_type": "code",
   "execution_count": null,
   "metadata": {},
   "outputs": [],
   "source": []
  },
  {
   "cell_type": "code",
   "execution_count": 56,
   "metadata": {
    "scrolled": true
   },
   "outputs": [
    {
     "data": {
      "text/plain": [
       "0    02/02/2017 11:56:03 PM\n",
       "1    02/02/2017 03:18:24 PM\n",
       "2    02/02/2017 09:14:31 AM\n",
       "3    02/02/2017 10:07:13 PM\n",
       "4    02/02/2017 07:56:41 PM\n",
       "5    02/02/2017 01:14:19 PM\n",
       "6    02/03/2017 01:15:46 AM\n",
       "7    02/03/2017 12:34:10 AM\n",
       "8    02/03/2017 12:59:31 AM\n",
       "9    02/02/2017 10:27:37 PM\n",
       "Name: Created Date, dtype: object"
      ]
     },
     "execution_count": 56,
     "metadata": {},
     "output_type": "execute_result"
    }
   ],
   "source": [
    "small_data[\"Created Date\"][0:10]"
   ]
  },
  {
   "cell_type": "code",
   "execution_count": null,
   "metadata": {
    "scrolled": true
   },
   "outputs": [],
   "source": [
    "dd = data[\"Created Date\"].apply(lambda x: pd.to_datetime(x, format=\"%m/%d/%Y %I:%M:%S %p\"))"
   ]
  },
  {
   "cell_type": "code",
   "execution_count": null,
   "metadata": {},
   "outputs": [],
   "source": [
    "dd[0:10]"
   ]
  },
  {
   "cell_type": "code",
   "execution_count": 51,
   "metadata": {},
   "outputs": [
    {
     "ename": "AttributeError",
     "evalue": "'str' object has no attribute 'date'",
     "output_type": "error",
     "traceback": [
      "\u001b[1;31m---------------------------------------------------------------------------\u001b[0m",
      "\u001b[1;31mAttributeError\u001b[0m                            Traceback (most recent call last)",
      "\u001b[1;32m<ipython-input-51-d31af206df13>\u001b[0m in \u001b[0;36m<module>\u001b[1;34m\u001b[0m\n\u001b[1;32m----> 1\u001b[1;33m \u001b[0msmall_data\u001b[0m\u001b[1;33m[\u001b[0m\u001b[1;34m\"Created Date\"\u001b[0m\u001b[1;33m]\u001b[0m\u001b[1;33m.\u001b[0m\u001b[0mapply\u001b[0m\u001b[1;33m(\u001b[0m\u001b[1;32mlambda\u001b[0m \u001b[0mx\u001b[0m\u001b[1;33m:\u001b[0m \u001b[0mx\u001b[0m\u001b[1;33m.\u001b[0m\u001b[0mdate\u001b[0m\u001b[1;33m(\u001b[0m\u001b[1;33m)\u001b[0m\u001b[1;33m)\u001b[0m\u001b[1;33m\u001b[0m\u001b[1;33m\u001b[0m\u001b[0m\n\u001b[0m",
      "\u001b[1;32m~\\AppData\\Local\\Continuum\\anaconda3\\lib\\site-packages\\pandas\\core\\series.py\u001b[0m in \u001b[0;36mapply\u001b[1;34m(self, func, convert_dtype, args, **kwds)\u001b[0m\n\u001b[0;32m   3589\u001b[0m             \u001b[1;32melse\u001b[0m\u001b[1;33m:\u001b[0m\u001b[1;33m\u001b[0m\u001b[1;33m\u001b[0m\u001b[0m\n\u001b[0;32m   3590\u001b[0m                 \u001b[0mvalues\u001b[0m \u001b[1;33m=\u001b[0m \u001b[0mself\u001b[0m\u001b[1;33m.\u001b[0m\u001b[0mastype\u001b[0m\u001b[1;33m(\u001b[0m\u001b[0mobject\u001b[0m\u001b[1;33m)\u001b[0m\u001b[1;33m.\u001b[0m\u001b[0mvalues\u001b[0m\u001b[1;33m\u001b[0m\u001b[1;33m\u001b[0m\u001b[0m\n\u001b[1;32m-> 3591\u001b[1;33m                 \u001b[0mmapped\u001b[0m \u001b[1;33m=\u001b[0m \u001b[0mlib\u001b[0m\u001b[1;33m.\u001b[0m\u001b[0mmap_infer\u001b[0m\u001b[1;33m(\u001b[0m\u001b[0mvalues\u001b[0m\u001b[1;33m,\u001b[0m \u001b[0mf\u001b[0m\u001b[1;33m,\u001b[0m \u001b[0mconvert\u001b[0m\u001b[1;33m=\u001b[0m\u001b[0mconvert_dtype\u001b[0m\u001b[1;33m)\u001b[0m\u001b[1;33m\u001b[0m\u001b[1;33m\u001b[0m\u001b[0m\n\u001b[0m\u001b[0;32m   3592\u001b[0m \u001b[1;33m\u001b[0m\u001b[0m\n\u001b[0;32m   3593\u001b[0m         \u001b[1;32mif\u001b[0m \u001b[0mlen\u001b[0m\u001b[1;33m(\u001b[0m\u001b[0mmapped\u001b[0m\u001b[1;33m)\u001b[0m \u001b[1;32mand\u001b[0m \u001b[0misinstance\u001b[0m\u001b[1;33m(\u001b[0m\u001b[0mmapped\u001b[0m\u001b[1;33m[\u001b[0m\u001b[1;36m0\u001b[0m\u001b[1;33m]\u001b[0m\u001b[1;33m,\u001b[0m \u001b[0mSeries\u001b[0m\u001b[1;33m)\u001b[0m\u001b[1;33m:\u001b[0m\u001b[1;33m\u001b[0m\u001b[1;33m\u001b[0m\u001b[0m\n",
      "\u001b[1;32mpandas/_libs/lib.pyx\u001b[0m in \u001b[0;36mpandas._libs.lib.map_infer\u001b[1;34m()\u001b[0m\n",
      "\u001b[1;32m<ipython-input-51-d31af206df13>\u001b[0m in \u001b[0;36m<lambda>\u001b[1;34m(x)\u001b[0m\n\u001b[1;32m----> 1\u001b[1;33m \u001b[0msmall_data\u001b[0m\u001b[1;33m[\u001b[0m\u001b[1;34m\"Created Date\"\u001b[0m\u001b[1;33m]\u001b[0m\u001b[1;33m.\u001b[0m\u001b[0mapply\u001b[0m\u001b[1;33m(\u001b[0m\u001b[1;32mlambda\u001b[0m \u001b[0mx\u001b[0m\u001b[1;33m:\u001b[0m \u001b[0mx\u001b[0m\u001b[1;33m.\u001b[0m\u001b[0mdate\u001b[0m\u001b[1;33m(\u001b[0m\u001b[1;33m)\u001b[0m\u001b[1;33m)\u001b[0m\u001b[1;33m\u001b[0m\u001b[1;33m\u001b[0m\u001b[0m\n\u001b[0m",
      "\u001b[1;31mAttributeError\u001b[0m: 'str' object has no attribute 'date'"
     ]
    }
   ],
   "source": [
    "small_data[\"Created Date\"].apply(lambda x: x.date())"
   ]
  },
  {
   "cell_type": "code",
   "execution_count": 31,
   "metadata": {},
   "outputs": [
    {
     "name": "stdout",
     "output_type": "stream",
     "text": [
      "279.35290160386563\n",
      "16.735286672634928\n",
      "285.57637083323004\n",
      "16.735286672634928\n"
     ]
    },
    {
     "name": "stderr",
     "output_type": "stream",
     "text": [
      "C:\\Users\\xiangyangcao\\AppData\\Local\\Continuum\\anaconda3\\lib\\site-packages\\ipykernel_launcher.py:6: DeprecationWarning: Vincenty is deprecated and is going to be removed in geopy 2.0. Use `geopy.distance.geodesic` (or the default `geopy.distance.distance`) instead, which is more accurate and always converges.\n",
      "  \n",
      "C:\\Users\\xiangyangcao\\AppData\\Local\\Continuum\\anaconda3\\lib\\site-packages\\ipykernel_launcher.py:12: DeprecationWarning: Vincenty is deprecated and is going to be removed in geopy 2.0. Use `geopy.distance.geodesic` (or the default `geopy.distance.distance`) instead, which is more accurate and always converges.\n",
      "  if sys.path[0] == '':\n"
     ]
    }
   ],
   "source": [
    "import geopy.distance\n",
    "\n",
    "coords_1 = np.array( [52.2296756, 21.0122287] )\n",
    "coords_2 = np.array( [52.406374, 16.9251681] )\n",
    "\n",
    "print(geopy.distance.vincenty(coords_1, coords_2).km)\n",
    "print(np.square(coords_1 - coords_2).sum())\n",
    "\n",
    "coords_1 = np.array( [51.2296756, 21.0122287] )\n",
    "coords_2 = np.array( [51.406374, 16.9251681] )\n",
    "\n",
    "print(geopy.distance.vincenty(coords_1, coords_2).km)\n",
    "print(np.square(coords_1 - coords_2).sum())"
   ]
  },
  {
   "cell_type": "code",
   "execution_count": 29,
   "metadata": {},
   "outputs": [
    {
     "data": {
      "text/plain": [
       "16.735286672634928"
      ]
     },
     "execution_count": 29,
     "metadata": {},
     "output_type": "execute_result"
    }
   ],
   "source": [
    "np.square(coords_1 - coords_2).sum()"
   ]
  },
  {
   "cell_type": "code",
   "execution_count": null,
   "metadata": {},
   "outputs": [],
   "source": [
    "data.describe()"
   ]
  }
 ],
 "metadata": {
  "kernelspec": {
   "display_name": "Python 3",
   "language": "python",
   "name": "python3"
  },
  "language_info": {
   "codemirror_mode": {
    "name": "ipython",
    "version": 3
   },
   "file_extension": ".py",
   "mimetype": "text/x-python",
   "name": "python",
   "nbconvert_exporter": "python",
   "pygments_lexer": "ipython3",
   "version": "3.7.3"
  }
 },
 "nbformat": 4,
 "nbformat_minor": 2
}
